{
 "cells": [
  {
   "cell_type": "code",
   "execution_count": 4,
   "id": "119bae6a-ac99-448d-ad44-d066c885c0db",
   "metadata": {},
   "outputs": [
    {
     "name": "stdout",
     "output_type": "stream",
     "text": [
      "tensor([[ 8, 10, 12],\n",
      "        [14, 16, 18]])\n",
      "torch.Size([2, 3])\n",
      "torch.Size([2, 3])\n"
     ]
    }
   ],
   "source": [
    "import torch\n",
    "xx=[[1,2,3],[4,5,6]]\n",
    "x = torch.tensor(xx)\n",
    "y = torch.tensor([[7,8,9],[10,11,12]])\n",
    "z = x + y\n",
    "print(z) \n",
    "print(z.size()) \n",
    "print(x.size()) \n",
    "# print(xx.size())"
   ]
  },
  {
   "cell_type": "markdown",
   "id": "872830fc-a93f-4fed-9cc2-1e4fc9cb20ee",
   "metadata": {},
   "source": [
    "### the content of xx and x is the same, but z being a tensor allows us to use tensor methods"
   ]
  },
  {
   "cell_type": "code",
   "execution_count": 2,
   "id": "b9288b9a-d9d0-4186-821d-534ee34929d4",
   "metadata": {},
   "outputs": [
    {
     "name": "stdout",
     "output_type": "stream",
     "text": [
      "torch.LongTensor\n"
     ]
    }
   ],
   "source": [
    "print(x.type())"
   ]
  },
  {
   "cell_type": "code",
   "execution_count": 5,
   "id": "69cf373e-fd0e-419c-8761-30268b5e48d4",
   "metadata": {},
   "outputs": [],
   "source": [
    "d = torch.tensor(xx, dtype = torch.float)"
   ]
  },
  {
   "cell_type": "code",
   "execution_count": 6,
   "id": "f8a4c11e-dbd4-4c4b-8931-155179f91866",
   "metadata": {},
   "outputs": [
    {
     "name": "stdout",
     "output_type": "stream",
     "text": [
      "torch.FloatTensor\n"
     ]
    }
   ],
   "source": [
    "print(d.type())"
   ]
  },
  {
   "cell_type": "code",
   "execution_count": 7,
   "id": "d0a0af59-e99a-4610-a01b-8faaeeb656b7",
   "metadata": {},
   "outputs": [
    {
     "name": "stdout",
     "output_type": "stream",
     "text": [
      "tensor([[1., 2., 3.],\n",
      "        [4., 5., 6.]])\n"
     ]
    }
   ],
   "source": [
    "print(d)"
   ]
  },
  {
   "cell_type": "code",
   "execution_count": 9,
   "id": "cf5b0677-6ea7-467a-8aa5-e2b82717baa5",
   "metadata": {},
   "outputs": [],
   "source": [
    "d=d.type(torch.int)"
   ]
  },
  {
   "cell_type": "code",
   "execution_count": 10,
   "id": "4d360262-b935-4fbd-87c2-6863cd440806",
   "metadata": {},
   "outputs": [
    {
     "name": "stdout",
     "output_type": "stream",
     "text": [
      "tensor([[1, 2, 3],\n",
      "        [4, 5, 6]], dtype=torch.int32)\n"
     ]
    }
   ],
   "source": [
    "print(d)"
   ]
  },
  {
   "cell_type": "code",
   "execution_count": 11,
   "id": "87a0a959-f9fc-4fed-90bc-91c638f2f48e",
   "metadata": {},
   "outputs": [],
   "source": [
    "import numpy as np\n",
    "\n",
    "d= np.array([[1,2,3],[4,5,6]])"
   ]
  },
  {
   "cell_type": "code",
   "execution_count": 12,
   "id": "477aa58b-06c5-4026-bbd7-f5e618a93399",
   "metadata": {},
   "outputs": [
    {
     "name": "stdout",
     "output_type": "stream",
     "text": [
      "[[1 2 3]\n",
      " [4 5 6]]\n"
     ]
    }
   ],
   "source": [
    "print(d)"
   ]
  },
  {
   "cell_type": "code",
   "execution_count": 13,
   "id": "6bcbbfe1-8de2-4bae-9b19-158520382159",
   "metadata": {},
   "outputs": [],
   "source": [
    "d=torch.from_numpy(d)"
   ]
  },
  {
   "cell_type": "code",
   "execution_count": 14,
   "id": "aa9b28fb-2f45-4b51-af5c-34b8c6916196",
   "metadata": {},
   "outputs": [
    {
     "name": "stdout",
     "output_type": "stream",
     "text": [
      "tensor([[1, 2, 3],\n",
      "        [4, 5, 6]])\n"
     ]
    }
   ],
   "source": [
    "print(d)"
   ]
  },
  {
   "cell_type": "code",
   "execution_count": 15,
   "id": "18157f72-5147-4720-a2f3-116346aa9e35",
   "metadata": {},
   "outputs": [],
   "source": [
    "### print type and shape here\n",
    "### change type to something else from https://pytorch.org/docs/stable/tensors.html"
   ]
  },
  {
   "cell_type": "code",
   "execution_count": 16,
   "id": "c3079d7e-10ac-4189-b094-2738de1a684e",
   "metadata": {},
   "outputs": [
    {
     "name": "stdout",
     "output_type": "stream",
     "text": [
      "torch.Size([2, 3])\n",
      "torch.Size([2, 3])\n"
     ]
    }
   ],
   "source": [
    "print(z.shape) #shape same as size()\n",
    "print(x.shape)"
   ]
  },
  {
   "cell_type": "code",
   "execution_count": 17,
   "id": "02bb3ab7-62e5-4b91-a608-ede6750fe043",
   "metadata": {},
   "outputs": [],
   "source": [
    "x= x.unsqueeze(0)"
   ]
  },
  {
   "cell_type": "code",
   "execution_count": 18,
   "id": "2ac15340-703e-400c-bfd9-0b04fd24f289",
   "metadata": {},
   "outputs": [
    {
     "name": "stdout",
     "output_type": "stream",
     "text": [
      "torch.Size([1, 2, 3])\n"
     ]
    }
   ],
   "source": [
    "print(x.shape)"
   ]
  },
  {
   "cell_type": "code",
   "execution_count": 19,
   "id": "219abbe2-e2a8-47eb-aa0f-fc932472e171",
   "metadata": {},
   "outputs": [],
   "source": [
    "x= x.unsqueeze(2)"
   ]
  },
  {
   "cell_type": "code",
   "execution_count": 20,
   "id": "e99acfb0-a070-484f-ba55-ab0b7471544f",
   "metadata": {},
   "outputs": [
    {
     "name": "stdout",
     "output_type": "stream",
     "text": [
      "torch.Size([1, 2, 1, 3])\n"
     ]
    }
   ],
   "source": [
    "print(x.shape)"
   ]
  },
  {
   "cell_type": "code",
   "execution_count": 21,
   "id": "8f99b407-f98c-4b54-86c5-bdfdc5f33d54",
   "metadata": {},
   "outputs": [],
   "source": [
    "x= x.squeeze()"
   ]
  },
  {
   "cell_type": "code",
   "execution_count": 22,
   "id": "459e235f-b83d-4278-82ac-9fd9dcae41a7",
   "metadata": {},
   "outputs": [
    {
     "name": "stdout",
     "output_type": "stream",
     "text": [
      "torch.Size([2, 3])\n"
     ]
    }
   ],
   "source": [
    "print(x.shape)"
   ]
  },
  {
   "cell_type": "code",
   "execution_count": 23,
   "id": "80dde5d2-de3f-401e-8066-7a70c6396667",
   "metadata": {},
   "outputs": [],
   "source": [
    "z= z.squeeze()"
   ]
  },
  {
   "cell_type": "markdown",
   "id": "be4f25ad-3215-4b90-bc04-9af3388af1be",
   "metadata": {},
   "source": [
    "### what happened?"
   ]
  },
  {
   "cell_type": "code",
   "execution_count": 24,
   "id": "c995a071-f234-4586-a452-f99dcdeddef5",
   "metadata": {},
   "outputs": [
    {
     "name": "stdout",
     "output_type": "stream",
     "text": [
      "torch.Size([2, 3])\n"
     ]
    }
   ],
   "source": [
    "print(z.shape)"
   ]
  },
  {
   "cell_type": "code",
   "execution_count": null,
   "id": "cf121dee-2913-48f9-aba4-8cb46dbfd306",
   "metadata": {},
   "outputs": [],
   "source": []
  }
 ],
 "metadata": {
  "kernelspec": {
   "display_name": "Python 3 (ipykernel)",
   "language": "python",
   "name": "python3"
  },
  "language_info": {
   "codemirror_mode": {
    "name": "ipython",
    "version": 3
   },
   "file_extension": ".py",
   "mimetype": "text/x-python",
   "name": "python",
   "nbconvert_exporter": "python",
   "pygments_lexer": "ipython3",
   "version": "3.9.18"
  }
 },
 "nbformat": 4,
 "nbformat_minor": 5
}
