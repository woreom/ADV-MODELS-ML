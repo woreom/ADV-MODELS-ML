{
  "cells": [
    {
      "cell_type": "code",
      "execution_count": 1,
      "id": "228f5af7-b9c8-4a1e-9abd-35a6e1b6d8d2",
      "metadata": {
        "id": "228f5af7-b9c8-4a1e-9abd-35a6e1b6d8d2"
      },
      "outputs": [],
      "source": [
        "import torch"
      ]
    },
    {
      "cell_type": "code",
      "execution_count": 2,
      "id": "YkMQ0b0_1edO",
      "metadata": {
        "id": "YkMQ0b0_1edO"
      },
      "outputs": [
        {
          "name": "stdout",
          "output_type": "stream",
          "text": [
            "Cloning into 'RowanDLclassNEA'...\n",
            "remote: Enumerating objects: 1833, done.\u001b[K\n",
            "remote: Counting objects: 100% (7/7), done.\u001b[K\n",
            "remote: Compressing objects: 100% (7/7), done.\u001b[K\n",
            "remote: Total 1833 (delta 1), reused 5 (delta 0), pack-reused 1826\u001b[K\n",
            "Receiving objects: 100% (1833/1833), 57.56 MiB | 14.09 MiB/s, done.\n",
            "Resolving deltas: 100% (23/23), done.\n",
            "Updating files: 100% (3602/3602), done.\n"
          ]
        }
      ],
      "source": [
        "!git clone https://github.com/skokalj/RowanDLclassNEA.git"
      ]
    },
    {
      "cell_type": "code",
      "execution_count": 3,
      "id": "RZ6zeuAN2GM5",
      "metadata": {
        "id": "RZ6zeuAN2GM5"
      },
      "outputs": [
        {
          "name": "stdout",
          "output_type": "stream",
          "text": [
            "/mnt/c/M3/Projects/Rowan/ADV MODELS/RowanDLclassNEA\n"
          ]
        }
      ],
      "source": [
        "%cd RowanDLclassNEA/"
      ]
    },
    {
      "cell_type": "code",
      "execution_count": 4,
      "id": "qtn7tDwnNKct",
      "metadata": {
        "id": "qtn7tDwnNKct"
      },
      "outputs": [
        {
          "name": "stdout",
          "output_type": "stream",
          "text": [
            "Cr_100.bmp  Cr_146.bmp\tCr_191.bmp  Cr_236.bmp\tCr_281.bmp  Cr_55.bmp\n",
            "Cr_101.bmp  Cr_147.bmp\tCr_192.bmp  Cr_237.bmp\tCr_282.bmp  Cr_56.bmp\n",
            "Cr_102.bmp  Cr_148.bmp\tCr_193.bmp  Cr_238.bmp\tCr_283.bmp  Cr_57.bmp\n",
            "Cr_103.bmp  Cr_149.bmp\tCr_194.bmp  Cr_239.bmp\tCr_284.bmp  Cr_58.bmp\n",
            "Cr_104.bmp  Cr_14.bmp\tCr_195.bmp  Cr_23.bmp\tCr_285.bmp  Cr_59.bmp\n",
            "Cr_105.bmp  Cr_150.bmp\tCr_196.bmp  Cr_240.bmp\tCr_286.bmp  Cr_5.bmp\n",
            "Cr_106.bmp  Cr_151.bmp\tCr_197.bmp  Cr_241.bmp\tCr_287.bmp  Cr_60.bmp\n",
            "Cr_107.bmp  Cr_152.bmp\tCr_198.bmp  Cr_242.bmp\tCr_288.bmp  Cr_61.bmp\n",
            "Cr_108.bmp  Cr_153.bmp\tCr_199.bmp  Cr_243.bmp\tCr_289.bmp  Cr_62.bmp\n",
            "Cr_109.bmp  Cr_154.bmp\tCr_19.bmp   Cr_244.bmp\tCr_28.bmp   Cr_63.bmp\n",
            "Cr_10.bmp   Cr_155.bmp\tCr_1.bmp    Cr_245.bmp\tCr_290.bmp  Cr_64.bmp\n",
            "Cr_110.bmp  Cr_156.bmp\tCr_200.bmp  Cr_246.bmp\tCr_291.bmp  Cr_65.bmp\n",
            "Cr_111.bmp  Cr_157.bmp\tCr_201.bmp  Cr_247.bmp\tCr_292.bmp  Cr_66.bmp\n",
            "Cr_112.bmp  Cr_158.bmp\tCr_202.bmp  Cr_248.bmp\tCr_293.bmp  Cr_67.bmp\n",
            "Cr_113.bmp  Cr_159.bmp\tCr_203.bmp  Cr_249.bmp\tCr_294.bmp  Cr_68.bmp\n",
            "Cr_114.bmp  Cr_15.bmp\tCr_204.bmp  Cr_24.bmp\tCr_295.bmp  Cr_69.bmp\n",
            "Cr_115.bmp  Cr_160.bmp\tCr_205.bmp  Cr_250.bmp\tCr_296.bmp  Cr_6.bmp\n",
            "Cr_116.bmp  Cr_161.bmp\tCr_206.bmp  Cr_251.bmp\tCr_297.bmp  Cr_70.bmp\n",
            "Cr_117.bmp  Cr_162.bmp\tCr_207.bmp  Cr_252.bmp\tCr_298.bmp  Cr_71.bmp\n",
            "Cr_118.bmp  Cr_163.bmp\tCr_208.bmp  Cr_253.bmp\tCr_299.bmp  Cr_72.bmp\n",
            "Cr_119.bmp  Cr_164.bmp\tCr_209.bmp  Cr_254.bmp\tCr_29.bmp   Cr_73.bmp\n",
            "Cr_11.bmp   Cr_165.bmp\tCr_20.bmp   Cr_255.bmp\tCr_2.bmp    Cr_74.bmp\n",
            "Cr_120.bmp  Cr_166.bmp\tCr_210.bmp  Cr_256.bmp\tCr_300.bmp  Cr_75.bmp\n",
            "Cr_121.bmp  Cr_167.bmp\tCr_211.bmp  Cr_257.bmp\tCr_30.bmp   Cr_76.bmp\n",
            "Cr_122.bmp  Cr_168.bmp\tCr_212.bmp  Cr_258.bmp\tCr_31.bmp   Cr_77.bmp\n",
            "Cr_123.bmp  Cr_169.bmp\tCr_213.bmp  Cr_259.bmp\tCr_32.bmp   Cr_78.bmp\n",
            "Cr_124.bmp  Cr_16.bmp\tCr_214.bmp  Cr_25.bmp\tCr_33.bmp   Cr_79.bmp\n",
            "Cr_125.bmp  Cr_170.bmp\tCr_215.bmp  Cr_260.bmp\tCr_34.bmp   Cr_7.bmp\n",
            "Cr_126.bmp  Cr_171.bmp\tCr_216.bmp  Cr_261.bmp\tCr_35.bmp   Cr_80.bmp\n",
            "Cr_127.bmp  Cr_172.bmp\tCr_217.bmp  Cr_262.bmp\tCr_36.bmp   Cr_81.bmp\n",
            "Cr_128.bmp  Cr_173.bmp\tCr_218.bmp  Cr_263.bmp\tCr_37.bmp   Cr_82.bmp\n",
            "Cr_129.bmp  Cr_174.bmp\tCr_219.bmp  Cr_264.bmp\tCr_38.bmp   Cr_83.bmp\n",
            "Cr_12.bmp   Cr_175.bmp\tCr_21.bmp   Cr_265.bmp\tCr_39.bmp   Cr_84.bmp\n",
            "Cr_130.bmp  Cr_176.bmp\tCr_220.bmp  Cr_266.bmp\tCr_3.bmp    Cr_85.bmp\n",
            "Cr_131.bmp  Cr_177.bmp\tCr_221.bmp  Cr_267.bmp\tCr_40.bmp   Cr_86.bmp\n",
            "Cr_132.bmp  Cr_178.bmp\tCr_222.bmp  Cr_268.bmp\tCr_41.bmp   Cr_87.bmp\n",
            "Cr_133.bmp  Cr_179.bmp\tCr_223.bmp  Cr_269.bmp\tCr_42.bmp   Cr_88.bmp\n",
            "Cr_134.bmp  Cr_17.bmp\tCr_224.bmp  Cr_26.bmp\tCr_43.bmp   Cr_89.bmp\n",
            "Cr_135.bmp  Cr_180.bmp\tCr_225.bmp  Cr_270.bmp\tCr_44.bmp   Cr_8.bmp\n",
            "Cr_136.bmp  Cr_181.bmp\tCr_226.bmp  Cr_271.bmp\tCr_45.bmp   Cr_90.bmp\n",
            "Cr_137.bmp  Cr_182.bmp\tCr_227.bmp  Cr_272.bmp\tCr_46.bmp   Cr_91.bmp\n",
            "Cr_138.bmp  Cr_183.bmp\tCr_228.bmp  Cr_273.bmp\tCr_47.bmp   Cr_92.bmp\n",
            "Cr_139.bmp  Cr_184.bmp\tCr_229.bmp  Cr_274.bmp\tCr_48.bmp   Cr_93.bmp\n",
            "Cr_13.bmp   Cr_185.bmp\tCr_22.bmp   Cr_275.bmp\tCr_49.bmp   Cr_94.bmp\n",
            "Cr_140.bmp  Cr_186.bmp\tCr_230.bmp  Cr_276.bmp\tCr_4.bmp    Cr_95.bmp\n",
            "Cr_141.bmp  Cr_187.bmp\tCr_231.bmp  Cr_277.bmp\tCr_50.bmp   Cr_96.bmp\n",
            "Cr_142.bmp  Cr_188.bmp\tCr_232.bmp  Cr_278.bmp\tCr_51.bmp   Cr_97.bmp\n",
            "Cr_143.bmp  Cr_189.bmp\tCr_233.bmp  Cr_279.bmp\tCr_52.bmp   Cr_98.bmp\n",
            "Cr_144.bmp  Cr_18.bmp\tCr_234.bmp  Cr_27.bmp\tCr_53.bmp   Cr_99.bmp\n",
            "Cr_145.bmp  Cr_190.bmp\tCr_235.bmp  Cr_280.bmp\tCr_54.bmp   Cr_9.bmp\n"
          ]
        }
      ],
      "source": [
        "!ls NEUdata/Cr"
      ]
    },
    {
      "cell_type": "code",
      "execution_count": 5,
      "id": "90xnaLETKbKx",
      "metadata": {
        "id": "90xnaLETKbKx"
      },
      "outputs": [
        {
          "name": "stdout",
          "output_type": "stream",
          "text": [
            "NEUdata  NEUdata_split\tREADME.md\n"
          ]
        }
      ],
      "source": [
        "!ls"
      ]
    },
    {
      "cell_type": "code",
      "execution_count": 2,
      "id": "3b2f1fd4-b6b0-4330-af80-24f4624e3393",
      "metadata": {
        "id": "3b2f1fd4-b6b0-4330-af80-24f4624e3393"
      },
      "outputs": [
        {
          "data": {
            "text/plain": [
              "numpy.ndarray"
            ]
          },
          "execution_count": 2,
          "metadata": {},
          "output_type": "execute_result"
        }
      ],
      "source": [
        "import os\n",
        "from PIL import Image\n",
        "from torchvision import transforms\n",
        "from torchvision.datasets import DatasetFolder\n",
        "import cv2\n",
        "import numpy as np\n",
        "\n",
        "str =\"./RowanDLclassNEA/NEUdata/Cr/Cr_10.bmp\"\n",
        "test_image = cv2.imread(str)\n",
        "type(test_image)"
      ]
    },
    {
      "cell_type": "code",
      "execution_count": 12,
      "id": "E4_WyiOHTXvF",
      "metadata": {
        "id": "E4_WyiOHTXvF"
      },
      "outputs": [],
      "source": [
        "def load_image(img_path:str):\n",
        "  test_image = cv2.imread(str)\n",
        "  test_image = Image.fromarray(test_image)\n",
        "  return test_image\n",
        "\n",
        "dset = DatasetFolder(root='./RowanDLclassNEA/NEUdata', loader = load_image, extensions = ('.bmp',))\n"
      ]
    },
    {
      "cell_type": "code",
      "execution_count": 13,
      "id": "261970e1-3ee3-46ad-85ac-c2f071aea6b3",
      "metadata": {
        "id": "261970e1-3ee3-46ad-85ac-c2f071aea6b3"
      },
      "outputs": [
        {
          "data": {
            "text/plain": [
              "1800"
            ]
          },
          "execution_count": 13,
          "metadata": {},
          "output_type": "execute_result"
        }
      ],
      "source": [
        "len(dset)"
      ]
    },
    {
      "cell_type": "code",
      "execution_count": 14,
      "id": "770c887a-22cf-47ac-86fd-c1654d065042",
      "metadata": {
        "id": "770c887a-22cf-47ac-86fd-c1654d065042"
      },
      "outputs": [
        {
          "data": {
            "image/jpeg": "[encoded data removed]",
            "image/png": "[encoded data removed]",
            "text/plain": [
              "<PIL.Image.Image image mode=RGB size=200x200>"
            ]
          },
          "execution_count": 14,
          "metadata": {},
          "output_type": "execute_result"
        }
      ],
      "source": [
        "dset[0][0]"
      ]
    },
    {
      "cell_type": "code",
      "execution_count": 7,
      "id": "030bfd4e-ba02-4ee0-a0ba-73b128dcfada",
      "metadata": {
        "id": "030bfd4e-ba02-4ee0-a0ba-73b128dcfada"
      },
      "outputs": [
        {
          "name": "stdout",
          "output_type": "stream",
          "text": [
            "<class 'numpy.ndarray'>\n"
          ]
        }
      ],
      "source": [
        "data, label = dset[0]\n",
        "print(type(data))"
      ]
    },
    {
      "cell_type": "code",
      "execution_count": 8,
      "id": "c9ac283a-9708-4f30-8119-73a45e500e3d",
      "metadata": {
        "id": "c9ac283a-9708-4f30-8119-73a45e500e3d"
      },
      "outputs": [
        {
          "name": "stdout",
          "output_type": "stream",
          "text": [
            "[[[163 163 163]\n",
            "  [160 160 160]\n",
            "  [148 148 148]\n",
            "  ...\n",
            "  [ 77  77  77]\n",
            "  [ 71  71  71]\n",
            "  [ 85  85  85]]\n",
            "\n",
            " [[187 187 187]\n",
            "  [166 166 166]\n",
            "  [172 172 172]\n",
            "  ...\n",
            "  [ 86  86  86]\n",
            "  [ 67  67  67]\n",
            "  [ 78  78  78]]\n",
            "\n",
            " [[185 185 185]\n",
            "  [175 175 175]\n",
            "  [170 170 170]\n",
            "  ...\n",
            "  [ 92  92  92]\n",
            "  [ 78  78  78]\n",
            "  [ 75  75  75]]\n",
            "\n",
            " ...\n",
            "\n",
            " [[181 181 181]\n",
            "  [178 178 178]\n",
            "  [191 191 191]\n",
            "  ...\n",
            "  [ 78  78  78]\n",
            "  [ 79  79  79]\n",
            "  [ 79  79  79]]\n",
            "\n",
            " [[154 154 154]\n",
            "  [180 180 180]\n",
            "  [175 175 175]\n",
            "  ...\n",
            "  [ 67  67  67]\n",
            "  [ 71  71  71]\n",
            "  [ 65  65  65]]\n",
            "\n",
            " [[161 161 161]\n",
            "  [177 177 177]\n",
            "  [141 141 141]\n",
            "  ...\n",
            "  [ 68  68  68]\n",
            "  [ 57  57  57]\n",
            "  [ 53  53  53]]]\n"
          ]
        }
      ],
      "source": [
        "print(data)"
      ]
    },
    {
      "cell_type": "markdown",
      "id": "cae08c8c-7d7b-4c7a-b1d6-9f0c53a83873",
      "metadata": {
        "id": "cae08c8c-7d7b-4c7a-b1d6-9f0c53a83873"
      },
      "source": [
        "#### I need to write transfrom to make it compatible with AlexNet"
      ]
    },
    {
      "cell_type": "code",
      "execution_count": 15,
      "id": "4b7a2429-8769-459e-8fa2-d76ea098f7c7",
      "metadata": {
        "id": "4b7a2429-8769-459e-8fa2-d76ea098f7c7"
      },
      "outputs": [],
      "source": [
        "from torchvision import transforms\n",
        "\n",
        "transform = transforms.Compose([\n",
        "  transforms.Resize(256),\n",
        "  transforms.CenterCrop(224),\n",
        "  transforms.ToTensor(),\n",
        "  transforms.Normalize(\n",
        "      mean=[0.485, 0.456, 0.406],\n",
        "      std=[0.229, 0.224, 0.225])])\n",
        "\n",
        "dset = DatasetFolder(root='./RowanDLclassNEA/NEUdata', loader = load_image, extensions = ('.bmp',), transform = transform)"
      ]
    },
    {
      "cell_type": "code",
      "execution_count": 16,
      "id": "5c626d8b-e903-4570-84a6-98ab02b6599d",
      "metadata": {
        "id": "5c626d8b-e903-4570-84a6-98ab02b6599d"
      },
      "outputs": [
        {
          "name": "stdout",
          "output_type": "stream",
          "text": [
            "75\n",
            "38\n"
          ]
        }
      ],
      "source": [
        "from torch.utils.data import random_split\n",
        "\n",
        "train_set, val_set = random_split(\n",
        "                      dset,\n",
        "                      [1200, 600])\n",
        "\n",
        "trainloader = torch.utils.data.DataLoader(\n",
        "                    train_set,\n",
        "                    batch_size=16,\n",
        "                    shuffle=True)\n",
        "\n",
        "valloader = torch.utils.data.DataLoader(\n",
        "                    val_set,\n",
        "                    batch_size=16,\n",
        "                    shuffle=True)\n",
        "\n",
        "print(len(trainloader))\n",
        "# out: 2500\n",
        "print(len(valloader))\n",
        "# out: 625"
      ]
    },
    {
      "cell_type": "code",
      "execution_count": 17,
      "id": "225b3d92-faf6-4caf-b3b1-9a747f2cb4d7",
      "metadata": {
        "id": "225b3d92-faf6-4caf-b3b1-9a747f2cb4d7"
      },
      "outputs": [],
      "source": [
        "dd,ll = next(iter(trainloader))"
      ]
    },
    {
      "cell_type": "markdown",
      "id": "2L571KlC3n3s",
      "metadata": {
        "id": "2L571KlC3n3s"
      },
      "source": [
        "Let's try again: if numpy array returned by load_image is not acceptable, what is?\n",
        "What is the format of the images we used to build datasets so far?"
      ]
    },
    {
      "cell_type": "code",
      "execution_count": null,
      "id": "x5uxwshT3m6p",
      "metadata": {
        "id": "x5uxwshT3m6p"
      },
      "outputs": [],
      "source": [
        "def load_image(img_path:str):\n",
        "        np_img = cv2.imread(img_path) #CV2 to open and convert BMP mages into NUMPY\n",
        "        \n",
        "        return ???  #we need Image for the transforms to work correctly\n",
        "\n",
        "dset = DatasetFolder(root='NEUdata', loader = load_image, extensions = ('.bmp',))\n"
      ]
    },
    {
      "cell_type": "code",
      "execution_count": null,
      "id": "93gG-WamISv1",
      "metadata": {
        "id": "93gG-WamISv1"
      },
      "outputs": [],
      "source": [
        "data, label = dset[0]\n",
        "print(type(data))\n",
        "print(data)"
      ]
    },
    {
      "cell_type": "code",
      "execution_count": null,
      "id": "0r0IBkqnIfKw",
      "metadata": {
        "id": "0r0IBkqnIfKw"
      },
      "outputs": [],
      "source": [
        "dset = DatasetFolder(root='NEUdata', loader = load_image, extensions = ('.bmp',), transform = transform)\n",
        "train_set, val_set = random_split(\n",
        "                      dset,\n",
        "                      [1200, 600])\n",
        "\n",
        "trainloader = torch.utils.data.DataLoader(\n",
        "                    train_set,\n",
        "                    batch_size=16,\n",
        "                    shuffle=True)\n",
        "\n",
        "valloader = torch.utils.data.DataLoader(\n",
        "                    val_set,\n",
        "                    batch_size=16,\n",
        "                    shuffle=True)\n"
      ]
    },
    {
      "cell_type": "code",
      "execution_count": null,
      "id": "BJ4Q8uH8IssV",
      "metadata": {
        "id": "BJ4Q8uH8IssV"
      },
      "outputs": [],
      "source": [
        "dd,ll = next(iter(trainloader))"
      ]
    },
    {
      "cell_type": "code",
      "execution_count": null,
      "id": "46aed697-caf4-4b96-ac3f-2f4b033e9bd8",
      "metadata": {
        "id": "46aed697-caf4-4b96-ac3f-2f4b033e9bd8"
      },
      "outputs": [],
      "source": [
        "dd.shape"
      ]
    },
    {
      "cell_type": "code",
      "execution_count": null,
      "id": "8c0eba80-1b80-4b10-821a-bcf65537bb7d",
      "metadata": {
        "id": "8c0eba80-1b80-4b10-821a-bcf65537bb7d"
      },
      "outputs": [],
      "source": [
        "print(dd)"
      ]
    },
    {
      "cell_type": "code",
      "execution_count": null,
      "id": "dfc177fa-4ef9-43b6-ac5e-ab08db53b67d",
      "metadata": {
        "id": "dfc177fa-4ef9-43b6-ac5e-ab08db53b67d"
      },
      "outputs": [],
      "source": [
        "print(transform)"
      ]
    },
    {
      "cell_type": "code",
      "execution_count": 20,
      "id": "6a4547e4",
      "metadata": {},
      "outputs": [
        {
          "data": {
            "text/plain": [
              "torch.Size([2, 6, 112, 112])"
            ]
          },
          "execution_count": 20,
          "metadata": {},
          "output_type": "execute_result"
        }
      ],
      "source": [
        "import torch.nn as nn\n",
        "conv1 = nn.Conv2d(in_channels=3, out_channels=6, kernel_size=3, padding = 1, stride = 2)\n",
        "conv1(torch.randn(2, 3, 224, 224)).shape"
      ]
    }
  ],
  "metadata": {
    "colab": {
      "provenance": []
    },
    "kernelspec": {
      "display_name": "Python 3 (ipykernel)",
      "language": "python",
      "name": "python3"
    },
    "language_info": {
      "codemirror_mode": {
        "name": "ipython",
        "version": 3
      },
      "file_extension": ".py",
      "mimetype": "text/x-python",
      "name": "python",
      "nbconvert_exporter": "python",
      "pygments_lexer": "ipython3",
      "version": "3.9.18"
    }
  },
  "nbformat": 4,
  "nbformat_minor": 5
}
