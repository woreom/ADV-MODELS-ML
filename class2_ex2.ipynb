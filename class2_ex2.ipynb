{
 "cells": [
  {
   "cell_type": "code",
   "execution_count": 1,
   "id": "ce923413-5b96-478f-b1c0-cd7c97d7a370",
   "metadata": {},
   "outputs": [],
   "source": [
    "import torch\n",
    "m=2\n",
    "k=3\n",
    "j=4\n",
    "a = torch.rand(m, k)\n",
    "b = torch.rand(k, j)\n",
    "c=torch.matmul(a, b)"
   ]
  },
  {
   "cell_type": "code",
   "execution_count": 2,
   "id": "dd19c642-a78c-42a7-87a4-2735163bbd9c",
   "metadata": {},
   "outputs": [
    {
     "data": {
      "text/plain": [
       "torch.Size([2, 4])"
      ]
     },
     "execution_count": 2,
     "metadata": {},
     "output_type": "execute_result"
    }
   ],
   "source": [
    "c.shape"
   ]
  },
  {
   "cell_type": "code",
   "execution_count": null,
   "id": "bfcdee80-abd8-4093-8ecc-e258b7c5e070",
   "metadata": {},
   "outputs": [],
   "source": [
    "c.shape"
   ]
  },
  {
   "cell_type": "code",
   "execution_count": null,
   "id": "e8035ddd-96f3-4af5-92fd-bc3d1032646f",
   "metadata": {},
   "outputs": [],
   "source": [
    "d=torch.bmm(a, b)"
   ]
  },
  {
   "cell_type": "code",
   "execution_count": null,
   "id": "d1ccbe47-dae5-4dac-855f-45e004cecd80",
   "metadata": {},
   "outputs": [],
   "source": [
    "d.shape"
   ]
  },
  {
   "cell_type": "code",
   "execution_count": null,
   "id": "695be235-8785-4667-a8d9-edbd20c7d365",
   "metadata": {},
   "outputs": [],
   "source": [
    "df=c-d"
   ]
  },
  {
   "cell_type": "code",
   "execution_count": null,
   "id": "7f3fe922-acc6-40fc-bd6a-777edfb54083",
   "metadata": {},
   "outputs": [],
   "source": [
    "df"
   ]
  },
  {
   "cell_type": "code",
   "execution_count": null,
   "id": "48f8ee3e-832e-465a-91a6-27af1381d0c4",
   "metadata": {},
   "outputs": [],
   "source": [
    "torch.norm(df)"
   ]
  },
  {
   "cell_type": "markdown",
   "id": "7c6bd2b7-85b2-44ba-980d-ee7efe8fb76c",
   "metadata": {},
   "source": [
    "### torch.bmm() is generally more efficient for performing batch matrix-matrix multiplication, while torch.mm() is more flexible"
   ]
  },
  {
   "cell_type": "code",
   "execution_count": null,
   "id": "f76bf076-4f89-4062-b846-7fcfe0c7790f",
   "metadata": {},
   "outputs": [],
   "source": []
  }
 ],
 "metadata": {
  "kernelspec": {
   "display_name": "Python 3 (ipykernel)",
   "language": "python",
   "name": "python3"
  },
  "language_info": {
   "codemirror_mode": {
    "name": "ipython",
    "version": 3
   },
   "file_extension": ".py",
   "mimetype": "text/x-python",
   "name": "python",
   "nbconvert_exporter": "python",
   "pygments_lexer": "ipython3",
   "version": "3.9.0"
  }
 },
 "nbformat": 4,
 "nbformat_minor": 5
}
