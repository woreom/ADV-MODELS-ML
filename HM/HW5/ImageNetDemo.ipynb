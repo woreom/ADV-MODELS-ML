{
 "cells": [
  {
   "cell_type": "code",
   "execution_count": 3,
   "id": "25366628-ba4d-4aaa-a087-93c9bb3c4690",
   "metadata": {},
   "outputs": [
    {
     "ename": "ImportError",
     "evalue": "cannot import name 'DATA_FOLDER' from 'Datasets.ImageNetDataset' (/mnt/c/M3/Projects/Rowan/ADV MODELS/HM/HW5/Datasets/ImageNetDataset.py)",
     "output_type": "error",
     "traceback": [
      "\u001b[0;31m---------------------------------------------------------------------------\u001b[0m",
      "\u001b[0;31mImportError\u001b[0m                               Traceback (most recent call last)",
      "Cell \u001b[0;32mIn[3], line 1\u001b[0m\n\u001b[0;32m----> 1\u001b[0m \u001b[38;5;28;01mfrom\u001b[39;00m \u001b[38;5;21;01mDatasets\u001b[39;00m\u001b[38;5;21;01m.\u001b[39;00m\u001b[38;5;21;01mImageNetDataset\u001b[39;00m \u001b[38;5;28;01mimport\u001b[39;00m DATA_FOLDER, ImageNet100\n\u001b[1;32m      3\u001b[0m \u001b[38;5;28;01mfrom\u001b[39;00m \u001b[38;5;21;01mtorchvision\u001b[39;00m \u001b[38;5;28;01mimport\u001b[39;00m transforms\n\u001b[1;32m      6\u001b[0m \u001b[38;5;28;01mfrom\u001b[39;00m \u001b[38;5;21;01mtorch\u001b[39;00m\u001b[38;5;21;01m.\u001b[39;00m\u001b[38;5;21;01mutils\u001b[39;00m\u001b[38;5;21;01m.\u001b[39;00m\u001b[38;5;21;01mdata\u001b[39;00m \u001b[38;5;28;01mimport\u001b[39;00m random_split\n",
      "\u001b[0;31mImportError\u001b[0m: cannot import name 'DATA_FOLDER' from 'Datasets.ImageNetDataset' (/mnt/c/M3/Projects/Rowan/ADV MODELS/HM/HW5/Datasets/ImageNetDataset.py)"
     ]
    }
   ],
   "source": [
    "from Datasets.ImageNetDataset import DATA_FOLDER, ImageNet100\n",
    "\n",
    "from torchvision import transforms\n",
    "\n",
    "\n",
    "from torch.utils.data import random_split\n",
    "\n",
    "\n",
    "\n",
    "\n",
    "import torch\n",
    "torch.cuda.empty_cache()\n",
    "\n",
    "ROOT_FOLDER =  \"../../datasets/NEUdata\"\n",
    "\n",
    "print(DATA_FOLDER)\n",
    "\n",
    "ds_train = ImageNet100(ROOT_FOLDER, split=\"train\", transform=transforms.Compose([\n",
    "            transforms.CenterCrop(224),\n",
    "            transforms.RandomHorizontalFlip(),\n",
    "            transforms.ToTensor()]))\n",
    "ds_train, _ = random_split(ds_train, [len(ds_train) - int((7/8)*len(ds_train)),int((7/8)*len(ds_train))])\n",
    "\n",
    "ds_test = ImageNet100(DATA_FOLDER, split='val', transform=transforms.Compose([\n",
    "                                                            transforms.CenterCrop(224),\n",
    "                                                            transforms.ToTensor() ]))\n",
    "\n",
    "ds_test, _ = random_split(ds_test, [len(ds_test) - int((7/8)*len(ds_test)),int((7/8)*len(ds_test))])\n",
    "\n",
    "\n"
   ]
  }
 ],
 "metadata": {
  "kernelspec": {
   "display_name": "Python 3 (ipykernel)",
   "language": "python",
   "name": "python3"
  },
  "language_info": {
   "codemirror_mode": {
    "name": "ipython",
    "version": 3
   },
   "file_extension": ".py",
   "mimetype": "text/x-python",
   "name": "python",
   "nbconvert_exporter": "python",
   "pygments_lexer": "ipython3",
   "version": "3.9.18"
  }
 },
 "nbformat": 4,
 "nbformat_minor": 5
}
