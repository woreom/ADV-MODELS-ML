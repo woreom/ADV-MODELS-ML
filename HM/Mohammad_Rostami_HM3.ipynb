{
 "cells": [
  {
   "cell_type": "markdown",
   "metadata": {},
   "source": [
    "# Imports"
   ]
  },
  {
   "cell_type": "code",
   "execution_count": 135,
   "metadata": {},
   "outputs": [
    {
     "name": "stdout",
     "output_type": "stream",
     "text": [
      "2.1.2\n",
      "0.16.2\n"
     ]
    }
   ],
   "source": [
    "import os\n",
    "import numpy as np\n",
    "import pandas as pd\n",
    "from tqdm import tqdm\n",
    "\n",
    "\n",
    "import torch\n",
    "import torch.nn as nn\n",
    "from torch import optim\n",
    "import torch.nn.functional as F\n",
    "from torch.utils.data import random_split\n",
    "from torch.utils.data.dataset import Subset\n",
    "\n",
    "import torchvision\n",
    "import torchvision.transforms as transforms\n",
    "from torchvision.datasets import CIFAR10\n",
    "from torchvision.models.vgg import vgg16\n",
    "import matplotlib.pyplot as plt\n",
    "from torchinfo import summary\n",
    "\n",
    "print(torch.__version__)\n",
    "print(torchvision.__version__)"
   ]
  },
  {
   "cell_type": "code",
   "execution_count": 2,
   "metadata": {},
   "outputs": [],
   "source": [
    "def create_folder(path):\n",
    "    if not os.path.exists(path):\n",
    "        os.makedirs(path)"
   ]
  },
  {
   "cell_type": "markdown",
   "metadata": {},
   "source": [
    "# Problem 1"
   ]
  },
  {
   "cell_type": "markdown",
   "metadata": {},
   "source": [
    "\n",
    "\n",
    "## Dataset & Dataloader"
   ]
  },
  {
   "cell_type": "code",
   "execution_count": 13,
   "metadata": {},
   "outputs": [
    {
     "name": "stdout",
     "output_type": "stream",
     "text": [
      "Files already downloaded and verified\n",
      "Dataset CIFAR10\n",
      "    Number of datapoints: 50000\n",
      "    Root location: data//CIFAR10/train/\n",
      "    Split: Train\n",
      "    StandardTransform\n",
      "Transform: Compose(\n",
      "               RandomCrop(size=(32, 32), padding=4)\n",
      "               RandomHorizontalFlip(p=0.5)\n",
      "               ToTensor()\n",
      "               Normalize(mean=(0.4914, 0.4822, 0.4465), std=(0.2023, 0.1994, 0.201))\n",
      "           )\n",
      "    len:50000\n",
      "    shape:(32, 32, 3)\n",
      "    classes:{'airplane': 0, 'automobile': 1, 'bird': 2, 'cat': 3, 'deer': 4, 'dog': 5, 'frog': 6, 'horse': 7, 'ship': 8, 'truck': 9}\n",
      "Files already downloaded and verified\n",
      "Dataset CIFAR10\n",
      "    Number of datapoints: 10000\n",
      "    Root location: data//CIFAR10/test/\n",
      "    Split: Test\n",
      "    StandardTransform\n",
      "Transform: Compose(\n",
      "               RandomCrop(size=(32, 32), padding=4)\n",
      "               RandomHorizontalFlip(p=0.5)\n",
      "               ToTensor()\n",
      "               Normalize(mean=(0.4914, 0.4822, 0.4465), std=(0.2023, 0.1994, 0.201))\n",
      "           )\n",
      "    len:10000\n",
      "    shape:(32, 32, 3)\n",
      "    classes:{'airplane': 0, 'automobile': 1, 'bird': 2, 'cat': 3, 'deer': 4, 'dog': 5, 'frog': 6, 'horse': 7, 'ship': 8, 'truck': 9}\n"
     ]
    }
   ],
   "source": [
    "transform = transforms.Compose([\n",
    "  transforms.RandomCrop(32, padding=4),\n",
    "  transforms.RandomHorizontalFlip(),\n",
    "  transforms.ToTensor(),\n",
    "  transforms.Normalize(\n",
    "      (0.4914, 0.4822, 0.4465),\n",
    "      (0.2023, 0.1994, 0.2010))])\n",
    "\n",
    "batch_size = 1024\n",
    "\n",
    "START_PATH = \"data/\"\n",
    "create_folder(f\"{START_PATH}/CIFAR10/\")\n",
    "\n",
    "train_data = CIFAR10(root=f\"{START_PATH}/CIFAR10/train/\",\n",
    "                    train=True, \n",
    "                    download=True,\n",
    "                    transform=transform)\n",
    "\n",
    "print(train_data)\n",
    "print(f\"    len:{len(train_data)}\")\n",
    "print(f\"    shape:{train_data.data.shape[1:]}\")\n",
    "print(f\"    classes:{train_data.class_to_idx}\")\n",
    "\n",
    "trainset, valset = random_split(\n",
    "                      train_data, \n",
    "                      [40000, 10000])\n",
    "\n",
    "trainloader = torch.utils.data.DataLoader(trainset, batch_size=batch_size,\n",
    "                                          shuffle=True)\n",
    "\n",
    "valloader = torch.utils.data.DataLoader(valset, batch_size=batch_size,\n",
    "                                          shuffle=False)\n",
    "\n",
    "testset = CIFAR10(root=f\"{START_PATH}/CIFAR10/test/\", \n",
    "                    train=False, \n",
    "                    download=True,\n",
    "                    transform=transform)\n",
    "print(testset)\n",
    "print(f\"    len:{len(testset)}\")\n",
    "print(f\"    shape:{testset.data.shape[1:]}\")\n",
    "print(f\"    classes:{testset.class_to_idx}\")\n",
    "\n",
    "testloader = torch.utils.data.DataLoader(testset, batch_size=batch_size,\n",
    "                                         shuffle=False, num_workers=2)"
   ]
  },
  {
   "cell_type": "code",
   "execution_count": 30,
   "metadata": {},
   "outputs": [
    {
     "name": "stdout",
     "output_type": "stream",
     "text": [
      "Files already downloaded and verified\n",
      "Files already downloaded and verified\n"
     ]
    },
    {
     "data": {
      "image/png": "[encoded data removed]",
      "text/plain": [
       "<Figure size 640x480 with 4 Axes>"
      ]
     },
     "metadata": {},
     "output_type": "display_data"
    }
   ],
   "source": [
    "fig = plt.figure(constrained_layout=True)\n",
    "fig.suptitle('Checking Images')\n",
    "\n",
    "A = CIFAR10(root=f\"{START_PATH}/CIFAR10/train/\",\n",
    "                    train=True, \n",
    "                    download=True,)\n",
    "B = CIFAR10(root=f\"{START_PATH}/CIFAR10/test/\", \n",
    "                    train=False, \n",
    "                    download=True,)\n",
    "\n",
    "subfigs = fig.subfigures(nrows=2, ncols=1)\n",
    "for row, subfig in enumerate(subfigs):\n",
    "    dataset = B if row else A\n",
    "    subfig.suptitle(f'{\"test\" if row else \"train\"}')\n",
    "    axs = subfig.subplots(nrows=1, ncols=2)\n",
    "    for col, ax in enumerate(axs):\n",
    "        ax.imshow(dataset[col][0])\n",
    "        ax.set_title(f'Sample {col}')"
   ]
  },
  {
   "cell_type": "markdown",
   "metadata": {},
   "source": [
    "## Model"
   ]
  },
  {
   "cell_type": "code",
   "execution_count": 52,
   "metadata": {},
   "outputs": [
    {
     "name": "stdout",
     "output_type": "stream",
     "text": [
      "==========================================================================================\n",
      "Layer (type:depth-idx)                   Output Shape              Param #\n",
      "==========================================================================================\n",
      "VGG                                      [1, 1000]                 --\n",
      "├─Sequential: 1-1                        [1, 512, 7, 7]            --\n",
      "│    └─Conv2d: 2-1                       [1, 64, 224, 224]         1,792\n",
      "│    └─ReLU: 2-2                         [1, 64, 224, 224]         --\n",
      "│    └─Conv2d: 2-3                       [1, 64, 224, 224]         36,928\n",
      "│    └─ReLU: 2-4                         [1, 64, 224, 224]         --\n",
      "│    └─MaxPool2d: 2-5                    [1, 64, 112, 112]         --\n",
      "│    └─Conv2d: 2-6                       [1, 128, 112, 112]        73,856\n",
      "│    └─ReLU: 2-7                         [1, 128, 112, 112]        --\n",
      "│    └─Conv2d: 2-8                       [1, 128, 112, 112]        147,584\n",
      "│    └─ReLU: 2-9                         [1, 128, 112, 112]        --\n",
      "│    └─MaxPool2d: 2-10                   [1, 128, 56, 56]          --\n",
      "│    └─Conv2d: 2-11                      [1, 256, 56, 56]          295,168\n",
      "│    └─ReLU: 2-12                        [1, 256, 56, 56]          --\n",
      "│    └─Conv2d: 2-13                      [1, 256, 56, 56]          590,080\n",
      "│    └─ReLU: 2-14                        [1, 256, 56, 56]          --\n",
      "│    └─Conv2d: 2-15                      [1, 256, 56, 56]          590,080\n",
      "│    └─ReLU: 2-16                        [1, 256, 56, 56]          --\n",
      "│    └─MaxPool2d: 2-17                   [1, 256, 28, 28]          --\n",
      "│    └─Conv2d: 2-18                      [1, 512, 28, 28]          1,180,160\n",
      "│    └─ReLU: 2-19                        [1, 512, 28, 28]          --\n",
      "│    └─Conv2d: 2-20                      [1, 512, 28, 28]          2,359,808\n",
      "│    └─ReLU: 2-21                        [1, 512, 28, 28]          --\n",
      "│    └─Conv2d: 2-22                      [1, 512, 28, 28]          2,359,808\n",
      "│    └─ReLU: 2-23                        [1, 512, 28, 28]          --\n",
      "│    └─MaxPool2d: 2-24                   [1, 512, 14, 14]          --\n",
      "│    └─Conv2d: 2-25                      [1, 512, 14, 14]          2,359,808\n",
      "│    └─ReLU: 2-26                        [1, 512, 14, 14]          --\n",
      "│    └─Conv2d: 2-27                      [1, 512, 14, 14]          2,359,808\n",
      "│    └─ReLU: 2-28                        [1, 512, 14, 14]          --\n",
      "│    └─Conv2d: 2-29                      [1, 512, 14, 14]          2,359,808\n",
      "│    └─ReLU: 2-30                        [1, 512, 14, 14]          --\n",
      "│    └─MaxPool2d: 2-31                   [1, 512, 7, 7]            --\n",
      "├─AdaptiveAvgPool2d: 1-2                 [1, 512, 7, 7]            --\n",
      "├─Sequential: 1-3                        [1, 1000]                 --\n",
      "│    └─Linear: 2-32                      [1, 4096]                 102,764,544\n",
      "│    └─ReLU: 2-33                        [1, 4096]                 --\n",
      "│    └─Dropout: 2-34                     [1, 4096]                 --\n",
      "│    └─Linear: 2-35                      [1, 4096]                 16,781,312\n",
      "│    └─ReLU: 2-36                        [1, 4096]                 --\n",
      "│    └─Dropout: 2-37                     [1, 4096]                 --\n",
      "│    └─Linear: 2-38                      [1, 1000]                 4,097,000\n",
      "==========================================================================================\n",
      "Total params: 138,357,544\n",
      "Trainable params: 138,357,544\n",
      "Non-trainable params: 0\n",
      "Total mult-adds (G): 15.48\n",
      "==========================================================================================\n",
      "Input size (MB): 0.60\n",
      "Forward/backward pass size (MB): 108.45\n",
      "Params size (MB): 553.43\n",
      "Estimated Total Size (MB): 662.49\n",
      "==========================================================================================\n"
     ]
    }
   ],
   "source": [
    "model = vgg16(weights=torchvision.models.VGG16_Weights.DEFAULT)\n",
    "device = \"cuda:1\" if torch.cuda.is_available() else \"cpu\"\n",
    "model = model.to(device=device)\n",
    "print(summary(model, input_size=(1, 3, 224, 224)))"
   ]
  },
  {
   "cell_type": "code",
   "execution_count": 53,
   "metadata": {},
   "outputs": [
    {
     "data": {
      "text/plain": [
       "==========================================================================================\n",
       "Layer (type:depth-idx)                   Output Shape              Param #\n",
       "==========================================================================================\n",
       "VGG                                      [1, 10]                   --\n",
       "├─Sequential: 1-1                        [1, 512, 1, 1]            --\n",
       "│    └─Conv2d: 2-1                       [1, 64, 32, 32]           1,792\n",
       "│    └─ReLU: 2-2                         [1, 64, 32, 32]           --\n",
       "│    └─Conv2d: 2-3                       [1, 64, 32, 32]           36,928\n",
       "│    └─ReLU: 2-4                         [1, 64, 32, 32]           --\n",
       "│    └─MaxPool2d: 2-5                    [1, 64, 16, 16]           --\n",
       "│    └─Conv2d: 2-6                       [1, 128, 16, 16]          73,856\n",
       "│    └─ReLU: 2-7                         [1, 128, 16, 16]          --\n",
       "│    └─Conv2d: 2-8                       [1, 128, 16, 16]          147,584\n",
       "│    └─ReLU: 2-9                         [1, 128, 16, 16]          --\n",
       "│    └─MaxPool2d: 2-10                   [1, 128, 8, 8]            --\n",
       "│    └─Conv2d: 2-11                      [1, 256, 8, 8]            295,168\n",
       "│    └─ReLU: 2-12                        [1, 256, 8, 8]            --\n",
       "│    └─Conv2d: 2-13                      [1, 256, 8, 8]            590,080\n",
       "│    └─ReLU: 2-14                        [1, 256, 8, 8]            --\n",
       "│    └─Conv2d: 2-15                      [1, 256, 8, 8]            590,080\n",
       "│    └─ReLU: 2-16                        [1, 256, 8, 8]            --\n",
       "│    └─MaxPool2d: 2-17                   [1, 256, 4, 4]            --\n",
       "│    └─Conv2d: 2-18                      [1, 512, 4, 4]            1,180,160\n",
       "│    └─ReLU: 2-19                        [1, 512, 4, 4]            --\n",
       "│    └─Conv2d: 2-20                      [1, 512, 4, 4]            2,359,808\n",
       "│    └─ReLU: 2-21                        [1, 512, 4, 4]            --\n",
       "│    └─Conv2d: 2-22                      [1, 512, 4, 4]            2,359,808\n",
       "│    └─ReLU: 2-23                        [1, 512, 4, 4]            --\n",
       "│    └─MaxPool2d: 2-24                   [1, 512, 2, 2]            --\n",
       "│    └─Conv2d: 2-25                      [1, 512, 2, 2]            2,359,808\n",
       "│    └─ReLU: 2-26                        [1, 512, 2, 2]            --\n",
       "│    └─Conv2d: 2-27                      [1, 512, 2, 2]            2,359,808\n",
       "│    └─ReLU: 2-28                        [1, 512, 2, 2]            --\n",
       "│    └─Conv2d: 2-29                      [1, 512, 2, 2]            2,359,808\n",
       "│    └─ReLU: 2-30                        [1, 512, 2, 2]            --\n",
       "│    └─MaxPool2d: 2-31                   [1, 512, 1, 1]            --\n",
       "├─AdaptiveAvgPool2d: 1-2                 [1, 512, 7, 7]            --\n",
       "├─Sequential: 1-3                        [1, 10]                   --\n",
       "│    └─Linear: 2-32                      [1, 4096]                 102,764,544\n",
       "│    └─ReLU: 2-33                        [1, 4096]                 --\n",
       "│    └─Dropout: 2-34                     [1, 4096]                 --\n",
       "│    └─Linear: 2-35                      [1, 4096]                 16,781,312\n",
       "│    └─ReLU: 2-36                        [1, 4096]                 --\n",
       "│    └─Dropout: 2-37                     [1, 4096]                 --\n",
       "│    └─Linear: 2-38                      [1, 10]                   40,970\n",
       "==========================================================================================\n",
       "Total params: 134,301,514\n",
       "Trainable params: 134,301,514\n",
       "Non-trainable params: 0\n",
       "Total mult-adds (M): 433.06\n",
       "==========================================================================================\n",
       "Input size (MB): 0.01\n",
       "Forward/backward pass size (MB): 2.28\n",
       "Params size (MB): 537.21\n",
       "Estimated Total Size (MB): 539.50\n",
       "=========================================================================================="
      ]
     },
     "execution_count": 53,
     "metadata": {},
     "output_type": "execute_result"
    }
   ],
   "source": [
    "model.classifier[-1] = nn.Linear(4096, 10)\n",
    "device = \"cuda:1\" if torch.cuda.is_available() else \"cpu\"\n",
    "model = model.to(device=device)\n",
    "\n",
    "summary(model, input_size=(1, 3, 32, 32))"
   ]
  },
  {
   "cell_type": "markdown",
   "metadata": {},
   "source": [
    "* Why does the vgg16.classifier have the same output dimensions in both cases, when you have different input sizes?\n",
    "\n",
    "    For CIFAR-10 vgg16 Sequential 1-1 output dimensions is [batch_size, 512, 1, 1] and For ImageNet vgg16 Sequential 1-1 output dimensions is [batch_size, 512, 7, 7].\n",
    "\n",
    "    Then there is an AdaptiveAvgPool2d(7) where it's functionally is to reshape the vector to [batch_size, X, 7, 7] which in case of vgg16 it's X=512.\n",
    "\n",
    "* Is the first sequential layer identical in these two summaries?\n",
    "\n",
    "    It's the same sequential layer in the sense of layer types and parameters but the output sizes are different.\n",
    "\n",
    "* Cell 2 will replace the very last layer of the vgg model (why?), then map it to the available device’s memory under a new name – model.\n",
    "\n",
    "    Since the Sequential: 1-3 is the classifier the last layer is equal to the number of classes in our dataset CIFAR-10 has 10 hence we need to change the last layer to nn.Linear(last_layer_output, 10)"
   ]
  },
  {
   "cell_type": "markdown",
   "metadata": {},
   "source": [
    "## Training"
   ]
  },
  {
   "cell_type": "code",
   "execution_count": 55,
   "metadata": {},
   "outputs": [
    {
     "name": "stderr",
     "output_type": "stream",
     "text": [
      "100%|██████████| 40/40 [00:07<00:00,  5.07it/s]\n",
      "100%|██████████| 10/10 [00:01<00:00,  7.28it/s]\n"
     ]
    },
    {
     "name": "stdout",
     "output_type": "stream",
     "text": [
      "Epoch: 0 Train Loss: 0.3020119071006775 Val Loss: 0.4083535075187683\n"
     ]
    },
    {
     "name": "stderr",
     "output_type": "stream",
     "text": [
      "100%|██████████| 40/40 [00:07<00:00,  5.29it/s]\n",
      "100%|██████████| 10/10 [00:01<00:00,  7.64it/s]\n"
     ]
    },
    {
     "name": "stdout",
     "output_type": "stream",
     "text": [
      "Epoch: 1 Train Loss: 0.30716444104909896 Val Loss: 0.4037517309188843\n"
     ]
    },
    {
     "name": "stderr",
     "output_type": "stream",
     "text": [
      "100%|██████████| 40/40 [00:07<00:00,  5.33it/s]\n",
      "100%|██████████| 10/10 [00:01<00:00,  7.78it/s]\n"
     ]
    },
    {
     "name": "stdout",
     "output_type": "stream",
     "text": [
      "Epoch: 2 Train Loss: 0.30148896425962446 Val Loss: 0.4112278789281845\n"
     ]
    },
    {
     "name": "stderr",
     "output_type": "stream",
     "text": [
      "100%|██████████| 40/40 [00:07<00:00,  5.39it/s]\n",
      "100%|██████████| 10/10 [00:01<00:00,  7.09it/s]\n"
     ]
    },
    {
     "name": "stdout",
     "output_type": "stream",
     "text": [
      "Epoch: 3 Train Loss: 0.2963780641555786 Val Loss: 0.40599641799926756\n"
     ]
    },
    {
     "name": "stderr",
     "output_type": "stream",
     "text": [
      "100%|██████████| 40/40 [00:07<00:00,  5.34it/s]\n",
      "100%|██████████| 10/10 [00:01<00:00,  7.63it/s]\n"
     ]
    },
    {
     "name": "stdout",
     "output_type": "stream",
     "text": [
      "Epoch: 4 Train Loss: 0.28627773858606814 Val Loss: 0.40190635323524476\n"
     ]
    },
    {
     "name": "stderr",
     "output_type": "stream",
     "text": [
      "100%|██████████| 40/40 [00:07<00:00,  5.23it/s]\n",
      "100%|██████████| 10/10 [00:01<00:00,  7.30it/s]\n"
     ]
    },
    {
     "name": "stdout",
     "output_type": "stream",
     "text": [
      "Epoch: 5 Train Loss: 0.2941130816936493 Val Loss: 0.4004033476114273\n"
     ]
    },
    {
     "name": "stderr",
     "output_type": "stream",
     "text": [
      "100%|██████████| 40/40 [00:07<00:00,  5.38it/s]\n",
      "100%|██████████| 10/10 [00:01<00:00,  7.69it/s]\n"
     ]
    },
    {
     "name": "stdout",
     "output_type": "stream",
     "text": [
      "Epoch: 6 Train Loss: 0.29180846735835075 Val Loss: 0.40014722645282746\n"
     ]
    },
    {
     "name": "stderr",
     "output_type": "stream",
     "text": [
      "100%|██████████| 40/40 [00:07<00:00,  5.31it/s]\n",
      "100%|██████████| 10/10 [00:01<00:00,  7.55it/s]\n"
     ]
    },
    {
     "name": "stdout",
     "output_type": "stream",
     "text": [
      "Epoch: 7 Train Loss: 0.2895826391875744 Val Loss: 0.40393871665000913\n"
     ]
    },
    {
     "name": "stderr",
     "output_type": "stream",
     "text": [
      "100%|██████████| 40/40 [00:07<00:00,  5.39it/s]\n",
      "100%|██████████| 10/10 [00:01<00:00,  7.69it/s]\n"
     ]
    },
    {
     "name": "stdout",
     "output_type": "stream",
     "text": [
      "Epoch: 8 Train Loss: 0.27536170110106467 Val Loss: 0.3990707516670227\n"
     ]
    },
    {
     "name": "stderr",
     "output_type": "stream",
     "text": [
      "100%|██████████| 40/40 [00:07<00:00,  5.34it/s]\n",
      "100%|██████████| 10/10 [00:01<00:00,  6.97it/s]\n"
     ]
    },
    {
     "name": "stdout",
     "output_type": "stream",
     "text": [
      "Epoch: 9 Train Loss: 0.2811198852956295 Val Loss: 0.3996320515871048\n"
     ]
    },
    {
     "name": "stderr",
     "output_type": "stream",
     "text": [
      "100%|██████████| 40/40 [00:07<00:00,  5.36it/s]\n",
      "100%|██████████| 10/10 [00:01<00:00,  7.43it/s]\n"
     ]
    },
    {
     "name": "stdout",
     "output_type": "stream",
     "text": [
      "Epoch: 10 Train Loss: 0.27977788671851156 Val Loss: 0.38713781237602235\n"
     ]
    },
    {
     "name": "stderr",
     "output_type": "stream",
     "text": [
      "100%|██████████| 40/40 [00:07<00:00,  5.42it/s]\n",
      "100%|██████████| 10/10 [00:01<00:00,  7.51it/s]\n"
     ]
    },
    {
     "name": "stdout",
     "output_type": "stream",
     "text": [
      "Epoch: 11 Train Loss: 0.26965288147330285 Val Loss: 0.39935589134693145\n"
     ]
    },
    {
     "name": "stderr",
     "output_type": "stream",
     "text": [
      "100%|██████████| 40/40 [00:07<00:00,  5.33it/s]\n",
      "100%|██████████| 10/10 [00:01<00:00,  7.68it/s]\n"
     ]
    },
    {
     "name": "stdout",
     "output_type": "stream",
     "text": [
      "Epoch: 12 Train Loss: 0.2706278458237648 Val Loss: 0.40706627368927\n"
     ]
    },
    {
     "name": "stderr",
     "output_type": "stream",
     "text": [
      "100%|██████████| 40/40 [00:07<00:00,  5.20it/s]\n",
      "100%|██████████| 10/10 [00:01<00:00,  7.44it/s]\n"
     ]
    },
    {
     "name": "stdout",
     "output_type": "stream",
     "text": [
      "Epoch: 13 Train Loss: 0.26820439621806147 Val Loss: 0.3976297855377197\n"
     ]
    },
    {
     "name": "stderr",
     "output_type": "stream",
     "text": [
      "100%|██████████| 40/40 [00:07<00:00,  5.34it/s]\n",
      "100%|██████████| 10/10 [00:01<00:00,  6.86it/s]\n"
     ]
    },
    {
     "name": "stdout",
     "output_type": "stream",
     "text": [
      "Epoch: 14 Train Loss: 0.2673827975988388 Val Loss: 0.3897610008716583\n"
     ]
    },
    {
     "name": "stderr",
     "output_type": "stream",
     "text": [
      "100%|██████████| 40/40 [00:07<00:00,  5.33it/s]\n",
      "100%|██████████| 10/10 [00:01<00:00,  7.37it/s]\n"
     ]
    },
    {
     "name": "stdout",
     "output_type": "stream",
     "text": [
      "Epoch: 15 Train Loss: 0.2632719587534666 Val Loss: 0.38220682740211487\n"
     ]
    },
    {
     "name": "stderr",
     "output_type": "stream",
     "text": [
      "100%|██████████| 40/40 [00:07<00:00,  5.27it/s]\n",
      "100%|██████████| 10/10 [00:01<00:00,  7.47it/s]\n"
     ]
    },
    {
     "name": "stdout",
     "output_type": "stream",
     "text": [
      "Epoch: 16 Train Loss: 0.2517806399613619 Val Loss: 0.39488222599029543\n"
     ]
    },
    {
     "name": "stderr",
     "output_type": "stream",
     "text": [
      "100%|██████████| 40/40 [00:07<00:00,  5.22it/s]\n",
      "100%|██████████| 10/10 [00:01<00:00,  7.56it/s]\n"
     ]
    },
    {
     "name": "stdout",
     "output_type": "stream",
     "text": [
      "Epoch: 17 Train Loss: 0.2557398406788707 Val Loss: 0.38958999514579773\n"
     ]
    },
    {
     "name": "stderr",
     "output_type": "stream",
     "text": [
      "100%|██████████| 40/40 [00:07<00:00,  5.32it/s]\n",
      "100%|██████████| 10/10 [00:01<00:00,  7.19it/s]\n"
     ]
    },
    {
     "name": "stdout",
     "output_type": "stream",
     "text": [
      "Epoch: 18 Train Loss: 0.24728500992059707 Val Loss: 0.38785726130008696\n"
     ]
    },
    {
     "name": "stderr",
     "output_type": "stream",
     "text": [
      "100%|██████████| 40/40 [00:07<00:00,  5.27it/s]\n",
      "100%|██████████| 10/10 [00:01<00:00,  7.70it/s]\n"
     ]
    },
    {
     "name": "stdout",
     "output_type": "stream",
     "text": [
      "Epoch: 19 Train Loss: 0.2474047277122736 Val Loss: 0.3919557839632034\n"
     ]
    },
    {
     "name": "stderr",
     "output_type": "stream",
     "text": [
      "100%|██████████| 40/40 [00:07<00:00,  5.31it/s]\n",
      "100%|██████████| 10/10 [00:01<00:00,  7.65it/s]\n"
     ]
    },
    {
     "name": "stdout",
     "output_type": "stream",
     "text": [
      "Epoch: 20 Train Loss: 0.2514912519603968 Val Loss: 0.39855829775333407\n"
     ]
    },
    {
     "name": "stderr",
     "output_type": "stream",
     "text": [
      "100%|██████████| 40/40 [00:07<00:00,  5.24it/s]\n",
      "100%|██████████| 10/10 [00:01<00:00,  7.14it/s]\n"
     ]
    },
    {
     "name": "stdout",
     "output_type": "stream",
     "text": [
      "Epoch: 21 Train Loss: 0.24869242459535598 Val Loss: 0.38737634718418124\n"
     ]
    },
    {
     "name": "stderr",
     "output_type": "stream",
     "text": [
      "100%|██████████| 40/40 [00:07<00:00,  5.35it/s]\n",
      "100%|██████████| 10/10 [00:01<00:00,  7.46it/s]\n"
     ]
    },
    {
     "name": "stdout",
     "output_type": "stream",
     "text": [
      "Epoch: 22 Train Loss: 0.24061160311102867 Val Loss: 0.4046350955963135\n"
     ]
    },
    {
     "name": "stderr",
     "output_type": "stream",
     "text": [
      "100%|██████████| 40/40 [00:07<00:00,  5.30it/s]\n",
      "100%|██████████| 10/10 [00:01<00:00,  7.31it/s]\n"
     ]
    },
    {
     "name": "stdout",
     "output_type": "stream",
     "text": [
      "Epoch: 23 Train Loss: 0.2392257984727621 Val Loss: 0.3998374342918396\n"
     ]
    },
    {
     "name": "stderr",
     "output_type": "stream",
     "text": [
      "100%|██████████| 40/40 [00:07<00:00,  5.28it/s]\n",
      "100%|██████████| 10/10 [00:01<00:00,  7.14it/s]\n"
     ]
    },
    {
     "name": "stdout",
     "output_type": "stream",
     "text": [
      "Epoch: 24 Train Loss: 0.2370744414627552 Val Loss: 0.39287797808647157\n"
     ]
    },
    {
     "name": "stderr",
     "output_type": "stream",
     "text": [
      "100%|██████████| 40/40 [00:07<00:00,  5.23it/s]\n",
      "100%|██████████| 10/10 [00:01<00:00,  7.38it/s]\n"
     ]
    },
    {
     "name": "stdout",
     "output_type": "stream",
     "text": [
      "Epoch: 25 Train Loss: 0.23790876641869546 Val Loss: 0.3905238449573517\n"
     ]
    },
    {
     "name": "stderr",
     "output_type": "stream",
     "text": [
      "100%|██████████| 40/40 [00:07<00:00,  5.27it/s]\n",
      "100%|██████████| 10/10 [00:01<00:00,  7.63it/s]\n"
     ]
    },
    {
     "name": "stdout",
     "output_type": "stream",
     "text": [
      "Epoch: 26 Train Loss: 0.23359871804714202 Val Loss: 0.40204165279865267\n"
     ]
    },
    {
     "name": "stderr",
     "output_type": "stream",
     "text": [
      "100%|██████████| 40/40 [00:07<00:00,  5.35it/s]\n",
      "100%|██████████| 10/10 [00:01<00:00,  7.54it/s]\n"
     ]
    },
    {
     "name": "stdout",
     "output_type": "stream",
     "text": [
      "Epoch: 27 Train Loss: 0.22854421213269233 Val Loss: 0.39694699048995974\n"
     ]
    },
    {
     "name": "stderr",
     "output_type": "stream",
     "text": [
      "100%|██████████| 40/40 [00:07<00:00,  5.39it/s]\n",
      "100%|██████████| 10/10 [00:01<00:00,  7.17it/s]\n"
     ]
    },
    {
     "name": "stdout",
     "output_type": "stream",
     "text": [
      "Epoch: 28 Train Loss: 0.22584932073950767 Val Loss: 0.38599860668182373\n"
     ]
    },
    {
     "name": "stderr",
     "output_type": "stream",
     "text": [
      "100%|██████████| 40/40 [00:07<00:00,  5.33it/s]\n",
      "100%|██████████| 10/10 [00:01<00:00,  7.44it/s]\n"
     ]
    },
    {
     "name": "stdout",
     "output_type": "stream",
     "text": [
      "Epoch: 29 Train Loss: 0.22925261668860913 Val Loss: 0.39943075776100156\n"
     ]
    },
    {
     "name": "stderr",
     "output_type": "stream",
     "text": [
      "100%|██████████| 40/40 [00:07<00:00,  5.30it/s]\n",
      "100%|██████████| 10/10 [00:01<00:00,  6.92it/s]\n"
     ]
    },
    {
     "name": "stdout",
     "output_type": "stream",
     "text": [
      "Epoch: 30 Train Loss: 0.22594149336218833 Val Loss: 0.3970495581626892\n"
     ]
    },
    {
     "name": "stderr",
     "output_type": "stream",
     "text": [
      "100%|██████████| 40/40 [00:07<00:00,  5.36it/s]\n",
      "100%|██████████| 10/10 [00:01<00:00,  7.34it/s]\n"
     ]
    },
    {
     "name": "stdout",
     "output_type": "stream",
     "text": [
      "Epoch: 31 Train Loss: 0.22431258000433446 Val Loss: 0.39053178429603574\n"
     ]
    },
    {
     "name": "stderr",
     "output_type": "stream",
     "text": [
      "100%|██████████| 40/40 [00:07<00:00,  5.29it/s]\n",
      "100%|██████████| 10/10 [00:01<00:00,  6.84it/s]\n"
     ]
    },
    {
     "name": "stdout",
     "output_type": "stream",
     "text": [
      "Epoch: 32 Train Loss: 0.2200208619236946 Val Loss: 0.39362879395484923\n"
     ]
    },
    {
     "name": "stderr",
     "output_type": "stream",
     "text": [
      "100%|██████████| 40/40 [00:07<00:00,  5.40it/s]\n",
      "100%|██████████| 10/10 [00:01<00:00,  7.03it/s]\n"
     ]
    },
    {
     "name": "stdout",
     "output_type": "stream",
     "text": [
      "Epoch: 33 Train Loss: 0.21393540278077125 Val Loss: 0.3963227719068527\n"
     ]
    },
    {
     "name": "stderr",
     "output_type": "stream",
     "text": [
      "100%|██████████| 40/40 [00:07<00:00,  5.31it/s]\n",
      "100%|██████████| 10/10 [00:01<00:00,  7.06it/s]\n"
     ]
    },
    {
     "name": "stdout",
     "output_type": "stream",
     "text": [
      "Epoch: 34 Train Loss: 0.21499963514506817 Val Loss: 0.39359669387340546\n"
     ]
    },
    {
     "name": "stderr",
     "output_type": "stream",
     "text": [
      "100%|██████████| 40/40 [00:07<00:00,  5.32it/s]\n",
      "100%|██████████| 10/10 [00:01<00:00,  7.27it/s]\n"
     ]
    },
    {
     "name": "stdout",
     "output_type": "stream",
     "text": [
      "Epoch: 35 Train Loss: 0.21080552227795124 Val Loss: 0.392208456993103\n"
     ]
    },
    {
     "name": "stderr",
     "output_type": "stream",
     "text": [
      "100%|██████████| 40/40 [00:07<00:00,  5.28it/s]\n",
      "100%|██████████| 10/10 [00:01<00:00,  7.46it/s]\n"
     ]
    },
    {
     "name": "stdout",
     "output_type": "stream",
     "text": [
      "Epoch: 36 Train Loss: 0.20981862619519234 Val Loss: 0.3865497589111328\n"
     ]
    },
    {
     "name": "stderr",
     "output_type": "stream",
     "text": [
      "100%|██████████| 40/40 [00:07<00:00,  5.28it/s]\n",
      "100%|██████████| 10/10 [00:01<00:00,  7.39it/s]\n"
     ]
    },
    {
     "name": "stdout",
     "output_type": "stream",
     "text": [
      "Epoch: 37 Train Loss: 0.20855379588901996 Val Loss: 0.38810268938541415\n"
     ]
    },
    {
     "name": "stderr",
     "output_type": "stream",
     "text": [
      "100%|██████████| 40/40 [00:07<00:00,  5.24it/s]\n",
      "100%|██████████| 10/10 [00:01<00:00,  7.36it/s]\n"
     ]
    },
    {
     "name": "stdout",
     "output_type": "stream",
     "text": [
      "Epoch: 38 Train Loss: 0.20995039716362954 Val Loss: 0.39432379603385925\n"
     ]
    },
    {
     "name": "stderr",
     "output_type": "stream",
     "text": [
      "100%|██████████| 40/40 [00:07<00:00,  5.25it/s]\n",
      "100%|██████████| 10/10 [00:01<00:00,  6.97it/s]"
     ]
    },
    {
     "name": "stdout",
     "output_type": "stream",
     "text": [
      "Epoch: 39 Train Loss: 0.20906747579574586 Val Loss: 0.3906974226236343\n"
     ]
    },
    {
     "name": "stderr",
     "output_type": "stream",
     "text": [
      "\n"
     ]
    }
   ],
   "source": [
    "N_EPOCHS = 40\n",
    "\n",
    "criterion = nn.CrossEntropyLoss()\n",
    "optimizer = optim.SGD(model.parameters(), \n",
    "                      lr=0.001, \n",
    "                      momentum=0.9)\n",
    "\n",
    "for epoch in range(N_EPOCHS):\n",
    "\n",
    "    # Training \n",
    "    train_loss = 0.0\n",
    "    model.train() # <1>\n",
    "    for inputs, labels in tqdm(trainloader):\n",
    "        labels = labels.reshape(-1,1)\n",
    "        y_onehot = torch.FloatTensor(labels.shape[0], 10)\n",
    "\n",
    "        # In your for loop\n",
    "        y_onehot.zero_()\n",
    "        y_onehot.scatter_(1, labels, 1)\n",
    "\n",
    "        inputs = inputs.to(device)\n",
    "        y_onehot = y_onehot.to(device)\n",
    "\n",
    "        optimizer.zero_grad()\n",
    "\n",
    "        outputs = model(inputs)\n",
    "\n",
    "        loss = criterion(outputs, y_onehot)\n",
    "        loss.backward()\n",
    "        optimizer.step()\n",
    "\n",
    "        train_loss += loss.item()\n",
    "\n",
    "    # Validation\n",
    "    val_loss = 0.0\n",
    "    model.eval() # <2>\n",
    "    for inputs, labels in tqdm(valloader):\n",
    "        labels = labels.reshape(-1,1)\n",
    "        y_onehot = torch.FloatTensor(labels.shape[0], 10)\n",
    "\n",
    "        # In your for loop\n",
    "        y_onehot.zero_()\n",
    "        y_onehot.scatter_(1, labels, 1)\n",
    "\n",
    "        inputs = inputs.to(device)\n",
    "        y_onehot = y_onehot.to(device)\n",
    "\n",
    "        outputs = model(inputs)\n",
    "        loss = criterion(outputs, y_onehot)\n",
    "\n",
    "        val_loss += loss.item()\n",
    "\n",
    "    print(\"Epoch: {} Train Loss: {} Val Loss: {}\".format(\n",
    "                  epoch, \n",
    "                  train_loss/len(trainloader), \n",
    "                  val_loss/len(valloader)))"
   ]
  },
  {
   "cell_type": "code",
   "execution_count": 56,
   "metadata": {},
   "outputs": [
    {
     "name": "stdout",
     "output_type": "stream",
     "text": [
      "10 1024\n",
      "Test Accuracy: 0.850878894329071\n"
     ]
    }
   ],
   "source": [
    "num_correct = 0.0\n",
    "for x_test_batch, y_test_batch in testloader:\n",
    "    model.eval() \n",
    "    y_test_batch = y_test_batch.to(device)\n",
    "    x_test_batch = x_test_batch.to(device) \n",
    "    y_pred_batch = model(x_test_batch)\n",
    "    _, predicted = torch.max(y_pred_batch, 1) \n",
    "    num_correct += (predicted == y_test_batch).float().sum()\n",
    "\n",
    "accuracy = num_correct/(len(testloader)*testloader.batch_size)\n",
    "print(len(testloader), testloader.batch_size) \n",
    "print(\"Test Accuracy: {}\".format(accuracy))"
   ]
  },
  {
   "cell_type": "markdown",
   "metadata": {},
   "source": [
    "## LeNet"
   ]
  },
  {
   "cell_type": "code",
   "execution_count": 57,
   "metadata": {},
   "outputs": [],
   "source": [
    "class LeNet5(nn.Module):\n",
    "    def __init__(self):\n",
    "        super(LeNet5, self).__init__()\n",
    "        self.conv1 = nn.Conv2d(3, 6, 5) # <1>\n",
    "        self.conv2 = nn.Conv2d(6, 16, 5)\n",
    "        self.fc1 = nn.Linear(16 * 5 * 5, 120)\n",
    "        self.fc2 = nn.Linear(120, 84)\n",
    "        self.fc3 = nn.Linear(84, 10)\n",
    "\n",
    "    def forward(self, x):\n",
    "        x = F.max_pool2d(F.relu(self.conv1(x)), (2, 2))\n",
    "        x = F.max_pool2d(F.relu(self.conv2(x)), 2)\n",
    "        x = x.view(-1, int(x.nelement() / x.shape[0]))\n",
    "        x = F.relu(self.fc1(x))\n",
    "        x = F.relu(self.fc2(x))\n",
    "        x = F.softmax(self.fc3(x))\n",
    "        return x"
   ]
  },
  {
   "cell_type": "code",
   "execution_count": 58,
   "metadata": {},
   "outputs": [
    {
     "name": "stdout",
     "output_type": "stream",
     "text": [
      "==========================================================================================\n",
      "Layer (type:depth-idx)                   Output Shape              Param #\n",
      "==========================================================================================\n",
      "LeNet5                                   [1, 10]                   --\n",
      "├─Conv2d: 1-1                            [1, 6, 28, 28]            456\n",
      "├─Conv2d: 1-2                            [1, 16, 10, 10]           2,416\n",
      "├─Linear: 1-3                            [1, 120]                  48,120\n",
      "├─Linear: 1-4                            [1, 84]                   10,164\n",
      "├─Linear: 1-5                            [1, 10]                   850\n",
      "==========================================================================================\n",
      "Total params: 62,006\n",
      "Trainable params: 62,006\n",
      "Non-trainable params: 0\n",
      "Total mult-adds (M): 0.66\n",
      "==========================================================================================\n",
      "Input size (MB): 0.01\n",
      "Forward/backward pass size (MB): 0.05\n",
      "Params size (MB): 0.25\n",
      "Estimated Total Size (MB): 0.31\n",
      "==========================================================================================\n"
     ]
    },
    {
     "name": "stderr",
     "output_type": "stream",
     "text": [
      "/tmp/ipykernel_2528441/3090054245.py:16: UserWarning: Implicit dimension choice for softmax has been deprecated. Change the call to include dim=X as an argument.\n",
      "  x = F.softmax(self.fc3(x))\n"
     ]
    }
   ],
   "source": [
    "model = LeNet5()\n",
    "device = \"cuda:1\" if torch.cuda.is_available() else \"cpu\"\n",
    "model = model.to(device=device)\n",
    "print(summary(model, input_size=(1, 3, 32, 32)))"
   ]
  },
  {
   "cell_type": "code",
   "execution_count": 59,
   "metadata": {},
   "outputs": [
    {
     "name": "stderr",
     "output_type": "stream",
     "text": [
      "  0%|          | 0/40 [00:00<?, ?it/s]/tmp/ipykernel_2528441/3090054245.py:16: UserWarning: Implicit dimension choice for softmax has been deprecated. Change the call to include dim=X as an argument.\n",
      "  x = F.softmax(self.fc3(x))\n",
      "100%|██████████| 40/40 [00:05<00:00,  6.94it/s]\n",
      "100%|██████████| 10/10 [00:01<00:00,  7.89it/s]\n"
     ]
    },
    {
     "name": "stdout",
     "output_type": "stream",
     "text": [
      "Epoch: 0 Train Loss: 2.305186414718628 Val Loss: 2.3035022258758544\n"
     ]
    },
    {
     "name": "stderr",
     "output_type": "stream",
     "text": [
      "100%|██████████| 40/40 [00:05<00:00,  6.93it/s]\n",
      "100%|██████████| 10/10 [00:01<00:00,  7.40it/s]\n"
     ]
    },
    {
     "name": "stdout",
     "output_type": "stream",
     "text": [
      "Epoch: 1 Train Loss: 2.3022678434848785 Val Loss: 2.30046603679657\n"
     ]
    },
    {
     "name": "stderr",
     "output_type": "stream",
     "text": [
      "100%|██████████| 40/40 [00:05<00:00,  6.82it/s]\n",
      "100%|██████████| 10/10 [00:01<00:00,  7.96it/s]\n"
     ]
    },
    {
     "name": "stdout",
     "output_type": "stream",
     "text": [
      "Epoch: 2 Train Loss: 2.299144846200943 Val Loss: 2.297042465209961\n"
     ]
    },
    {
     "name": "stderr",
     "output_type": "stream",
     "text": [
      "100%|██████████| 40/40 [00:05<00:00,  7.06it/s]\n",
      "100%|██████████| 10/10 [00:01<00:00,  7.91it/s]\n"
     ]
    },
    {
     "name": "stdout",
     "output_type": "stream",
     "text": [
      "Epoch: 3 Train Loss: 2.2955490052700043 Val Loss: 2.2928881645202637\n"
     ]
    },
    {
     "name": "stderr",
     "output_type": "stream",
     "text": [
      "100%|██████████| 40/40 [00:05<00:00,  6.98it/s]\n",
      "100%|██████████| 10/10 [00:01<00:00,  7.86it/s]\n"
     ]
    },
    {
     "name": "stdout",
     "output_type": "stream",
     "text": [
      "Epoch: 4 Train Loss: 2.29013386964798 Val Loss: 2.287351655960083\n"
     ]
    },
    {
     "name": "stderr",
     "output_type": "stream",
     "text": [
      "100%|██████████| 40/40 [00:05<00:00,  6.95it/s]\n",
      "100%|██████████| 10/10 [00:01<00:00,  7.78it/s]\n"
     ]
    },
    {
     "name": "stdout",
     "output_type": "stream",
     "text": [
      "Epoch: 5 Train Loss: 2.283600479364395 Val Loss: 2.279353213310242\n"
     ]
    },
    {
     "name": "stderr",
     "output_type": "stream",
     "text": [
      "100%|██████████| 40/40 [00:05<00:00,  7.00it/s]\n",
      "100%|██████████| 10/10 [00:01<00:00,  7.83it/s]\n"
     ]
    },
    {
     "name": "stdout",
     "output_type": "stream",
     "text": [
      "Epoch: 6 Train Loss: 2.2734214067459106 Val Loss: 2.2673906564712523\n"
     ]
    },
    {
     "name": "stderr",
     "output_type": "stream",
     "text": [
      "100%|██████████| 40/40 [00:05<00:00,  6.90it/s]\n",
      "100%|██████████| 10/10 [00:01<00:00,  7.62it/s]\n"
     ]
    },
    {
     "name": "stdout",
     "output_type": "stream",
     "text": [
      "Epoch: 7 Train Loss: 2.2580332159996033 Val Loss: 2.2513036251068117\n"
     ]
    },
    {
     "name": "stderr",
     "output_type": "stream",
     "text": [
      "100%|██████████| 40/40 [00:05<00:00,  6.78it/s]\n",
      "100%|██████████| 10/10 [00:01<00:00,  7.77it/s]\n"
     ]
    },
    {
     "name": "stdout",
     "output_type": "stream",
     "text": [
      "Epoch: 8 Train Loss: 2.2387358963489534 Val Loss: 2.231567931175232\n"
     ]
    },
    {
     "name": "stderr",
     "output_type": "stream",
     "text": [
      "100%|██████████| 40/40 [00:05<00:00,  6.86it/s]\n",
      "100%|██████████| 10/10 [00:01<00:00,  7.79it/s]\n"
     ]
    },
    {
     "name": "stdout",
     "output_type": "stream",
     "text": [
      "Epoch: 9 Train Loss: 2.2164505779743195 Val Loss: 2.2090608358383177\n"
     ]
    },
    {
     "name": "stderr",
     "output_type": "stream",
     "text": [
      "100%|██████████| 40/40 [00:05<00:00,  6.86it/s]\n",
      "100%|██████████| 10/10 [00:01<00:00,  7.39it/s]\n"
     ]
    },
    {
     "name": "stdout",
     "output_type": "stream",
     "text": [
      "Epoch: 10 Train Loss: 2.1916605830192566 Val Loss: 2.180667519569397\n"
     ]
    },
    {
     "name": "stderr",
     "output_type": "stream",
     "text": [
      "100%|██████████| 40/40 [00:05<00:00,  6.83it/s]\n",
      "100%|██████████| 10/10 [00:01<00:00,  7.80it/s]\n"
     ]
    },
    {
     "name": "stdout",
     "output_type": "stream",
     "text": [
      "Epoch: 11 Train Loss: 2.1653063178062437 Val Loss: 2.1560717582702638\n"
     ]
    },
    {
     "name": "stderr",
     "output_type": "stream",
     "text": [
      "100%|██████████| 40/40 [00:05<00:00,  7.01it/s]\n",
      "100%|██████████| 10/10 [00:01<00:00,  7.70it/s]\n"
     ]
    },
    {
     "name": "stdout",
     "output_type": "stream",
     "text": [
      "Epoch: 12 Train Loss: 2.1390668034553526 Val Loss: 2.127865266799927\n"
     ]
    },
    {
     "name": "stderr",
     "output_type": "stream",
     "text": [
      "100%|██████████| 40/40 [00:05<00:00,  6.84it/s]\n",
      "100%|██████████| 10/10 [00:01<00:00,  7.87it/s]\n"
     ]
    },
    {
     "name": "stdout",
     "output_type": "stream",
     "text": [
      "Epoch: 13 Train Loss: 2.110614961385727 Val Loss: 2.1046077966690064\n"
     ]
    },
    {
     "name": "stderr",
     "output_type": "stream",
     "text": [
      "100%|██████████| 40/40 [00:05<00:00,  6.87it/s]\n",
      "100%|██████████| 10/10 [00:01<00:00,  7.48it/s]\n"
     ]
    },
    {
     "name": "stdout",
     "output_type": "stream",
     "text": [
      "Epoch: 14 Train Loss: 2.083615982532501 Val Loss: 2.0794065952301026\n"
     ]
    },
    {
     "name": "stderr",
     "output_type": "stream",
     "text": [
      "100%|██████████| 40/40 [00:05<00:00,  6.88it/s]\n",
      "100%|██████████| 10/10 [00:01<00:00,  7.29it/s]\n"
     ]
    },
    {
     "name": "stdout",
     "output_type": "stream",
     "text": [
      "Epoch: 15 Train Loss: 2.063385045528412 Val Loss: 2.0579543828964235\n"
     ]
    },
    {
     "name": "stderr",
     "output_type": "stream",
     "text": [
      "100%|██████████| 40/40 [00:05<00:00,  6.84it/s]\n",
      "100%|██████████| 10/10 [00:01<00:00,  7.79it/s]\n"
     ]
    },
    {
     "name": "stdout",
     "output_type": "stream",
     "text": [
      "Epoch: 16 Train Loss: 2.0461622178554535 Val Loss: 2.0411171197891234\n"
     ]
    },
    {
     "name": "stderr",
     "output_type": "stream",
     "text": [
      "100%|██████████| 40/40 [00:05<00:00,  6.83it/s]\n",
      "100%|██████████| 10/10 [00:01<00:00,  7.32it/s]\n"
     ]
    },
    {
     "name": "stdout",
     "output_type": "stream",
     "text": [
      "Epoch: 17 Train Loss: 2.0309163331985474 Val Loss: 2.0273284912109375\n"
     ]
    },
    {
     "name": "stderr",
     "output_type": "stream",
     "text": [
      "100%|██████████| 40/40 [00:05<00:00,  6.84it/s]\n",
      "100%|██████████| 10/10 [00:01<00:00,  7.66it/s]\n"
     ]
    },
    {
     "name": "stdout",
     "output_type": "stream",
     "text": [
      "Epoch: 18 Train Loss: 2.0160944193601607 Val Loss: 2.015182042121887\n"
     ]
    },
    {
     "name": "stderr",
     "output_type": "stream",
     "text": [
      "100%|██████████| 40/40 [00:05<00:00,  6.91it/s]\n",
      "100%|██████████| 10/10 [00:01<00:00,  7.69it/s]\n"
     ]
    },
    {
     "name": "stdout",
     "output_type": "stream",
     "text": [
      "Epoch: 19 Train Loss: 2.004433274269104 Val Loss: 2.004601168632507\n"
     ]
    },
    {
     "name": "stderr",
     "output_type": "stream",
     "text": [
      "100%|██████████| 40/40 [00:05<00:00,  6.83it/s]\n",
      "100%|██████████| 10/10 [00:01<00:00,  7.86it/s]\n"
     ]
    },
    {
     "name": "stdout",
     "output_type": "stream",
     "text": [
      "Epoch: 20 Train Loss: 1.9936614245176316 Val Loss: 1.9926472067832948\n"
     ]
    },
    {
     "name": "stderr",
     "output_type": "stream",
     "text": [
      "100%|██████████| 40/40 [00:05<00:00,  6.88it/s]\n",
      "100%|██████████| 10/10 [00:01<00:00,  7.64it/s]\n"
     ]
    },
    {
     "name": "stdout",
     "output_type": "stream",
     "text": [
      "Epoch: 21 Train Loss: 1.9865090072154998 Val Loss: 1.9836878418922423\n"
     ]
    },
    {
     "name": "stderr",
     "output_type": "stream",
     "text": [
      "100%|██████████| 40/40 [00:05<00:00,  6.99it/s]\n",
      "100%|██████████| 10/10 [00:01<00:00,  7.32it/s]\n"
     ]
    },
    {
     "name": "stdout",
     "output_type": "stream",
     "text": [
      "Epoch: 22 Train Loss: 1.973956334590912 Val Loss: 1.972481656074524\n"
     ]
    },
    {
     "name": "stderr",
     "output_type": "stream",
     "text": [
      "100%|██████████| 40/40 [00:06<00:00,  6.61it/s]\n",
      "100%|██████████| 10/10 [00:01<00:00,  7.72it/s]\n"
     ]
    },
    {
     "name": "stdout",
     "output_type": "stream",
     "text": [
      "Epoch: 23 Train Loss: 1.9615156203508377 Val Loss: 1.962409996986389\n"
     ]
    },
    {
     "name": "stderr",
     "output_type": "stream",
     "text": [
      "100%|██████████| 40/40 [00:05<00:00,  6.71it/s]\n",
      "100%|██████████| 10/10 [00:01<00:00,  7.50it/s]\n"
     ]
    },
    {
     "name": "stdout",
     "output_type": "stream",
     "text": [
      "Epoch: 24 Train Loss: 1.9536800026893615 Val Loss: 1.9516275882720948\n"
     ]
    },
    {
     "name": "stderr",
     "output_type": "stream",
     "text": [
      "100%|██████████| 40/40 [00:06<00:00,  6.63it/s]\n",
      "100%|██████████| 10/10 [00:01<00:00,  7.46it/s]\n"
     ]
    },
    {
     "name": "stdout",
     "output_type": "stream",
     "text": [
      "Epoch: 25 Train Loss: 1.9438543975353242 Val Loss: 1.9384382367134094\n"
     ]
    },
    {
     "name": "stderr",
     "output_type": "stream",
     "text": [
      "100%|██████████| 40/40 [00:05<00:00,  6.69it/s]\n",
      "100%|██████████| 10/10 [00:01<00:00,  7.70it/s]\n"
     ]
    },
    {
     "name": "stdout",
     "output_type": "stream",
     "text": [
      "Epoch: 26 Train Loss: 1.9340874016284944 Val Loss: 1.932640051841736\n"
     ]
    },
    {
     "name": "stderr",
     "output_type": "stream",
     "text": [
      "100%|██████████| 40/40 [00:05<00:00,  6.89it/s]\n",
      "100%|██████████| 10/10 [00:01<00:00,  7.48it/s]\n"
     ]
    },
    {
     "name": "stdout",
     "output_type": "stream",
     "text": [
      "Epoch: 27 Train Loss: 1.922800424695015 Val Loss: 1.9226879954338074\n"
     ]
    },
    {
     "name": "stderr",
     "output_type": "stream",
     "text": [
      "100%|██████████| 40/40 [00:05<00:00,  6.93it/s]\n",
      "100%|██████████| 10/10 [00:01<00:00,  7.92it/s]\n"
     ]
    },
    {
     "name": "stdout",
     "output_type": "stream",
     "text": [
      "Epoch: 28 Train Loss: 1.9128503918647766 Val Loss: 1.9076096534729003\n"
     ]
    },
    {
     "name": "stderr",
     "output_type": "stream",
     "text": [
      "100%|██████████| 40/40 [00:05<00:00,  6.85it/s]\n",
      "100%|██████████| 10/10 [00:01<00:00,  7.53it/s]\n"
     ]
    },
    {
     "name": "stdout",
     "output_type": "stream",
     "text": [
      "Epoch: 29 Train Loss: 1.9026036888360978 Val Loss: 1.902693247795105\n"
     ]
    },
    {
     "name": "stderr",
     "output_type": "stream",
     "text": [
      "100%|██████████| 40/40 [00:05<00:00,  6.72it/s]\n",
      "100%|██████████| 10/10 [00:01<00:00,  7.40it/s]\n"
     ]
    },
    {
     "name": "stdout",
     "output_type": "stream",
     "text": [
      "Epoch: 30 Train Loss: 1.8901843935251237 Val Loss: 1.8871679306030273\n"
     ]
    },
    {
     "name": "stderr",
     "output_type": "stream",
     "text": [
      "100%|██████████| 40/40 [00:06<00:00,  6.54it/s]\n",
      "100%|██████████| 10/10 [00:01<00:00,  7.88it/s]\n"
     ]
    },
    {
     "name": "stdout",
     "output_type": "stream",
     "text": [
      "Epoch: 31 Train Loss: 1.8815083861351014 Val Loss: 1.875225555896759\n"
     ]
    },
    {
     "name": "stderr",
     "output_type": "stream",
     "text": [
      "100%|██████████| 40/40 [00:05<00:00,  6.85it/s]\n",
      "100%|██████████| 10/10 [00:01<00:00,  7.39it/s]\n"
     ]
    },
    {
     "name": "stdout",
     "output_type": "stream",
     "text": [
      "Epoch: 32 Train Loss: 1.867640596628189 Val Loss: 1.864507222175598\n"
     ]
    },
    {
     "name": "stderr",
     "output_type": "stream",
     "text": [
      "100%|██████████| 40/40 [00:05<00:00,  6.85it/s]\n",
      "100%|██████████| 10/10 [00:01<00:00,  7.51it/s]\n"
     ]
    },
    {
     "name": "stdout",
     "output_type": "stream",
     "text": [
      "Epoch: 33 Train Loss: 1.8565067678689957 Val Loss: 1.8563365697860719\n"
     ]
    },
    {
     "name": "stderr",
     "output_type": "stream",
     "text": [
      "100%|██████████| 40/40 [00:05<00:00,  6.87it/s]\n",
      "100%|██████████| 10/10 [00:01<00:00,  7.67it/s]\n"
     ]
    },
    {
     "name": "stdout",
     "output_type": "stream",
     "text": [
      "Epoch: 34 Train Loss: 1.8457136809825898 Val Loss: 1.8429678201675415\n"
     ]
    },
    {
     "name": "stderr",
     "output_type": "stream",
     "text": [
      "100%|██████████| 40/40 [00:06<00:00,  6.65it/s]\n",
      "100%|██████████| 10/10 [00:01<00:00,  7.87it/s]\n"
     ]
    },
    {
     "name": "stdout",
     "output_type": "stream",
     "text": [
      "Epoch: 35 Train Loss: 1.8279571294784547 Val Loss: 1.8328643918037415\n"
     ]
    },
    {
     "name": "stderr",
     "output_type": "stream",
     "text": [
      "100%|██████████| 40/40 [00:05<00:00,  6.79it/s]\n",
      "100%|██████████| 10/10 [00:01<00:00,  6.74it/s]\n"
     ]
    },
    {
     "name": "stdout",
     "output_type": "stream",
     "text": [
      "Epoch: 36 Train Loss: 1.8218814134597778 Val Loss: 1.8201382994651794\n"
     ]
    },
    {
     "name": "stderr",
     "output_type": "stream",
     "text": [
      "100%|██████████| 40/40 [00:05<00:00,  6.88it/s]\n",
      "100%|██████████| 10/10 [00:01<00:00,  7.69it/s]\n"
     ]
    },
    {
     "name": "stdout",
     "output_type": "stream",
     "text": [
      "Epoch: 37 Train Loss: 1.8164980709552765 Val Loss: 1.8097909092903137\n"
     ]
    },
    {
     "name": "stderr",
     "output_type": "stream",
     "text": [
      "100%|██████████| 40/40 [00:05<00:00,  6.96it/s]\n",
      "100%|██████████| 10/10 [00:01<00:00,  7.91it/s]\n"
     ]
    },
    {
     "name": "stdout",
     "output_type": "stream",
     "text": [
      "Epoch: 38 Train Loss: 1.803024199604988 Val Loss: 1.8037670373916626\n"
     ]
    },
    {
     "name": "stderr",
     "output_type": "stream",
     "text": [
      "100%|██████████| 40/40 [00:05<00:00,  6.95it/s]\n",
      "100%|██████████| 10/10 [00:01<00:00,  7.52it/s]"
     ]
    },
    {
     "name": "stdout",
     "output_type": "stream",
     "text": [
      "Epoch: 39 Train Loss: 1.7885792762041093 Val Loss: 1.786471700668335\n"
     ]
    },
    {
     "name": "stderr",
     "output_type": "stream",
     "text": [
      "\n"
     ]
    }
   ],
   "source": [
    "N_EPOCHS = 40\n",
    "\n",
    "criterion = nn.CrossEntropyLoss()\n",
    "optimizer = optim.SGD(model.parameters(), \n",
    "                      lr=0.001, \n",
    "                      momentum=0.9)\n",
    "\n",
    "for epoch in range(N_EPOCHS):\n",
    "\n",
    "    # Training \n",
    "    train_loss = 0.0\n",
    "    model.train() # <1>\n",
    "    for inputs, labels in tqdm(trainloader):\n",
    "\n",
    "        inputs = inputs.to(device)\n",
    "        labels = labels.to(device)\n",
    "\n",
    "        optimizer.zero_grad()\n",
    "\n",
    "        outputs = model(inputs)\n",
    "\n",
    "        loss = criterion(torch.log(outputs), labels)\n",
    "        loss.backward()\n",
    "        optimizer.step()\n",
    "\n",
    "        train_loss += loss.item()\n",
    "\n",
    "    # Validation\n",
    "    val_loss = 0.0\n",
    "    model.eval() # <2>\n",
    "    for inputs, labels in tqdm(valloader):\n",
    "        inputs = inputs.to(device)\n",
    "        labels = labels.to(device)\n",
    "\n",
    "        outputs = model(inputs)\n",
    "        loss = criterion(torch.log(outputs), labels)\n",
    "\n",
    "        val_loss += loss.item()\n",
    "\n",
    "    print(\"Epoch: {} Train Loss: {} Val Loss: {}\".format(\n",
    "                  epoch, \n",
    "                  train_loss/len(trainloader), \n",
    "                  val_loss/len(valloader)))"
   ]
  },
  {
   "cell_type": "code",
   "execution_count": 60,
   "metadata": {},
   "outputs": [
    {
     "name": "stderr",
     "output_type": "stream",
     "text": [
      "/tmp/ipykernel_2528441/3090054245.py:16: UserWarning: Implicit dimension choice for softmax has been deprecated. Change the call to include dim=X as an argument.\n",
      "  x = F.softmax(self.fc3(x))\n"
     ]
    },
    {
     "name": "stdout",
     "output_type": "stream",
     "text": [
      "10 1024\n",
      "Test Accuracy: 0.3509765565395355\n"
     ]
    }
   ],
   "source": [
    "num_correct = 0.0\n",
    "for x_test_batch, y_test_batch in testloader:\n",
    "    model.eval() \n",
    "    y_test_batch = y_test_batch.to(device)\n",
    "    x_test_batch = x_test_batch.to(device) \n",
    "    y_pred_batch = model(x_test_batch)\n",
    "    _, predicted = torch.max(y_pred_batch, 1) \n",
    "    num_correct += (predicted == y_test_batch).float().sum()\n",
    "\n",
    "accuracy = num_correct/(len(testloader)*testloader.batch_size)\n",
    "print(len(testloader), testloader.batch_size) \n",
    "print(\"Test Accuracy: {}\".format(accuracy))"
   ]
  },
  {
   "cell_type": "markdown",
   "metadata": {},
   "source": [
    "* Question: Please compare the accuracy of Vgg16 on CIFAR10 with the accuracy we obtained with LeNet5. Why is one better than another?\n",
    "\n",
    "    The first difference between the models are that one is pretrained (vgg16) on miniImageNet and the other is not.\n",
    "    \n",
    "    The second difference between the models the number of parameters vgg16 is significantly larger than LeNet also vgg16 is more complex."
   ]
  },
  {
   "cell_type": "markdown",
   "metadata": {},
   "source": [
    "# Problem 2"
   ]
  },
  {
   "cell_type": "markdown",
   "metadata": {},
   "source": [
    "\n",
    "\n",
    "## Dataset & Dataloader"
   ]
  },
  {
   "cell_type": "code",
   "execution_count": 124,
   "metadata": {},
   "outputs": [
    {
     "name": "stdout",
     "output_type": "stream",
     "text": [
      "Files already downloaded and verified\n",
      "Dataset CIFAR10\n",
      "    Number of datapoints: 50000\n",
      "    Root location: data//CIFAR10/train/\n",
      "    Split: Train\n",
      "    StandardTransform\n",
      "Transform: Compose(\n",
      "               RandomCrop(size=(32, 32), padding=4)\n",
      "               RandomHorizontalFlip(p=0.5)\n",
      "               ToTensor()\n",
      "               Normalize(mean=(0.4914, 0.4822, 0.4465), std=(0.2023, 0.1994, 0.201))\n",
      "           )\n",
      "    len:50000\n",
      "    shape:(32, 32, 3)\n",
      "    classes:{'airplane': 0, 'automobile': 1, 'bird': 2, 'cat': 3, 'deer': 4, 'dog': 5, 'frog': 6, 'horse': 7, 'ship': 8, 'truck': 9}\n",
      "Files already downloaded and verified\n",
      "Dataset CIFAR10\n",
      "    Number of datapoints: 10000\n",
      "    Root location: data//CIFAR10/test/\n",
      "    Split: Test\n",
      "    StandardTransform\n",
      "Transform: Compose(\n",
      "               RandomCrop(size=(32, 32), padding=4)\n",
      "               RandomHorizontalFlip(p=0.5)\n",
      "               ToTensor()\n",
      "               Normalize(mean=(0.4914, 0.4822, 0.4465), std=(0.2023, 0.1994, 0.201))\n",
      "           )\n",
      "    len:10000\n",
      "    shape:(32, 32, 3)\n",
      "    classes:{'airplane': 0, 'automobile': 1, 'bird': 2, 'cat': 3, 'deer': 4, 'dog': 5, 'frog': 6, 'horse': 7, 'ship': 8, 'truck': 9}\n"
     ]
    }
   ],
   "source": [
    "transform = transforms.Compose([\n",
    "  transforms.RandomCrop(32, padding=4),\n",
    "  transforms.RandomHorizontalFlip(),\n",
    "  transforms.ToTensor(),\n",
    "  transforms.Normalize(\n",
    "      (0.4914, 0.4822, 0.4465),\n",
    "      (0.2023, 0.1994, 0.2010))])\n",
    "\n",
    "batch_size = 1024\n",
    "\n",
    "START_PATH = \"data/\"\n",
    "create_folder(f\"{START_PATH}/CIFAR10/\")\n",
    "\n",
    "train_data = CIFAR10(root=f\"{START_PATH}/CIFAR10/train/\",\n",
    "                    train=True, \n",
    "                    download=True,\n",
    "                    transform=transform,)\n",
    "\n",
    "print(train_data)\n",
    "print(f\"    len:{len(train_data)}\")\n",
    "print(f\"    shape:{train_data.data.shape[1:]}\")\n",
    "print(f\"    classes:{train_data.class_to_idx}\")\n",
    "\n",
    "targets = [1, 3, 5, 9]\n",
    "indices = [i for i, label in enumerate(train_data.targets) if label in targets]\n",
    "\n",
    "train_data = Subset(train_data, indices)\n",
    "\n",
    "\n",
    "trainset, valset = random_split(\n",
    "                      train_data, \n",
    "                      [19500, 500])\n",
    "\n",
    "trainloader = torch.utils.data.DataLoader(trainset, batch_size=batch_size,\n",
    "                                          shuffle=True)\n",
    "\n",
    "valloader = torch.utils.data.DataLoader(valset, batch_size=batch_size,\n",
    "                                          shuffle=False)\n",
    "\n",
    "testset = CIFAR10(root=f\"{START_PATH}/CIFAR10/test/\", \n",
    "                    train=False, \n",
    "                    download=True,\n",
    "                    transform=transform)\n",
    "print(testset)\n",
    "print(f\"    len:{len(testset)}\")\n",
    "print(f\"    shape:{testset.data.shape[1:]}\")\n",
    "print(f\"    classes:{testset.class_to_idx}\")\n",
    "\n",
    "indices = [i for i, label in enumerate(testset.targets) if label in targets]\n",
    "testset = Subset(testset, indices)\n",
    "\n",
    "testloader = torch.utils.data.DataLoader(testset, batch_size=batch_size,\n",
    "                                         shuffle=False)\n",
    "\n",
    "labmap = {x:i for i, x in enumerate(targets)}\n",
    "\n",
    "reindex_T = torchvision.transforms.Compose([\n",
    "                                 lambda x:torch.LongTensor([labmap[i.item()] for i in x])])"
   ]
  },
  {
   "cell_type": "markdown",
   "metadata": {},
   "source": [
    "## Model"
   ]
  },
  {
   "cell_type": "code",
   "execution_count": 113,
   "metadata": {},
   "outputs": [],
   "source": [
    "model = vgg16(weights=torchvision.models.VGG16_Weights.DEFAULT)\n",
    "model.classifier[-1] = nn.Linear(4096, 4)\n",
    "device = \"cuda:1\" if torch.cuda.is_available() else \"cpu\"\n",
    "model = model.to(device=device)"
   ]
  },
  {
   "cell_type": "markdown",
   "metadata": {},
   "source": [
    "## Training"
   ]
  },
  {
   "cell_type": "code",
   "execution_count": 114,
   "metadata": {},
   "outputs": [
    {
     "name": "stderr",
     "output_type": "stream",
     "text": [
      "100%|██████████| 20/20 [00:03<00:00,  5.24it/s]\n",
      "100%|██████████| 1/1 [00:00<00:00, 17.24it/s]\n"
     ]
    },
    {
     "name": "stdout",
     "output_type": "stream",
     "text": [
      "Epoch: 0 Train Loss: 1.0842735469341278 Val Loss: 0.6538663506507874\n"
     ]
    },
    {
     "name": "stderr",
     "output_type": "stream",
     "text": [
      "100%|██████████| 20/20 [00:03<00:00,  5.61it/s]\n",
      "100%|██████████| 1/1 [00:00<00:00, 16.59it/s]\n"
     ]
    },
    {
     "name": "stdout",
     "output_type": "stream",
     "text": [
      "Epoch: 1 Train Loss: 0.6301272094249726 Val Loss: 0.49326857924461365\n"
     ]
    },
    {
     "name": "stderr",
     "output_type": "stream",
     "text": [
      "100%|██████████| 20/20 [00:03<00:00,  5.61it/s]\n",
      "100%|██████████| 1/1 [00:00<00:00, 13.01it/s]\n"
     ]
    },
    {
     "name": "stdout",
     "output_type": "stream",
     "text": [
      "Epoch: 2 Train Loss: 0.5042219743132591 Val Loss: 0.46651461720466614\n"
     ]
    },
    {
     "name": "stderr",
     "output_type": "stream",
     "text": [
      "100%|██████████| 20/20 [00:03<00:00,  5.71it/s]\n",
      "100%|██████████| 1/1 [00:00<00:00, 17.52it/s]\n"
     ]
    },
    {
     "name": "stdout",
     "output_type": "stream",
     "text": [
      "Epoch: 3 Train Loss: 0.4655347615480423 Val Loss: 0.394621342420578\n"
     ]
    },
    {
     "name": "stderr",
     "output_type": "stream",
     "text": [
      "100%|██████████| 20/20 [00:03<00:00,  5.79it/s]\n",
      "100%|██████████| 1/1 [00:00<00:00, 16.64it/s]\n"
     ]
    },
    {
     "name": "stdout",
     "output_type": "stream",
     "text": [
      "Epoch: 4 Train Loss: 0.42116420716047287 Val Loss: 0.3955713212490082\n"
     ]
    },
    {
     "name": "stderr",
     "output_type": "stream",
     "text": [
      "100%|██████████| 20/20 [00:03<00:00,  5.65it/s]\n",
      "100%|██████████| 1/1 [00:00<00:00, 14.83it/s]\n"
     ]
    },
    {
     "name": "stdout",
     "output_type": "stream",
     "text": [
      "Epoch: 5 Train Loss: 0.3978876531124115 Val Loss: 0.37294134497642517\n"
     ]
    },
    {
     "name": "stderr",
     "output_type": "stream",
     "text": [
      "100%|██████████| 20/20 [00:03<00:00,  5.55it/s]\n",
      "100%|██████████| 1/1 [00:00<00:00, 17.68it/s]\n"
     ]
    },
    {
     "name": "stdout",
     "output_type": "stream",
     "text": [
      "Epoch: 6 Train Loss: 0.3785146251320839 Val Loss: 0.3683062791824341\n"
     ]
    },
    {
     "name": "stderr",
     "output_type": "stream",
     "text": [
      "100%|██████████| 20/20 [00:03<00:00,  5.70it/s]\n",
      "100%|██████████| 1/1 [00:00<00:00, 15.97it/s]\n"
     ]
    },
    {
     "name": "stdout",
     "output_type": "stream",
     "text": [
      "Epoch: 7 Train Loss: 0.36358299404382705 Val Loss: 0.34197157621383667\n"
     ]
    },
    {
     "name": "stderr",
     "output_type": "stream",
     "text": [
      "100%|██████████| 20/20 [00:03<00:00,  5.38it/s]\n",
      "100%|██████████| 1/1 [00:00<00:00, 14.98it/s]\n"
     ]
    },
    {
     "name": "stdout",
     "output_type": "stream",
     "text": [
      "Epoch: 8 Train Loss: 0.36631740629673004 Val Loss: 0.35995039343833923\n"
     ]
    },
    {
     "name": "stderr",
     "output_type": "stream",
     "text": [
      "100%|██████████| 20/20 [00:03<00:00,  5.60it/s]\n",
      "100%|██████████| 1/1 [00:00<00:00, 16.69it/s]\n"
     ]
    },
    {
     "name": "stdout",
     "output_type": "stream",
     "text": [
      "Epoch: 9 Train Loss: 0.346533689647913 Val Loss: 0.35241562128067017\n"
     ]
    },
    {
     "name": "stderr",
     "output_type": "stream",
     "text": [
      "100%|██████████| 20/20 [00:03<00:00,  5.63it/s]\n",
      "100%|██████████| 1/1 [00:00<00:00, 17.37it/s]\n"
     ]
    },
    {
     "name": "stdout",
     "output_type": "stream",
     "text": [
      "Epoch: 10 Train Loss: 0.339718297123909 Val Loss: 0.30272620916366577\n"
     ]
    },
    {
     "name": "stderr",
     "output_type": "stream",
     "text": [
      "100%|██████████| 20/20 [00:03<00:00,  5.62it/s]\n",
      "100%|██████████| 1/1 [00:00<00:00, 16.62it/s]\n"
     ]
    },
    {
     "name": "stdout",
     "output_type": "stream",
     "text": [
      "Epoch: 11 Train Loss: 0.33701505661010744 Val Loss: 0.33656013011932373\n"
     ]
    },
    {
     "name": "stderr",
     "output_type": "stream",
     "text": [
      "100%|██████████| 20/20 [00:03<00:00,  5.39it/s]\n",
      "100%|██████████| 1/1 [00:00<00:00, 15.26it/s]\n"
     ]
    },
    {
     "name": "stdout",
     "output_type": "stream",
     "text": [
      "Epoch: 12 Train Loss: 0.3188662134110928 Val Loss: 0.3390875458717346\n"
     ]
    },
    {
     "name": "stderr",
     "output_type": "stream",
     "text": [
      "100%|██████████| 20/20 [00:03<00:00,  5.33it/s]\n",
      "100%|██████████| 1/1 [00:00<00:00, 14.65it/s]\n"
     ]
    },
    {
     "name": "stdout",
     "output_type": "stream",
     "text": [
      "Epoch: 13 Train Loss: 0.3202059805393219 Val Loss: 0.3200990557670593\n"
     ]
    },
    {
     "name": "stderr",
     "output_type": "stream",
     "text": [
      "100%|██████████| 20/20 [00:03<00:00,  5.48it/s]\n",
      "100%|██████████| 1/1 [00:00<00:00, 15.03it/s]\n"
     ]
    },
    {
     "name": "stdout",
     "output_type": "stream",
     "text": [
      "Epoch: 14 Train Loss: 0.3079750992357731 Val Loss: 0.2934420704841614\n"
     ]
    },
    {
     "name": "stderr",
     "output_type": "stream",
     "text": [
      "100%|██████████| 20/20 [00:03<00:00,  5.29it/s]\n",
      "100%|██████████| 1/1 [00:00<00:00, 15.92it/s]\n"
     ]
    },
    {
     "name": "stdout",
     "output_type": "stream",
     "text": [
      "Epoch: 15 Train Loss: 0.30969926714897156 Val Loss: 0.29812148213386536\n"
     ]
    },
    {
     "name": "stderr",
     "output_type": "stream",
     "text": [
      "100%|██████████| 20/20 [00:03<00:00,  5.44it/s]\n",
      "100%|██████████| 1/1 [00:00<00:00, 14.10it/s]\n"
     ]
    },
    {
     "name": "stdout",
     "output_type": "stream",
     "text": [
      "Epoch: 16 Train Loss: 0.31443904936313627 Val Loss: 0.2977924942970276\n"
     ]
    },
    {
     "name": "stderr",
     "output_type": "stream",
     "text": [
      "100%|██████████| 20/20 [00:03<00:00,  5.33it/s]\n",
      "100%|██████████| 1/1 [00:00<00:00, 15.90it/s]\n"
     ]
    },
    {
     "name": "stdout",
     "output_type": "stream",
     "text": [
      "Epoch: 17 Train Loss: 0.29608548805117607 Val Loss: 0.2844195067882538\n"
     ]
    },
    {
     "name": "stderr",
     "output_type": "stream",
     "text": [
      "100%|██████████| 20/20 [00:03<00:00,  5.34it/s]\n",
      "100%|██████████| 1/1 [00:00<00:00, 15.73it/s]\n"
     ]
    },
    {
     "name": "stdout",
     "output_type": "stream",
     "text": [
      "Epoch: 18 Train Loss: 0.28667439967393876 Val Loss: 0.28236061334609985\n"
     ]
    },
    {
     "name": "stderr",
     "output_type": "stream",
     "text": [
      "100%|██████████| 20/20 [00:03<00:00,  5.31it/s]\n",
      "100%|██████████| 1/1 [00:00<00:00, 13.22it/s]"
     ]
    },
    {
     "name": "stdout",
     "output_type": "stream",
     "text": [
      "Epoch: 19 Train Loss: 0.2926120921969414 Val Loss: 0.276605486869812\n"
     ]
    },
    {
     "name": "stderr",
     "output_type": "stream",
     "text": [
      "\n"
     ]
    }
   ],
   "source": [
    "N_EPOCHS = 20\n",
    "\n",
    "criterion = nn.CrossEntropyLoss()\n",
    "optimizer = optim.SGD(model.parameters(), \n",
    "                      lr=0.001, \n",
    "                      momentum=0.9)\n",
    "\n",
    "for epoch in range(N_EPOCHS):\n",
    "\n",
    "    # Training \n",
    "    train_loss = 0.0\n",
    "    model.train() # <1>\n",
    "    for inputs, labels in tqdm(trainloader):\n",
    "        labels = reindex_T(labels)\n",
    "        labels = labels.reshape(-1,1)\n",
    "        y_onehot = torch.FloatTensor(labels.shape[0], 4)\n",
    "\n",
    "        # In your for loop\n",
    "        y_onehot.zero_()\n",
    "        y_onehot.scatter_(1, labels, 1)\n",
    "        \n",
    "        inputs = inputs.to(device)\n",
    "        y_onehot = y_onehot.to(device)\n",
    "\n",
    "        optimizer.zero_grad()\n",
    "\n",
    "        outputs = model(inputs)\n",
    "\n",
    "        loss = criterion(outputs, y_onehot)\n",
    "        loss.backward()\n",
    "        optimizer.step()\n",
    "\n",
    "        train_loss += loss.item()\n",
    "\n",
    "    # Validation\n",
    "    val_loss = 0.0\n",
    "    model.eval() # <2>\n",
    "    for inputs, labels in tqdm(valloader):\n",
    "        labels = reindex_T(labels)\n",
    "        labels = labels.reshape(-1,1)\n",
    "        y_onehot = torch.FloatTensor(labels.shape[0], 4)\n",
    "\n",
    "        # In your for loop\n",
    "        y_onehot.zero_()\n",
    "        y_onehot.scatter_(1, labels, 1)\n",
    "\n",
    "        inputs = inputs.to(device)\n",
    "        y_onehot = y_onehot.to(device)\n",
    "\n",
    "        outputs = model(inputs)\n",
    "        loss = criterion(outputs, y_onehot)\n",
    "\n",
    "        val_loss += loss.item()\n",
    "\n",
    "    print(\"Epoch: {} Train Loss: {} Val Loss: {}\".format(\n",
    "                  epoch, \n",
    "                  train_loss/len(trainloader), \n",
    "                  val_loss/len(valloader)))"
   ]
  },
  {
   "cell_type": "code",
   "execution_count": 130,
   "metadata": {},
   "outputs": [
    {
     "name": "stdout",
     "output_type": "stream",
     "text": [
      "4 1024\n",
      "Test Accuracy: 0.85205078125\n"
     ]
    }
   ],
   "source": [
    "num_correct = 0.0\n",
    "for x_test_batch, y_test_batch in testloader:\n",
    "    model.eval() \n",
    "    y_test_batch = reindex_T(y_test_batch).to(device)\n",
    "    x_test_batch = x_test_batch.to(device) \n",
    "    y_pred_batch = model(x_test_batch)\n",
    "    _, predicted = torch.max(y_pred_batch, 1)\n",
    "    num_correct += (predicted == y_test_batch).float().sum()\n",
    "\n",
    "accuracy = num_correct/(len(testloader)*testloader.batch_size)\n",
    "print(len(testloader), testloader.batch_size) \n",
    "print(\"Test Accuracy: {}\".format(accuracy))"
   ]
  },
  {
   "cell_type": "markdown",
   "metadata": {},
   "source": [
    "# Problem 3"
   ]
  },
  {
   "cell_type": "markdown",
   "metadata": {},
   "source": [
    "First of all, I have to say that \"discuss\" is vague verb it does not give any information to the reader of what is it you ask. A problem needs a solution, problem 3 doesn't have a problem nor a question nor a solution in it, which makes it impossible to understand. The only thing I understood was I needed to make MNIST dataset for it.\n",
    "\n",
    "Class Definition:\n",
    "\n",
    "The code defines a class named Cifar10_Cont_Dataset that inherits from torch.utils.data.Dataset. This class is designed to work with the Cifar10 dataset and is used in PyTorch for creating data loaders.\n",
    "\n",
    "Initialization (\\_\\_init\\_\\_ method):\n",
    "\n",
    "This method is called when an instance of the class is created.\n",
    "\n",
    "It takes three arguments:\n",
    "\n",
    "data_df: A pandas DataFrame containing the Cifar10 dataset (expected to have columns named 'label' and image data).\n",
    "\n",
    "transform: An optional function to apply transformations to the images (e.g., normalization, resizing).\n",
    "\n",
    "is_test: A boolean flag indicating whether it's test or training mode.\n",
    "\n",
    "The method initializes several attributes:\n",
    "\n",
    "    dataset: a list of [image sample, randomly selected negetive or positive sample, distance of the two samples (loss), label].\n",
    "\n",
    "    labels_positive: A dictionary that maps labels to lists of images with the same label (used only in training mode).\n",
    "\n",
    "    labels_negative: A dictionary that maps labels to lists of images with different labels (used only in training mode).\n",
    "    \n",
    "    If is_test is False (training mode), the method preprocesses the data by creating the labels_positive and labels_negative dictionaries. This involves iterating through the unique labels in the DataFrame and storing corresponding images in the respective dictionaries.\n",
    "\n",
    "ToPILImage: Convert a tensor or an ndarray to PIL Image\n",
    "\n",
    "Normalize: Normalize a tensor image with mean and standard deviation.\n",
    "\n",
    "ToTensor: Convert a PIL Image or ndarray to tensor and scale the values accordingly.\n",
    "\n",
    "ToTensor is necessary the other ones don't really matter that much. ToPILImage is usually used to see what has happened to the samples and normalize, normalize the data since neural networks work better with smaller numbers and backpropagation is more efficient.\n"
   ]
  },
  {
   "cell_type": "code",
   "execution_count": 134,
   "metadata": {},
   "outputs": [
    {
     "name": "stdout",
     "output_type": "stream",
     "text": [
      "60000\n"
     ]
    }
   ],
   "source": [
    "train_transforms = transforms.Compose([\n",
    "  transforms.ToTensor(),\n",
    "  transforms.Normalize(\n",
    "      (0.4914, 0.4822, 0.4465),\n",
    "      (0.2023, 0.1994, 0.2010))])\n",
    "train_dataset = torchvision.datasets.MNIST(root=\"data/MNIST/\",\n",
    "                    train=True, \n",
    "                    download=True,\n",
    "                    transform = train_transforms)\n",
    "length=len(train_dataset)\n",
    "print(length)"
   ]
  },
  {
   "cell_type": "code",
   "execution_count": 137,
   "metadata": {},
   "outputs": [
    {
     "name": "stdout",
     "output_type": "stream",
     "text": [
      "torch.Size([28, 28])\n",
      "6000\n"
     ]
    },
    {
     "data": {
      "text/plain": [
       "RangeIndex(start=0, stop=784, step=1)"
      ]
     },
     "execution_count": 137,
     "metadata": {},
     "output_type": "execute_result"
    }
   ],
   "source": [
    "train_data, _ = random_split(train_dataset, [int(length/10), length - int(length/10)], torch.Generator().manual_seed(42))\n",
    "print(train_data.dataset.data[0].shape)\n",
    "print(len(train_data))\n",
    "df_t = pd.DataFrame(train_data.dataset.data[train_data.indices].reshape(len(train_data),np.prod(train_data.dataset.data[0].shape)))\n",
    "df_t.columns"
   ]
  },
  {
   "cell_type": "code",
   "execution_count": 139,
   "metadata": {},
   "outputs": [
    {
     "data": {
      "text/html": [
       "<div>\n",
       "<style scoped>\n",
       "    .dataframe tbody tr th:only-of-type {\n",
       "        vertical-align: middle;\n",
       "    }\n",
       "\n",
       "    .dataframe tbody tr th {\n",
       "        vertical-align: top;\n",
       "    }\n",
       "\n",
       "    .dataframe thead th {\n",
       "        text-align: right;\n",
       "    }\n",
       "</style>\n",
       "<table border=\"1\" class=\"dataframe\">\n",
       "  <thead>\n",
       "    <tr style=\"text-align: right;\">\n",
       "      <th></th>\n",
       "      <th>label</th>\n",
       "      <th>0</th>\n",
       "      <th>1</th>\n",
       "      <th>2</th>\n",
       "      <th>3</th>\n",
       "      <th>4</th>\n",
       "      <th>5</th>\n",
       "      <th>6</th>\n",
       "      <th>7</th>\n",
       "      <th>8</th>\n",
       "      <th>...</th>\n",
       "      <th>774</th>\n",
       "      <th>775</th>\n",
       "      <th>776</th>\n",
       "      <th>777</th>\n",
       "      <th>778</th>\n",
       "      <th>779</th>\n",
       "      <th>780</th>\n",
       "      <th>781</th>\n",
       "      <th>782</th>\n",
       "      <th>783</th>\n",
       "    </tr>\n",
       "  </thead>\n",
       "  <tbody>\n",
       "    <tr>\n",
       "      <th>0</th>\n",
       "      <td>6</td>\n",
       "      <td>0.0</td>\n",
       "      <td>0.0</td>\n",
       "      <td>0.0</td>\n",
       "      <td>0.0</td>\n",
       "      <td>0.0</td>\n",
       "      <td>0.0</td>\n",
       "      <td>0.0</td>\n",
       "      <td>0.0</td>\n",
       "      <td>0.0</td>\n",
       "      <td>...</td>\n",
       "      <td>-0.026952</td>\n",
       "      <td>-0.016352</td>\n",
       "      <td>-0.012911</td>\n",
       "      <td>0.0</td>\n",
       "      <td>0.0</td>\n",
       "      <td>0.0</td>\n",
       "      <td>0.0</td>\n",
       "      <td>0.0</td>\n",
       "      <td>0.0</td>\n",
       "      <td>0.0</td>\n",
       "    </tr>\n",
       "    <tr>\n",
       "      <th>1</th>\n",
       "      <td>7</td>\n",
       "      <td>0.0</td>\n",
       "      <td>0.0</td>\n",
       "      <td>0.0</td>\n",
       "      <td>0.0</td>\n",
       "      <td>0.0</td>\n",
       "      <td>0.0</td>\n",
       "      <td>0.0</td>\n",
       "      <td>0.0</td>\n",
       "      <td>0.0</td>\n",
       "      <td>...</td>\n",
       "      <td>-0.026952</td>\n",
       "      <td>-0.016352</td>\n",
       "      <td>-0.012911</td>\n",
       "      <td>0.0</td>\n",
       "      <td>0.0</td>\n",
       "      <td>0.0</td>\n",
       "      <td>0.0</td>\n",
       "      <td>0.0</td>\n",
       "      <td>0.0</td>\n",
       "      <td>0.0</td>\n",
       "    </tr>\n",
       "    <tr>\n",
       "      <th>2</th>\n",
       "      <td>6</td>\n",
       "      <td>0.0</td>\n",
       "      <td>0.0</td>\n",
       "      <td>0.0</td>\n",
       "      <td>0.0</td>\n",
       "      <td>0.0</td>\n",
       "      <td>0.0</td>\n",
       "      <td>0.0</td>\n",
       "      <td>0.0</td>\n",
       "      <td>0.0</td>\n",
       "      <td>...</td>\n",
       "      <td>-0.026952</td>\n",
       "      <td>-0.016352</td>\n",
       "      <td>-0.012911</td>\n",
       "      <td>0.0</td>\n",
       "      <td>0.0</td>\n",
       "      <td>0.0</td>\n",
       "      <td>0.0</td>\n",
       "      <td>0.0</td>\n",
       "      <td>0.0</td>\n",
       "      <td>0.0</td>\n",
       "    </tr>\n",
       "    <tr>\n",
       "      <th>3</th>\n",
       "      <td>9</td>\n",
       "      <td>0.0</td>\n",
       "      <td>0.0</td>\n",
       "      <td>0.0</td>\n",
       "      <td>0.0</td>\n",
       "      <td>0.0</td>\n",
       "      <td>0.0</td>\n",
       "      <td>0.0</td>\n",
       "      <td>0.0</td>\n",
       "      <td>0.0</td>\n",
       "      <td>...</td>\n",
       "      <td>-0.026952</td>\n",
       "      <td>-0.016352</td>\n",
       "      <td>-0.012911</td>\n",
       "      <td>0.0</td>\n",
       "      <td>0.0</td>\n",
       "      <td>0.0</td>\n",
       "      <td>0.0</td>\n",
       "      <td>0.0</td>\n",
       "      <td>0.0</td>\n",
       "      <td>0.0</td>\n",
       "    </tr>\n",
       "    <tr>\n",
       "      <th>4</th>\n",
       "      <td>4</td>\n",
       "      <td>0.0</td>\n",
       "      <td>0.0</td>\n",
       "      <td>0.0</td>\n",
       "      <td>0.0</td>\n",
       "      <td>0.0</td>\n",
       "      <td>0.0</td>\n",
       "      <td>0.0</td>\n",
       "      <td>0.0</td>\n",
       "      <td>0.0</td>\n",
       "      <td>...</td>\n",
       "      <td>-0.026952</td>\n",
       "      <td>-0.016352</td>\n",
       "      <td>-0.012911</td>\n",
       "      <td>0.0</td>\n",
       "      <td>0.0</td>\n",
       "      <td>0.0</td>\n",
       "      <td>0.0</td>\n",
       "      <td>0.0</td>\n",
       "      <td>0.0</td>\n",
       "      <td>0.0</td>\n",
       "    </tr>\n",
       "    <tr>\n",
       "      <th>...</th>\n",
       "      <td>...</td>\n",
       "      <td>...</td>\n",
       "      <td>...</td>\n",
       "      <td>...</td>\n",
       "      <td>...</td>\n",
       "      <td>...</td>\n",
       "      <td>...</td>\n",
       "      <td>...</td>\n",
       "      <td>...</td>\n",
       "      <td>...</td>\n",
       "      <td>...</td>\n",
       "      <td>...</td>\n",
       "      <td>...</td>\n",
       "      <td>...</td>\n",
       "      <td>...</td>\n",
       "      <td>...</td>\n",
       "      <td>...</td>\n",
       "      <td>...</td>\n",
       "      <td>...</td>\n",
       "      <td>...</td>\n",
       "      <td>...</td>\n",
       "    </tr>\n",
       "    <tr>\n",
       "      <th>5995</th>\n",
       "      <td>3</td>\n",
       "      <td>0.0</td>\n",
       "      <td>0.0</td>\n",
       "      <td>0.0</td>\n",
       "      <td>0.0</td>\n",
       "      <td>0.0</td>\n",
       "      <td>0.0</td>\n",
       "      <td>0.0</td>\n",
       "      <td>0.0</td>\n",
       "      <td>0.0</td>\n",
       "      <td>...</td>\n",
       "      <td>-0.026952</td>\n",
       "      <td>-0.016352</td>\n",
       "      <td>-0.012911</td>\n",
       "      <td>0.0</td>\n",
       "      <td>0.0</td>\n",
       "      <td>0.0</td>\n",
       "      <td>0.0</td>\n",
       "      <td>0.0</td>\n",
       "      <td>0.0</td>\n",
       "      <td>0.0</td>\n",
       "    </tr>\n",
       "    <tr>\n",
       "      <th>5996</th>\n",
       "      <td>4</td>\n",
       "      <td>0.0</td>\n",
       "      <td>0.0</td>\n",
       "      <td>0.0</td>\n",
       "      <td>0.0</td>\n",
       "      <td>0.0</td>\n",
       "      <td>0.0</td>\n",
       "      <td>0.0</td>\n",
       "      <td>0.0</td>\n",
       "      <td>0.0</td>\n",
       "      <td>...</td>\n",
       "      <td>-0.026952</td>\n",
       "      <td>-0.016352</td>\n",
       "      <td>-0.012911</td>\n",
       "      <td>0.0</td>\n",
       "      <td>0.0</td>\n",
       "      <td>0.0</td>\n",
       "      <td>0.0</td>\n",
       "      <td>0.0</td>\n",
       "      <td>0.0</td>\n",
       "      <td>0.0</td>\n",
       "    </tr>\n",
       "    <tr>\n",
       "      <th>5997</th>\n",
       "      <td>5</td>\n",
       "      <td>0.0</td>\n",
       "      <td>0.0</td>\n",
       "      <td>0.0</td>\n",
       "      <td>0.0</td>\n",
       "      <td>0.0</td>\n",
       "      <td>0.0</td>\n",
       "      <td>0.0</td>\n",
       "      <td>0.0</td>\n",
       "      <td>0.0</td>\n",
       "      <td>...</td>\n",
       "      <td>-0.026952</td>\n",
       "      <td>-0.016352</td>\n",
       "      <td>-0.012911</td>\n",
       "      <td>0.0</td>\n",
       "      <td>0.0</td>\n",
       "      <td>0.0</td>\n",
       "      <td>0.0</td>\n",
       "      <td>0.0</td>\n",
       "      <td>0.0</td>\n",
       "      <td>0.0</td>\n",
       "    </tr>\n",
       "    <tr>\n",
       "      <th>5998</th>\n",
       "      <td>0</td>\n",
       "      <td>0.0</td>\n",
       "      <td>0.0</td>\n",
       "      <td>0.0</td>\n",
       "      <td>0.0</td>\n",
       "      <td>0.0</td>\n",
       "      <td>0.0</td>\n",
       "      <td>0.0</td>\n",
       "      <td>0.0</td>\n",
       "      <td>0.0</td>\n",
       "      <td>...</td>\n",
       "      <td>-0.026952</td>\n",
       "      <td>-0.016352</td>\n",
       "      <td>-0.012911</td>\n",
       "      <td>0.0</td>\n",
       "      <td>0.0</td>\n",
       "      <td>0.0</td>\n",
       "      <td>0.0</td>\n",
       "      <td>0.0</td>\n",
       "      <td>0.0</td>\n",
       "      <td>0.0</td>\n",
       "    </tr>\n",
       "    <tr>\n",
       "      <th>5999</th>\n",
       "      <td>7</td>\n",
       "      <td>0.0</td>\n",
       "      <td>0.0</td>\n",
       "      <td>0.0</td>\n",
       "      <td>0.0</td>\n",
       "      <td>0.0</td>\n",
       "      <td>0.0</td>\n",
       "      <td>0.0</td>\n",
       "      <td>0.0</td>\n",
       "      <td>0.0</td>\n",
       "      <td>...</td>\n",
       "      <td>-0.026952</td>\n",
       "      <td>-0.016352</td>\n",
       "      <td>-0.012911</td>\n",
       "      <td>0.0</td>\n",
       "      <td>0.0</td>\n",
       "      <td>0.0</td>\n",
       "      <td>0.0</td>\n",
       "      <td>0.0</td>\n",
       "      <td>0.0</td>\n",
       "      <td>0.0</td>\n",
       "    </tr>\n",
       "  </tbody>\n",
       "</table>\n",
       "<p>6000 rows × 785 columns</p>\n",
       "</div>"
      ],
      "text/plain": [
       "      label    0    1    2    3    4    5    6    7    8  ...       774  \\\n",
       "0         6  0.0  0.0  0.0  0.0  0.0  0.0  0.0  0.0  0.0  ... -0.026952   \n",
       "1         7  0.0  0.0  0.0  0.0  0.0  0.0  0.0  0.0  0.0  ... -0.026952   \n",
       "2         6  0.0  0.0  0.0  0.0  0.0  0.0  0.0  0.0  0.0  ... -0.026952   \n",
       "3         9  0.0  0.0  0.0  0.0  0.0  0.0  0.0  0.0  0.0  ... -0.026952   \n",
       "4         4  0.0  0.0  0.0  0.0  0.0  0.0  0.0  0.0  0.0  ... -0.026952   \n",
       "...     ...  ...  ...  ...  ...  ...  ...  ...  ...  ...  ...       ...   \n",
       "5995      3  0.0  0.0  0.0  0.0  0.0  0.0  0.0  0.0  0.0  ... -0.026952   \n",
       "5996      4  0.0  0.0  0.0  0.0  0.0  0.0  0.0  0.0  0.0  ... -0.026952   \n",
       "5997      5  0.0  0.0  0.0  0.0  0.0  0.0  0.0  0.0  0.0  ... -0.026952   \n",
       "5998      0  0.0  0.0  0.0  0.0  0.0  0.0  0.0  0.0  0.0  ... -0.026952   \n",
       "5999      7  0.0  0.0  0.0  0.0  0.0  0.0  0.0  0.0  0.0  ... -0.026952   \n",
       "\n",
       "           775       776  777  778  779  780  781  782  783  \n",
       "0    -0.016352 -0.012911  0.0  0.0  0.0  0.0  0.0  0.0  0.0  \n",
       "1    -0.016352 -0.012911  0.0  0.0  0.0  0.0  0.0  0.0  0.0  \n",
       "2    -0.016352 -0.012911  0.0  0.0  0.0  0.0  0.0  0.0  0.0  \n",
       "3    -0.016352 -0.012911  0.0  0.0  0.0  0.0  0.0  0.0  0.0  \n",
       "4    -0.016352 -0.012911  0.0  0.0  0.0  0.0  0.0  0.0  0.0  \n",
       "...        ...       ...  ...  ...  ...  ...  ...  ...  ...  \n",
       "5995 -0.016352 -0.012911  0.0  0.0  0.0  0.0  0.0  0.0  0.0  \n",
       "5996 -0.016352 -0.012911  0.0  0.0  0.0  0.0  0.0  0.0  0.0  \n",
       "5997 -0.016352 -0.012911  0.0  0.0  0.0  0.0  0.0  0.0  0.0  \n",
       "5998 -0.016352 -0.012911  0.0  0.0  0.0  0.0  0.0  0.0  0.0  \n",
       "5999 -0.016352 -0.012911  0.0  0.0  0.0  0.0  0.0  0.0  0.0  \n",
       "\n",
       "[6000 rows x 785 columns]"
      ]
     },
     "execution_count": 139,
     "metadata": {},
     "output_type": "execute_result"
    }
   ],
   "source": [
    "from sklearn.preprocessing import StandardScaler\n",
    "\n",
    "# create a scaler object\n",
    "std_scaler = StandardScaler()\n",
    "std_scaler\n",
    "# fit and transform the data\n",
    "df_std = pd.DataFrame(std_scaler.fit_transform(df_t), columns=df_t.columns)\n",
    "df_std.insert(0, 'label',[train_data.dataset.targets[i].item() for i in train_data.indices])\n",
    "df_std"
   ]
  },
  {
   "cell_type": "code",
   "execution_count": 146,
   "metadata": {},
   "outputs": [
    {
     "name": "stderr",
     "output_type": "stream",
     "text": [
      "<>:47: SyntaxWarning: \"is not\" with a literal. Did you mean \"!=\"?\n",
      "<>:47: SyntaxWarning: \"is not\" with a literal. Did you mean \"!=\"?\n",
      "/tmp/ipykernel_2528441/2297181560.py:47: SyntaxWarning: \"is not\" with a literal. Did you mean \"!=\"?\n",
      "  if second is not -1:\n"
     ]
    }
   ],
   "source": [
    "class MNIST_Cont_Dataset(torch.utils.data.Dataset):\n",
    "    def __init__(self, data_df: pd.DataFrame, transform=None, is_test=False):\n",
    "        # method will run once when class object is created.\n",
    "        super(MNIST_Cont_Dataset, self).__init__()\n",
    "        dataset = []\n",
    "        labels_positive = {}\n",
    "        labels_negative = {}\n",
    "        if is_test == False:\n",
    "            # for each label create a set of same label images.\n",
    "            for i in list(data_df.label.unique()):\n",
    "                labels_positive[i] = data_df[data_df.label == i].to_numpy()\n",
    "            # for each label create a set of image of different label.\n",
    "            for i in list(data_df.label.unique()):\n",
    "                labels_negative[i] = data_df[data_df.label != i].to_numpy()\n",
    "\n",
    "        for i, row in tqdm(data_df.iterrows(), total=len(data_df)):\n",
    "            data = row.to_numpy()\n",
    "            # if test then only image will be returned.\n",
    "            if is_test:\n",
    "                label = -1\n",
    "                first = np.asarray(data[1:]).reshape(28, 28)\n",
    "                second = -1\n",
    "                dis = -1\n",
    "            else:\n",
    "                # label and image of the index for each row in df\n",
    "                label = data[0]\n",
    "                first = np.asarray(data[1:]).reshape(28, 28)\n",
    "                # probability of same label image == 0.5\n",
    "                if np.random.randint(0, 2) == 0:\n",
    "                    # randomly select same label image\n",
    "                    second = labels_positive[label][\n",
    "                        np.random.randint(0, len(labels_positive[label]))\n",
    "                    ]\n",
    "                else:\n",
    "                    # randomly select different(negative) label \n",
    "                    second = labels_negative[label][\n",
    "                        np.random.randint(0, len(labels_negative[label]))\n",
    "                    ]\n",
    "                # cosine is 1 for same and 0 for different label\n",
    "                dis = 1.0 if second[0] == label else 0.0\n",
    "                # reshape image\n",
    "                second = np.asarray(second[1:]).reshape(28, 28)\n",
    "\n",
    "            # apply transform on both images\n",
    "            if transform != None:\n",
    "                first = transform(first.astype(np.float32))\n",
    "                if second is not -1:\n",
    "                    second = transform(second.astype(np.float32))\n",
    "\n",
    "            # append to dataset list. \n",
    "            # this random list is created once and used in every epoch\n",
    "            dataset.append((first, second, dis, label))\n",
    "        \n",
    "        self.dataset = dataset\n",
    "        self.transform = transform\n",
    "        self.is_test = is_test\n",
    "\n",
    "    def __len__(self):\n",
    "        return len(self.dataset)\n",
    "\n",
    "    def __getitem__(self, i):\n",
    "        return self.dataset[i]"
   ]
  },
  {
   "cell_type": "code",
   "execution_count": 149,
   "metadata": {},
   "outputs": [
    {
     "name": "stderr",
     "output_type": "stream",
     "text": [
      "100%|██████████| 6000/6000 [00:00<00:00, 20045.98it/s]\n"
     ]
    }
   ],
   "source": [
    "train_transforms = transforms.Compose([\n",
    "  transforms.ToTensor(),\n",
    "  # MNIST samples don't have 3 channels so this normalizes doesnt work for them\n",
    "  # transforms.Normalize(\n",
    "  #     (0.4914, 0.4822, 0.4465),\n",
    "  #     (0.2023, 0.1994, 0.2010))\n",
    "  ])\n",
    "cont_dataset = MNIST_Cont_Dataset(df_std, transform=train_transforms, is_test = False)"
   ]
  },
  {
   "cell_type": "code",
   "execution_count": 148,
   "metadata": {},
   "outputs": [
    {
     "data": {
      "text/plain": [
       "torch.Size([1, 28, 28])"
      ]
     },
     "execution_count": 148,
     "metadata": {},
     "output_type": "execute_result"
    }
   ],
   "source": [
    "cont_dataset[0][0].shape"
   ]
  },
  {
   "cell_type": "code",
   "execution_count": 156,
   "metadata": {},
   "outputs": [
    {
     "data": {
      "text/plain": [
       "tensor([[[ 0.0000e+00,  0.0000e+00,  0.0000e+00,  0.0000e+00,  0.0000e+00,\n",
       "           0.0000e+00,  0.0000e+00,  0.0000e+00,  0.0000e+00,  0.0000e+00,\n",
       "           0.0000e+00,  0.0000e+00,  0.0000e+00,  0.0000e+00,  0.0000e+00,\n",
       "           0.0000e+00,  0.0000e+00,  0.0000e+00,  0.0000e+00,  0.0000e+00,\n",
       "           0.0000e+00,  0.0000e+00,  0.0000e+00,  0.0000e+00,  0.0000e+00,\n",
       "           0.0000e+00,  0.0000e+00,  0.0000e+00],\n",
       "         [ 0.0000e+00,  0.0000e+00,  0.0000e+00,  0.0000e+00,  0.0000e+00,\n",
       "           0.0000e+00,  0.0000e+00,  0.0000e+00,  0.0000e+00, -1.9176e-02,\n",
       "          -2.5940e-02, -2.5779e-02, -3.1474e-02, -2.6694e-02, -3.3916e-02,\n",
       "          -2.8713e-02, -2.6726e-02, -2.8346e-02, -2.3016e-02, -1.6706e-02,\n",
       "          -1.2911e-02, -1.2911e-02, -1.2911e-02, -1.2911e-02,  0.0000e+00,\n",
       "           0.0000e+00,  0.0000e+00,  0.0000e+00],\n",
       "         [ 0.0000e+00,  0.0000e+00,  0.0000e+00,  0.0000e+00, -1.2911e-02,\n",
       "          -1.2911e-02,  0.0000e+00, -1.2911e-02, -1.3903e-02, -4.4102e-02,\n",
       "          -6.3960e-02, -7.8035e-02, -9.8120e-02, -1.1828e-01, -1.3359e-01,\n",
       "          -1.4207e-01, -1.3674e-01, -1.2964e-01, -1.1159e-01, -9.0272e-02,\n",
       "          -7.1527e-02, -5.8973e-02, -4.6033e-02, -2.2656e-02, -1.2911e-02,\n",
       "           0.0000e+00,  0.0000e+00,  0.0000e+00],\n",
       "         [ 0.0000e+00,  0.0000e+00,  0.0000e+00, -1.2911e-02, -1.7241e-02,\n",
       "          -2.4673e-02, -3.1852e-02, -4.6284e-02, -6.8639e-02, -1.0393e-01,\n",
       "          -1.3221e-01, -1.6399e-01, -1.9143e-01, -2.1645e-01, -2.4199e-01,\n",
       "          -2.5219e-01, -2.5393e-01,  3.6940e-01,  1.4283e+00,  6.6817e+00,\n",
       "           9.0774e+00,  1.1317e+01,  1.3687e+01, -4.2039e-02, -2.1931e-02,\n",
       "          -1.2911e-02,  0.0000e+00,  0.0000e+00],\n",
       "         [ 0.0000e+00,  0.0000e+00,  0.0000e+00, -1.5507e-02, -2.0172e-02,\n",
       "          -5.3984e-02, -8.0049e-02, -1.2224e-01, -1.6791e-01, -2.1339e-01,\n",
       "          -2.6985e-01, -3.2996e-01, -3.9506e-01, -4.5540e-01, -5.0399e-01,\n",
       "          -5.3213e-01,  8.5071e-01,  1.7417e+00,  3.0501e+00,  3.6314e+00,\n",
       "           4.4952e+00,  6.0826e+00,  6.9691e+00, -9.5593e-02, -6.6610e-02,\n",
       "          -3.9739e-02, -1.7659e-02, -1.2911e-02],\n",
       "         [ 0.0000e+00,  0.0000e+00, -1.8106e-02, -2.9180e-02, -5.8009e-02,\n",
       "          -9.7757e-02, -1.4923e-01, -2.0462e-01, -2.6563e-01, -3.4022e-01,\n",
       "          -4.2883e-01, -5.2468e-01, -5.6512e-01, -6.3979e-01, -8.4430e-02,\n",
       "           9.3693e-01,  1.4241e+00,  1.6220e+00,  1.8948e+00,  2.2802e+00,\n",
       "           2.8419e+00,  3.7738e+00,  5.0103e+00,  2.8808e+00, -1.2742e-01,\n",
       "          -7.5766e-02, -3.1775e-02, -1.2911e-02],\n",
       "         [ 0.0000e+00, -1.2911e-02, -1.5586e-02, -3.9114e-02, -8.1819e-02,\n",
       "          -1.4535e-01, -2.1041e-01, -2.8187e-01, -3.6459e-01, -4.6201e-01,\n",
       "          -5.7282e-01, -4.4653e-01,  8.2407e-01,  1.2786e+00,  1.1486e+00,\n",
       "           1.1011e+00,  1.1370e+00,  1.2383e+00,  1.3997e+00,  1.6845e+00,\n",
       "           2.1043e+00,  2.8057e+00,  2.9427e+00, -2.3725e-01, -1.6588e-01,\n",
       "          -1.0277e-01, -5.2271e-02, -1.2911e-02],\n",
       "         [ 0.0000e+00, -1.6307e-02, -3.1119e-02, -6.2291e-02, -1.1818e-01,\n",
       "          -1.8503e-01, -2.6077e-01, -3.5161e-01, -4.5071e-01, -5.8068e-01,\n",
       "           4.2905e-01,  7.8460e-01,  1.2698e+00,  1.1406e+00,  1.0813e+00,\n",
       "           1.0605e+00,  1.0948e+00,  1.1561e+00,  1.2550e+00,  1.4493e+00,\n",
       "           1.7853e+00,  2.3539e+00,  9.1781e-01, -2.8111e-01, -1.9153e-01,\n",
       "          -1.1294e-01, -5.5939e-02, -1.8225e-02],\n",
       "         [-1.2911e-02, -2.1510e-02, -5.0715e-02, -8.4582e-02, -1.4387e-01,\n",
       "          -2.1651e-01, -3.0432e-01, -3.9706e-01, -3.1383e-01,  5.6833e-01,\n",
       "           1.4421e+00,  1.3010e+00,  1.1827e+00,  1.1645e+00,  1.1684e+00,\n",
       "           1.1855e+00,  1.2046e+00,  1.1975e+00,  1.1170e+00, -3.7067e-01,\n",
       "          -3.0130e-01, -7.4369e-02, -3.9401e-01, -2.9383e-01, -1.9305e-01,\n",
       "          -1.0922e-01, -5.0680e-02, -1.7607e-02],\n",
       "         [ 0.0000e+00, -1.8840e-02, -5.7865e-02, -9.2093e-02, -1.5650e-01,\n",
       "          -2.2960e-01, -3.2744e-01, -3.1009e-01,  2.1635e+00,  1.7085e+00,\n",
       "           1.4150e+00,  1.2694e+00,  1.2611e+00,  1.3558e+00,  1.4175e+00,\n",
       "           1.4425e+00,  7.0051e-01,  5.4603e-01, -4.7612e-01, -8.8265e-01,\n",
       "          -7.2724e-01, -5.6329e-01, -4.2046e-01, -2.9180e-01, -1.8350e-01,\n",
       "          -9.9339e-02, -4.4173e-02,  0.0000e+00],\n",
       "         [ 0.0000e+00, -2.2130e-02, -5.1649e-02, -9.2287e-02, -1.4960e-01,\n",
       "          -2.2982e-01, -3.2921e-01, -3.2453e-01,  2.0645e+00,  1.6412e+00,\n",
       "           1.3944e+00,  1.3435e+00,  1.4334e+00,  1.6021e+00,  1.1212e+00,\n",
       "           1.9948e-01, -7.4886e-01, -9.2543e-01, -9.3095e-01, -8.3793e-01,\n",
       "          -6.9022e-01, -5.3961e-01, -3.9855e-01, -2.7472e-01, -1.6428e-01,\n",
       "          -9.1204e-02, -3.6137e-02,  0.0000e+00],\n",
       "         [ 0.0000e+00, -2.4455e-02, -4.6926e-02, -8.7883e-02, -1.4133e-01,\n",
       "          -4.1857e-02,  1.7048e+00,  2.1952e+00,  1.9473e+00,  1.5561e+00,\n",
       "           1.3809e+00,  1.4134e+00,  1.4362e+00,  1.2476e+00, -5.2373e-01,\n",
       "          -7.9794e-01, -8.9809e-01, -9.5863e-01, -9.2944e-01, -5.5349e-01,\n",
       "          -4.8205e-01, -5.0142e-01, -3.7521e-01, -2.6297e-01, -1.5585e-01,\n",
       "          -6.5685e-02, -2.7645e-02, -1.2911e-02],\n",
       "         [ 0.0000e+00, -2.0389e-02, -3.2903e-02, -7.5266e-02, -1.2842e-01,\n",
       "           1.3326e+00,  3.5393e+00,  2.4599e+00,  1.8358e+00,  1.4991e+00,\n",
       "           1.3978e+00,  1.1782e+00, -1.6401e-01, -6.6933e-01,  4.2712e-02,\n",
       "          -6.0146e-02, -1.6065e-01, -1.7987e-01, -8.1510e-02,  1.5189e+00,\n",
       "           1.3072e+00,  6.7906e-01,  7.2184e-01, -2.5527e-01, -1.5458e-01,\n",
       "          -5.7072e-02, -1.8564e-02, -1.2911e-02],\n",
       "         [ 0.0000e+00, -1.5894e-02, -3.2841e-02, -5.9466e-02, -1.2713e-01,\n",
       "           1.2638e+00,  3.3697e+00,  2.3176e+00,  1.7596e+00,  1.4967e+00,\n",
       "           1.3146e+00, -2.7604e-01,  8.3390e-02,  6.7397e-01,  1.2385e+00,\n",
       "           1.1641e+00,  1.1285e+00,  1.1447e+00,  1.3119e+00,  1.6701e+00,\n",
       "           2.1176e+00,  2.5940e+00,  2.9966e+00,  1.3614e+00, -1.5745e-01,\n",
       "          -6.4377e-02, -2.4703e-02,  0.0000e+00],\n",
       "         [ 0.0000e+00, -1.5405e-02, -2.6326e-02, -4.7872e-02, -1.3496e-01,\n",
       "           4.5913e+00,  3.1237e+00,  2.2125e+00,  1.7307e+00,  1.5031e+00,\n",
       "           1.4327e+00,  1.2184e+00,  1.3259e+00,  1.2295e+00,  1.0801e+00,\n",
       "           1.0316e+00,  1.0589e+00,  1.1218e+00,  1.3264e+00,  1.6685e+00,\n",
       "           2.0624e+00,  2.4581e+00,  3.1455e+00,  4.1743e+00,  1.5777e+00,\n",
       "          -7.5762e-02, -1.9122e-02,  0.0000e+00],\n",
       "         [-1.2911e-02, -1.2911e-02, -2.2975e-02, -5.3478e-02, -1.4668e-01,\n",
       "           4.4801e+00,  2.8958e+00,  2.1646e+00,  1.7673e+00,  1.5744e+00,\n",
       "           1.5183e+00,  1.4747e+00,  1.3512e+00,  1.1546e+00,  1.0425e+00,\n",
       "           1.0336e+00,  1.0845e+00,  1.1640e+00,  1.3860e+00,  1.6715e+00,\n",
       "           2.0163e+00,  2.4081e+00,  3.1000e+00,  4.4491e+00,  1.7715e+00,\n",
       "          -8.3040e-02, -2.8194e-02,  0.0000e+00],\n",
       "         [-1.2911e-02, -1.2911e-02, -2.1765e-02, -6.0894e-02, -1.6452e-01,\n",
       "           4.1336e+00,  2.7922e+00,  2.1822e+00,  1.8401e+00,  1.6751e+00,\n",
       "           1.6117e+00,  1.5415e+00,  1.3836e+00,  1.2157e+00,  1.1233e+00,\n",
       "           1.1268e+00,  1.1829e+00,  1.2769e+00,  1.4625e+00,  1.6944e+00,\n",
       "           1.9612e+00,  2.4136e+00,  3.1492e+00,  4.5760e+00,  1.7874e+00,\n",
       "          -8.5457e-02, -3.0251e-02,  0.0000e+00],\n",
       "         [ 0.0000e+00, -1.7417e-02, -3.0538e-02, -7.5927e-02, -1.8656e-01,\n",
       "           3.9386e+00,  2.7525e+00,  2.2180e+00,  1.9688e+00,  1.8410e+00,\n",
       "           1.7540e+00,  1.6642e+00,  1.5147e+00,  1.3243e+00,  8.2705e-01,\n",
       "          -2.4598e-01, -7.6842e-01, -3.4750e-01,  9.0650e-01,  1.6790e+00,\n",
       "           1.9813e+00,  2.4724e+00,  3.3162e+00,  4.4008e+00,  1.6290e+00,\n",
       "          -8.2163e-02, -3.0250e-02, -1.2911e-02],\n",
       "         [ 0.0000e+00, -1.2911e-02, -3.9437e-02, -8.8885e-02, -2.0591e-01,\n",
       "           2.3629e+00,  2.6733e+00,  2.2351e+00,  2.0356e+00,  1.9089e+00,\n",
       "           1.7955e+00,  1.6867e+00,  1.6252e+00,  1.3198e+00,  7.6777e-02,\n",
       "           3.8612e-02,  2.3647e-01,  1.3597e+00,  1.4804e+00,  1.7008e+00,\n",
       "           2.0627e+00,  2.5852e+00,  3.5031e+00,  2.5783e+00, -1.5316e-01,\n",
       "          -8.3323e-02, -3.2104e-02, -1.2911e-02],\n",
       "         [ 0.0000e+00,  0.0000e+00, -4.5426e-02, -1.0123e-01, -2.1588e-01,\n",
       "           6.8404e-01,  2.6175e+00,  2.1804e+00,  1.9609e+00,  1.8025e+00,\n",
       "           1.6812e+00,  1.6018e+00,  1.5267e+00,  1.3890e+00,  1.2662e+00,\n",
       "           1.2334e+00,  1.2544e+00,  1.3159e+00,  1.4692e+00,  1.7585e+00,\n",
       "           2.1882e+00,  2.7867e+00,  3.1550e+00,  6.9339e-01, -1.3338e-01,\n",
       "          -6.9909e-02, -2.9398e-02, -1.2911e-02],\n",
       "         [ 0.0000e+00,  0.0000e+00, -4.5347e-02, -1.0857e-01, -2.1304e-01,\n",
       "           4.7965e-01,  2.2996e+00,  2.1001e+00,  1.8096e+00,  1.6245e+00,\n",
       "           1.5109e+00,  1.4232e+00,  1.3277e+00,  1.2120e+00,  1.1486e+00,\n",
       "           1.1419e+00,  1.2008e+00,  1.3397e+00,  1.5659e+00,  1.9277e+00,\n",
       "           2.1865e+00,  5.4128e-01, -1.5243e-01, -1.8532e-01, -1.2019e-01,\n",
       "          -5.8446e-02, -1.9477e-02,  0.0000e+00],\n",
       "         [ 0.0000e+00,  0.0000e+00, -4.3288e-02, -1.0115e-01, -1.9124e-01,\n",
       "          -3.0293e-01,  4.7487e-01,  1.8691e+00,  1.7675e+00,  1.5205e+00,\n",
       "           1.3748e+00,  1.2580e+00,  1.1668e+00,  1.0956e+00,  1.0753e+00,\n",
       "           1.1316e+00,  1.2730e+00,  1.5168e+00,  1.8439e+00,  1.0309e+00,\n",
       "           5.8436e-01, -3.0194e-01, -2.2114e-01, -1.5545e-01, -1.0322e-01,\n",
       "          -5.0067e-02, -2.4689e-02,  0.0000e+00],\n",
       "         [ 0.0000e+00,  0.0000e+00, -3.1459e-02, -7.7364e-02, -1.4857e-01,\n",
       "          -2.4497e-01, -3.6009e-01,  1.9794e-01,  1.9515e+00,  1.6133e+00,\n",
       "           1.3814e+00,  1.2201e+00,  1.1377e+00,  1.1065e+00,  1.1488e+00,\n",
       "           1.2832e+00,  1.2740e+00, -1.0105e-02,  2.1193e-01, -3.4384e-01,\n",
       "          -3.0795e-01, -2.2835e-01, -1.7103e-01, -1.1659e-01, -7.6317e-02,\n",
       "          -4.2900e-02, -1.4560e-02,  0.0000e+00],\n",
       "         [ 0.0000e+00,  0.0000e+00, -2.5493e-02, -4.8041e-02, -9.7657e-02,\n",
       "          -1.6847e-01, -2.6266e-01, -3.7040e-01, -4.8904e-01, -6.1138e-01,\n",
       "          -7.4816e-01, -8.6120e-01, -9.1958e-01, -9.1647e-01, -8.5433e-01,\n",
       "          -7.4341e-01, -6.1391e-01, -4.9645e-01, -3.8424e-01, -2.9604e-01,\n",
       "          -2.1653e-01, -1.5834e-01, -1.1722e-01, -7.7016e-02, -5.3235e-02,\n",
       "          -2.1041e-02,  0.0000e+00,  0.0000e+00],\n",
       "         [ 0.0000e+00,  0.0000e+00, -1.7886e-02, -3.0319e-02, -5.5234e-02,\n",
       "          -8.8365e-02, -1.4924e-01, -2.2550e-01, -2.9916e-01, -3.8046e-01,\n",
       "          -4.6291e-01, -5.2782e-01, -5.6766e-01, -5.6009e-01, -5.2289e-01,\n",
       "          -4.6270e-01, -3.9230e-01, -3.2637e-01, -2.5595e-01, -1.9828e-01,\n",
       "          -1.4140e-01, -1.0343e-01, -7.5345e-02, -5.1741e-02, -3.1824e-02,\n",
       "          -1.8193e-02, -1.2911e-02,  0.0000e+00],\n",
       "         [ 0.0000e+00,  0.0000e+00,  0.0000e+00, -1.2911e-02, -2.9511e-02,\n",
       "          -4.9143e-02, -7.8366e-02, -1.1821e-01, -1.6896e-01, -2.1577e-01,\n",
       "          -2.6296e-01, -2.9467e-01, -3.0560e-01, -2.9955e-01, -2.8147e-01,\n",
       "          -2.5394e-01, -2.2454e-01, -1.9039e-01, -1.5630e-01, -1.2318e-01,\n",
       "          -8.8320e-02, -6.4422e-02, -4.9998e-02, -2.8616e-02, -2.3265e-02,\n",
       "          -1.2911e-02, -1.2911e-02,  0.0000e+00],\n",
       "         [ 0.0000e+00,  0.0000e+00,  0.0000e+00,  0.0000e+00, -1.4971e-02,\n",
       "          -3.0462e-02, -5.0573e-02, -7.6303e-02, -1.0492e-01, -1.3026e-01,\n",
       "          -1.5972e-01, -1.7478e-01, -1.8147e-01, -1.7495e-01, -1.5959e-01,\n",
       "          -1.3902e-01, -1.1854e-01, -1.0673e-01, -8.8302e-02, -7.8607e-02,\n",
       "          -5.5472e-02, -4.2591e-02, -2.4352e-02, -1.3191e-02,  0.0000e+00,\n",
       "           0.0000e+00,  0.0000e+00,  0.0000e+00],\n",
       "         [ 0.0000e+00,  0.0000e+00,  0.0000e+00,  0.0000e+00,  0.0000e+00,\n",
       "           0.0000e+00,  0.0000e+00, -1.9345e-02, -3.4170e-02, -4.1353e-02,\n",
       "          -4.4095e-02, -4.2658e-02, -4.9949e-02, -5.6413e-02, -5.8557e-02,\n",
       "          -5.2041e-02, -5.4328e-02, -4.1349e-02, -2.6952e-02, -1.6352e-02,\n",
       "          -1.2911e-02,  0.0000e+00,  0.0000e+00,  0.0000e+00,  0.0000e+00,\n",
       "           0.0000e+00,  0.0000e+00,  0.0000e+00]]])"
      ]
     },
     "execution_count": 156,
     "metadata": {},
     "output_type": "execute_result"
    }
   ],
   "source": [
    "cont_dataset[0][0]"
   ]
  },
  {
   "cell_type": "code",
   "execution_count": 154,
   "metadata": {},
   "outputs": [
    {
     "name": "stderr",
     "output_type": "stream",
     "text": [
      "100%|██████████| 6000/6000 [00:00<00:00, 9022.03it/s]\n"
     ]
    }
   ],
   "source": [
    "train_transforms = transforms.Compose([\n",
    "# MNIST samples don't have 3 channels so RGB doesnt work for them\n",
    "  transforms.ToPILImage(),\n",
    "  transforms.ToTensor(),\n",
    "#   transforms.Normalize(\n",
    "#       (0.4914, 0.4822, 0.4465),\n",
    "#       (0.2023, 0.1994, 0.2010))\n",
    "])\n",
    "cont_dataset2 = MNIST_Cont_Dataset(df_std, transform=train_transforms, is_test = False)"
   ]
  },
  {
   "cell_type": "code",
   "execution_count": 155,
   "metadata": {},
   "outputs": [
    {
     "data": {
      "text/plain": [
       "tensor([[[ 0.0000e+00,  0.0000e+00,  0.0000e+00,  0.0000e+00,  0.0000e+00,\n",
       "           0.0000e+00,  0.0000e+00,  0.0000e+00,  0.0000e+00,  0.0000e+00,\n",
       "           0.0000e+00,  0.0000e+00,  0.0000e+00,  0.0000e+00,  0.0000e+00,\n",
       "           0.0000e+00,  0.0000e+00,  0.0000e+00,  0.0000e+00,  0.0000e+00,\n",
       "           0.0000e+00,  0.0000e+00,  0.0000e+00,  0.0000e+00,  0.0000e+00,\n",
       "           0.0000e+00,  0.0000e+00,  0.0000e+00],\n",
       "         [ 0.0000e+00,  0.0000e+00,  0.0000e+00,  0.0000e+00,  0.0000e+00,\n",
       "           0.0000e+00,  0.0000e+00,  0.0000e+00,  0.0000e+00, -1.9176e-02,\n",
       "          -2.5940e-02, -2.5779e-02, -3.1474e-02, -2.6694e-02, -3.3916e-02,\n",
       "          -2.8713e-02, -2.6726e-02, -2.8346e-02, -2.3016e-02, -1.6706e-02,\n",
       "          -1.2911e-02, -1.2911e-02, -1.2911e-02, -1.2911e-02,  0.0000e+00,\n",
       "           0.0000e+00,  0.0000e+00,  0.0000e+00],\n",
       "         [ 0.0000e+00,  0.0000e+00,  0.0000e+00,  0.0000e+00, -1.2911e-02,\n",
       "          -1.2911e-02,  0.0000e+00, -1.2911e-02, -1.3903e-02, -4.4102e-02,\n",
       "          -6.3960e-02, -7.8035e-02, -9.8120e-02, -1.1828e-01, -1.3359e-01,\n",
       "          -1.4207e-01, -1.3674e-01, -1.2964e-01, -1.1159e-01, -9.0272e-02,\n",
       "          -7.1527e-02, -5.8973e-02, -4.6033e-02, -2.2656e-02, -1.2911e-02,\n",
       "           0.0000e+00,  0.0000e+00,  0.0000e+00],\n",
       "         [ 0.0000e+00,  0.0000e+00,  0.0000e+00, -1.2911e-02, -1.7241e-02,\n",
       "          -2.4673e-02, -3.1852e-02, -4.6284e-02, -6.8639e-02, -1.0393e-01,\n",
       "          -1.3221e-01, -1.6399e-01, -1.9143e-01, -2.1645e-01, -2.4199e-01,\n",
       "          -2.5219e-01, -2.5393e-01,  3.6940e-01,  1.4283e+00,  6.6817e+00,\n",
       "           9.0774e+00,  1.1317e+01,  1.3687e+01, -4.2039e-02, -2.1931e-02,\n",
       "          -1.2911e-02,  0.0000e+00,  0.0000e+00],\n",
       "         [ 0.0000e+00,  0.0000e+00,  0.0000e+00, -1.5507e-02, -2.0172e-02,\n",
       "          -5.3984e-02, -8.0049e-02, -1.2224e-01, -1.6791e-01, -2.1339e-01,\n",
       "          -2.6985e-01, -3.2996e-01, -3.9506e-01, -4.5540e-01, -5.0399e-01,\n",
       "          -5.3213e-01,  8.5071e-01,  1.7417e+00,  3.0501e+00,  3.6314e+00,\n",
       "           4.4952e+00,  6.0826e+00,  6.9691e+00, -9.5593e-02, -6.6610e-02,\n",
       "          -3.9739e-02, -1.7659e-02, -1.2911e-02],\n",
       "         [ 0.0000e+00,  0.0000e+00, -1.8106e-02, -2.9180e-02, -5.8009e-02,\n",
       "          -9.7757e-02, -1.4923e-01, -2.0462e-01, -2.6563e-01, -3.4022e-01,\n",
       "          -4.2883e-01, -5.2468e-01, -5.6512e-01, -6.3979e-01, -8.4430e-02,\n",
       "           9.3693e-01,  1.4241e+00,  1.6220e+00,  1.8948e+00,  2.2802e+00,\n",
       "           2.8419e+00,  3.7738e+00,  5.0103e+00,  2.8808e+00, -1.2742e-01,\n",
       "          -7.5766e-02, -3.1775e-02, -1.2911e-02],\n",
       "         [ 0.0000e+00, -1.2911e-02, -1.5586e-02, -3.9114e-02, -8.1819e-02,\n",
       "          -1.4535e-01, -2.1041e-01, -2.8187e-01, -3.6459e-01, -4.6201e-01,\n",
       "          -5.7282e-01, -4.4653e-01,  8.2407e-01,  1.2786e+00,  1.1486e+00,\n",
       "           1.1011e+00,  1.1370e+00,  1.2383e+00,  1.3997e+00,  1.6845e+00,\n",
       "           2.1043e+00,  2.8057e+00,  2.9427e+00, -2.3725e-01, -1.6588e-01,\n",
       "          -1.0277e-01, -5.2271e-02, -1.2911e-02],\n",
       "         [ 0.0000e+00, -1.6307e-02, -3.1119e-02, -6.2291e-02, -1.1818e-01,\n",
       "          -1.8503e-01, -2.6077e-01, -3.5161e-01, -4.5071e-01, -5.8068e-01,\n",
       "           4.2905e-01,  7.8460e-01,  1.2698e+00,  1.1406e+00,  1.0813e+00,\n",
       "           1.0605e+00,  1.0948e+00,  1.1561e+00,  1.2550e+00,  1.4493e+00,\n",
       "           1.7853e+00,  2.3539e+00,  9.1781e-01, -2.8111e-01, -1.9153e-01,\n",
       "          -1.1294e-01, -5.5939e-02, -1.8225e-02],\n",
       "         [-1.2911e-02, -2.1510e-02, -5.0715e-02, -8.4582e-02, -1.4387e-01,\n",
       "          -2.1651e-01, -3.0432e-01, -3.9706e-01, -3.1383e-01,  5.6833e-01,\n",
       "           1.4421e+00,  1.3010e+00,  1.1827e+00,  1.1645e+00,  1.1684e+00,\n",
       "           1.1855e+00,  1.2046e+00,  1.1975e+00,  1.1170e+00, -3.7067e-01,\n",
       "          -3.0130e-01, -7.4369e-02, -3.9401e-01, -2.9383e-01, -1.9305e-01,\n",
       "          -1.0922e-01, -5.0680e-02, -1.7607e-02],\n",
       "         [ 0.0000e+00, -1.8840e-02, -5.7865e-02, -9.2093e-02, -1.5650e-01,\n",
       "          -2.2960e-01, -3.2744e-01, -3.1009e-01,  2.1635e+00,  1.7085e+00,\n",
       "           1.4150e+00,  1.2694e+00,  1.2611e+00,  1.3558e+00,  1.4175e+00,\n",
       "           1.4425e+00,  7.0051e-01,  5.4603e-01, -4.7612e-01, -8.8265e-01,\n",
       "          -7.2724e-01, -5.6329e-01, -4.2046e-01, -2.9180e-01, -1.8350e-01,\n",
       "          -9.9339e-02, -4.4173e-02,  0.0000e+00],\n",
       "         [ 0.0000e+00, -2.2130e-02, -5.1649e-02, -9.2287e-02, -1.4960e-01,\n",
       "          -2.2982e-01, -3.2921e-01, -3.2453e-01,  2.0645e+00,  1.6412e+00,\n",
       "           1.3944e+00,  1.3435e+00,  1.4334e+00,  1.6021e+00,  1.1212e+00,\n",
       "           1.9948e-01, -7.4886e-01, -9.2543e-01, -9.3095e-01, -8.3793e-01,\n",
       "          -6.9022e-01, -5.3961e-01, -3.9855e-01, -2.7472e-01, -1.6428e-01,\n",
       "          -9.1204e-02, -3.6137e-02,  0.0000e+00],\n",
       "         [ 0.0000e+00, -2.4455e-02, -4.6926e-02, -8.7883e-02, -1.4133e-01,\n",
       "          -4.1857e-02,  1.7048e+00,  2.1952e+00,  1.9473e+00,  1.5561e+00,\n",
       "           1.3809e+00,  1.4134e+00,  1.4362e+00,  1.2476e+00, -5.2373e-01,\n",
       "          -7.9794e-01, -8.9809e-01, -9.5863e-01, -9.2944e-01, -5.5349e-01,\n",
       "          -4.8205e-01, -5.0142e-01, -3.7521e-01, -2.6297e-01, -1.5585e-01,\n",
       "          -6.5685e-02, -2.7645e-02, -1.2911e-02],\n",
       "         [ 0.0000e+00, -2.0389e-02, -3.2903e-02, -7.5266e-02, -1.2842e-01,\n",
       "           1.3326e+00,  3.5393e+00,  2.4599e+00,  1.8358e+00,  1.4991e+00,\n",
       "           1.3978e+00,  1.1782e+00, -1.6401e-01, -6.6933e-01,  4.2712e-02,\n",
       "          -6.0146e-02, -1.6065e-01, -1.7987e-01, -8.1510e-02,  1.5189e+00,\n",
       "           1.3072e+00,  6.7906e-01,  7.2184e-01, -2.5527e-01, -1.5458e-01,\n",
       "          -5.7072e-02, -1.8564e-02, -1.2911e-02],\n",
       "         [ 0.0000e+00, -1.5894e-02, -3.2841e-02, -5.9466e-02, -1.2713e-01,\n",
       "           1.2638e+00,  3.3697e+00,  2.3176e+00,  1.7596e+00,  1.4967e+00,\n",
       "           1.3146e+00, -2.7604e-01,  8.3390e-02,  6.7397e-01,  1.2385e+00,\n",
       "           1.1641e+00,  1.1285e+00,  1.1447e+00,  1.3119e+00,  1.6701e+00,\n",
       "           2.1176e+00,  2.5940e+00,  2.9966e+00,  1.3614e+00, -1.5745e-01,\n",
       "          -6.4377e-02, -2.4703e-02,  0.0000e+00],\n",
       "         [ 0.0000e+00, -1.5405e-02, -2.6326e-02, -4.7872e-02, -1.3496e-01,\n",
       "           4.5913e+00,  3.1237e+00,  2.2125e+00,  1.7307e+00,  1.5031e+00,\n",
       "           1.4327e+00,  1.2184e+00,  1.3259e+00,  1.2295e+00,  1.0801e+00,\n",
       "           1.0316e+00,  1.0589e+00,  1.1218e+00,  1.3264e+00,  1.6685e+00,\n",
       "           2.0624e+00,  2.4581e+00,  3.1455e+00,  4.1743e+00,  1.5777e+00,\n",
       "          -7.5762e-02, -1.9122e-02,  0.0000e+00],\n",
       "         [-1.2911e-02, -1.2911e-02, -2.2975e-02, -5.3478e-02, -1.4668e-01,\n",
       "           4.4801e+00,  2.8958e+00,  2.1646e+00,  1.7673e+00,  1.5744e+00,\n",
       "           1.5183e+00,  1.4747e+00,  1.3512e+00,  1.1546e+00,  1.0425e+00,\n",
       "           1.0336e+00,  1.0845e+00,  1.1640e+00,  1.3860e+00,  1.6715e+00,\n",
       "           2.0163e+00,  2.4081e+00,  3.1000e+00,  4.4491e+00,  1.7715e+00,\n",
       "          -8.3040e-02, -2.8194e-02,  0.0000e+00],\n",
       "         [-1.2911e-02, -1.2911e-02, -2.1765e-02, -6.0894e-02, -1.6452e-01,\n",
       "           4.1336e+00,  2.7922e+00,  2.1822e+00,  1.8401e+00,  1.6751e+00,\n",
       "           1.6117e+00,  1.5415e+00,  1.3836e+00,  1.2157e+00,  1.1233e+00,\n",
       "           1.1268e+00,  1.1829e+00,  1.2769e+00,  1.4625e+00,  1.6944e+00,\n",
       "           1.9612e+00,  2.4136e+00,  3.1492e+00,  4.5760e+00,  1.7874e+00,\n",
       "          -8.5457e-02, -3.0251e-02,  0.0000e+00],\n",
       "         [ 0.0000e+00, -1.7417e-02, -3.0538e-02, -7.5927e-02, -1.8656e-01,\n",
       "           3.9386e+00,  2.7525e+00,  2.2180e+00,  1.9688e+00,  1.8410e+00,\n",
       "           1.7540e+00,  1.6642e+00,  1.5147e+00,  1.3243e+00,  8.2705e-01,\n",
       "          -2.4598e-01, -7.6842e-01, -3.4750e-01,  9.0650e-01,  1.6790e+00,\n",
       "           1.9813e+00,  2.4724e+00,  3.3162e+00,  4.4008e+00,  1.6290e+00,\n",
       "          -8.2163e-02, -3.0250e-02, -1.2911e-02],\n",
       "         [ 0.0000e+00, -1.2911e-02, -3.9437e-02, -8.8885e-02, -2.0591e-01,\n",
       "           2.3629e+00,  2.6733e+00,  2.2351e+00,  2.0356e+00,  1.9089e+00,\n",
       "           1.7955e+00,  1.6867e+00,  1.6252e+00,  1.3198e+00,  7.6777e-02,\n",
       "           3.8612e-02,  2.3647e-01,  1.3597e+00,  1.4804e+00,  1.7008e+00,\n",
       "           2.0627e+00,  2.5852e+00,  3.5031e+00,  2.5783e+00, -1.5316e-01,\n",
       "          -8.3323e-02, -3.2104e-02, -1.2911e-02],\n",
       "         [ 0.0000e+00,  0.0000e+00, -4.5426e-02, -1.0123e-01, -2.1588e-01,\n",
       "           6.8404e-01,  2.6175e+00,  2.1804e+00,  1.9609e+00,  1.8025e+00,\n",
       "           1.6812e+00,  1.6018e+00,  1.5267e+00,  1.3890e+00,  1.2662e+00,\n",
       "           1.2334e+00,  1.2544e+00,  1.3159e+00,  1.4692e+00,  1.7585e+00,\n",
       "           2.1882e+00,  2.7867e+00,  3.1550e+00,  6.9339e-01, -1.3338e-01,\n",
       "          -6.9909e-02, -2.9398e-02, -1.2911e-02],\n",
       "         [ 0.0000e+00,  0.0000e+00, -4.5347e-02, -1.0857e-01, -2.1304e-01,\n",
       "           4.7965e-01,  2.2996e+00,  2.1001e+00,  1.8096e+00,  1.6245e+00,\n",
       "           1.5109e+00,  1.4232e+00,  1.3277e+00,  1.2120e+00,  1.1486e+00,\n",
       "           1.1419e+00,  1.2008e+00,  1.3397e+00,  1.5659e+00,  1.9277e+00,\n",
       "           2.1865e+00,  5.4128e-01, -1.5243e-01, -1.8532e-01, -1.2019e-01,\n",
       "          -5.8446e-02, -1.9477e-02,  0.0000e+00],\n",
       "         [ 0.0000e+00,  0.0000e+00, -4.3288e-02, -1.0115e-01, -1.9124e-01,\n",
       "          -3.0293e-01,  4.7487e-01,  1.8691e+00,  1.7675e+00,  1.5205e+00,\n",
       "           1.3748e+00,  1.2580e+00,  1.1668e+00,  1.0956e+00,  1.0753e+00,\n",
       "           1.1316e+00,  1.2730e+00,  1.5168e+00,  1.8439e+00,  1.0309e+00,\n",
       "           5.8436e-01, -3.0194e-01, -2.2114e-01, -1.5545e-01, -1.0322e-01,\n",
       "          -5.0067e-02, -2.4689e-02,  0.0000e+00],\n",
       "         [ 0.0000e+00,  0.0000e+00, -3.1459e-02, -7.7364e-02, -1.4857e-01,\n",
       "          -2.4497e-01, -3.6009e-01,  1.9794e-01,  1.9515e+00,  1.6133e+00,\n",
       "           1.3814e+00,  1.2201e+00,  1.1377e+00,  1.1065e+00,  1.1488e+00,\n",
       "           1.2832e+00,  1.2740e+00, -1.0105e-02,  2.1193e-01, -3.4384e-01,\n",
       "          -3.0795e-01, -2.2835e-01, -1.7103e-01, -1.1659e-01, -7.6317e-02,\n",
       "          -4.2900e-02, -1.4560e-02,  0.0000e+00],\n",
       "         [ 0.0000e+00,  0.0000e+00, -2.5493e-02, -4.8041e-02, -9.7657e-02,\n",
       "          -1.6847e-01, -2.6266e-01, -3.7040e-01, -4.8904e-01, -6.1138e-01,\n",
       "          -7.4816e-01, -8.6120e-01, -9.1958e-01, -9.1647e-01, -8.5433e-01,\n",
       "          -7.4341e-01, -6.1391e-01, -4.9645e-01, -3.8424e-01, -2.9604e-01,\n",
       "          -2.1653e-01, -1.5834e-01, -1.1722e-01, -7.7016e-02, -5.3235e-02,\n",
       "          -2.1041e-02,  0.0000e+00,  0.0000e+00],\n",
       "         [ 0.0000e+00,  0.0000e+00, -1.7886e-02, -3.0319e-02, -5.5234e-02,\n",
       "          -8.8365e-02, -1.4924e-01, -2.2550e-01, -2.9916e-01, -3.8046e-01,\n",
       "          -4.6291e-01, -5.2782e-01, -5.6766e-01, -5.6009e-01, -5.2289e-01,\n",
       "          -4.6270e-01, -3.9230e-01, -3.2637e-01, -2.5595e-01, -1.9828e-01,\n",
       "          -1.4140e-01, -1.0343e-01, -7.5345e-02, -5.1741e-02, -3.1824e-02,\n",
       "          -1.8193e-02, -1.2911e-02,  0.0000e+00],\n",
       "         [ 0.0000e+00,  0.0000e+00,  0.0000e+00, -1.2911e-02, -2.9511e-02,\n",
       "          -4.9143e-02, -7.8366e-02, -1.1821e-01, -1.6896e-01, -2.1577e-01,\n",
       "          -2.6296e-01, -2.9467e-01, -3.0560e-01, -2.9955e-01, -2.8147e-01,\n",
       "          -2.5394e-01, -2.2454e-01, -1.9039e-01, -1.5630e-01, -1.2318e-01,\n",
       "          -8.8320e-02, -6.4422e-02, -4.9998e-02, -2.8616e-02, -2.3265e-02,\n",
       "          -1.2911e-02, -1.2911e-02,  0.0000e+00],\n",
       "         [ 0.0000e+00,  0.0000e+00,  0.0000e+00,  0.0000e+00, -1.4971e-02,\n",
       "          -3.0462e-02, -5.0573e-02, -7.6303e-02, -1.0492e-01, -1.3026e-01,\n",
       "          -1.5972e-01, -1.7478e-01, -1.8147e-01, -1.7495e-01, -1.5959e-01,\n",
       "          -1.3902e-01, -1.1854e-01, -1.0673e-01, -8.8302e-02, -7.8607e-02,\n",
       "          -5.5472e-02, -4.2591e-02, -2.4352e-02, -1.3191e-02,  0.0000e+00,\n",
       "           0.0000e+00,  0.0000e+00,  0.0000e+00],\n",
       "         [ 0.0000e+00,  0.0000e+00,  0.0000e+00,  0.0000e+00,  0.0000e+00,\n",
       "           0.0000e+00,  0.0000e+00, -1.9345e-02, -3.4170e-02, -4.1353e-02,\n",
       "          -4.4095e-02, -4.2658e-02, -4.9949e-02, -5.6413e-02, -5.8557e-02,\n",
       "          -5.2041e-02, -5.4328e-02, -4.1349e-02, -2.6952e-02, -1.6352e-02,\n",
       "          -1.2911e-02,  0.0000e+00,  0.0000e+00,  0.0000e+00,  0.0000e+00,\n",
       "           0.0000e+00,  0.0000e+00,  0.0000e+00]]])"
      ]
     },
     "execution_count": 155,
     "metadata": {},
     "output_type": "execute_result"
    }
   ],
   "source": [
    "cont_dataset2[0][0]"
   ]
  },
  {
   "cell_type": "code",
   "execution_count": null,
   "metadata": {},
   "outputs": [],
   "source": []
  }
 ],
 "metadata": {
  "kernelspec": {
   "display_name": "adv",
   "language": "python",
   "name": "python3"
  },
  "language_info": {
   "codemirror_mode": {
    "name": "ipython",
    "version": 3
   },
   "file_extension": ".py",
   "mimetype": "text/x-python",
   "name": "python",
   "nbconvert_exporter": "python",
   "pygments_lexer": "ipython3",
   "version": "3.9.18"
  }
 },
 "nbformat": 4,
 "nbformat_minor": 2
}
