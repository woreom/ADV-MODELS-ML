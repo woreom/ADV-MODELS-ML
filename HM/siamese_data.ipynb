{
 "cells": [
  {
   "cell_type": "code",
   "execution_count": 1,
   "id": "a7971ab1-b6dd-450a-9121-23f9b7e7257e",
   "metadata": {},
   "outputs": [],
   "source": [
    "import torch\n",
    "import torchvision\n",
    "from torchvision import transforms\n",
    "from torchvision.datasets import CIFAR10\n",
    "from torchvision import transforms"
   ]
  },
  {
   "cell_type": "code",
   "execution_count": 2,
   "id": "cf7e4236-5499-4370-a005-8c3323005999",
   "metadata": {},
   "outputs": [
    {
     "name": "stdout",
     "output_type": "stream",
     "text": [
      "Downloading https://www.cs.toronto.edu/~kriz/cifar-10-python.tar.gz to ./train/cifar-10-python.tar.gz\n"
     ]
    },
    {
     "name": "stderr",
     "output_type": "stream",
     "text": [
      "100%|██████████| 170498071/170498071 [00:11<00:00, 14603467.65it/s]\n"
     ]
    },
    {
     "name": "stdout",
     "output_type": "stream",
     "text": [
      "Extracting ./train/cifar-10-python.tar.gz to ./train/\n"
     ]
    }
   ],
   "source": [
    "train_transforms = transforms.Compose([\n",
    "  transforms.ToTensor(),\n",
    "  transforms.Normalize(\n",
    "      (0.4914, 0.4822, 0.4465),\n",
    "      (0.2023, 0.1994, 0.2010))])\n",
    "train_dataset = CIFAR10(root=\"./train/\",\n",
    "                    train=True, \n",
    "                    download=True,\n",
    "                       transform = train_transforms)\n",
    "length=len(train_dataset)"
   ]
  },
  {
   "cell_type": "code",
   "execution_count": 3,
   "id": "a9473028-a005-4648-a1c0-3414617bb6d7",
   "metadata": {},
   "outputs": [],
   "source": [
    "from torch.utils.data import Dataset, random_split\n",
    "\n",
    "train_data, _ = random_split(train_dataset, [int(length/10), length - int(length/10)], torch.Generator().manual_seed(42))"
   ]
  },
  {
   "cell_type": "code",
   "execution_count": 4,
   "id": "42de931c-968e-4d57-9920-8ad91149e7cc",
   "metadata": {},
   "outputs": [
    {
     "data": {
      "text/plain": [
       "5000"
      ]
     },
     "execution_count": 4,
     "metadata": {},
     "output_type": "execute_result"
    }
   ],
   "source": [
    "len(train_data.indices)"
   ]
  },
  {
   "cell_type": "code",
   "execution_count": 5,
   "id": "7721911f-21a3-472d-ab1e-56e6e50fbf4f",
   "metadata": {},
   "outputs": [
    {
     "data": {
      "text/plain": [
       "(32, 32, 3)"
      ]
     },
     "execution_count": 5,
     "metadata": {},
     "output_type": "execute_result"
    }
   ],
   "source": [
    "train_data.dataset.data[0].shape"
   ]
  },
  {
   "cell_type": "code",
   "execution_count": 6,
   "id": "66ba3bb4-e7cd-42f4-b225-35fe68ab39a7",
   "metadata": {},
   "outputs": [
    {
     "data": {
      "text/plain": [
       "array([[[ 59,  62,  63],\n",
       "        [ 43,  46,  45],\n",
       "        [ 50,  48,  43],\n",
       "        ...,\n",
       "        [158, 132, 108],\n",
       "        [152, 125, 102],\n",
       "        [148, 124, 103]],\n",
       "\n",
       "       [[ 16,  20,  20],\n",
       "        [  0,   0,   0],\n",
       "        [ 18,   8,   0],\n",
       "        ...,\n",
       "        [123,  88,  55],\n",
       "        [119,  83,  50],\n",
       "        [122,  87,  57]],\n",
       "\n",
       "       [[ 25,  24,  21],\n",
       "        [ 16,   7,   0],\n",
       "        [ 49,  27,   8],\n",
       "        ...,\n",
       "        [118,  84,  50],\n",
       "        [120,  84,  50],\n",
       "        [109,  73,  42]],\n",
       "\n",
       "       ...,\n",
       "\n",
       "       [[208, 170,  96],\n",
       "        [201, 153,  34],\n",
       "        [198, 161,  26],\n",
       "        ...,\n",
       "        [160, 133,  70],\n",
       "        [ 56,  31,   7],\n",
       "        [ 53,  34,  20]],\n",
       "\n",
       "       [[180, 139,  96],\n",
       "        [173, 123,  42],\n",
       "        [186, 144,  30],\n",
       "        ...,\n",
       "        [184, 148,  94],\n",
       "        [ 97,  62,  34],\n",
       "        [ 83,  53,  34]],\n",
       "\n",
       "       [[177, 144, 116],\n",
       "        [168, 129,  94],\n",
       "        [179, 142,  87],\n",
       "        ...,\n",
       "        [216, 184, 140],\n",
       "        [151, 118,  84],\n",
       "        [123,  92,  72]]], dtype=uint8)"
      ]
     },
     "execution_count": 6,
     "metadata": {},
     "output_type": "execute_result"
    }
   ],
   "source": [
    "train_data.dataset.data[0]"
   ]
  },
  {
   "cell_type": "code",
   "execution_count": 7,
   "id": "e51f7795-961d-41bb-8c77-876a6b254d71",
   "metadata": {},
   "outputs": [
    {
     "data": {
      "text/plain": [
       "5000"
      ]
     },
     "execution_count": 7,
     "metadata": {},
     "output_type": "execute_result"
    }
   ],
   "source": [
    "len(train_data)"
   ]
  },
  {
   "cell_type": "code",
   "execution_count": 8,
   "id": "b0c3129a-c0e5-4a66-8fc5-8fa6610414ba",
   "metadata": {},
   "outputs": [],
   "source": [
    "import pandas as pd\n",
    "df_t = pd.DataFrame(train_data.dataset.data[train_data.indices].reshape(5000,3072))"
   ]
  },
  {
   "cell_type": "code",
   "execution_count": 9,
   "id": "8e5a2c6d-20e2-47a9-ac3f-77637bcc1994",
   "metadata": {},
   "outputs": [
    {
     "data": {
      "text/plain": [
       "RangeIndex(start=0, stop=3072, step=1)"
      ]
     },
     "execution_count": 9,
     "metadata": {},
     "output_type": "execute_result"
    }
   ],
   "source": [
    "df_t.columns"
   ]
  },
  {
   "cell_type": "code",
   "execution_count": 10,
   "id": "20b576e4-2f8a-4649-9dd2-df70791f1ae0",
   "metadata": {},
   "outputs": [],
   "source": [
    "from sklearn.preprocessing import StandardScaler\n",
    "\n",
    "# create a scaler object\n",
    "std_scaler = StandardScaler()\n",
    "std_scaler\n",
    "# fit and transform the data\n",
    "df_std = pd.DataFrame(std_scaler.fit_transform(df_t), columns=df_t.columns)"
   ]
  },
  {
   "cell_type": "code",
   "execution_count": 11,
   "id": "94a4dc3b-8b51-4818-9fec-dd4875f372aa",
   "metadata": {},
   "outputs": [],
   "source": [
    "df_std.insert(0, 'label',[train_data.dataset.targets[i] for i in train_data.indices])"
   ]
  },
  {
   "cell_type": "code",
   "execution_count": 12,
   "id": "990da587-4334-4d43-83c7-ee7c11976dd8",
   "metadata": {},
   "outputs": [
    {
     "data": {
      "text/html": [
       "<div>\n",
       "<style scoped>\n",
       "    .dataframe tbody tr th:only-of-type {\n",
       "        vertical-align: middle;\n",
       "    }\n",
       "\n",
       "    .dataframe tbody tr th {\n",
       "        vertical-align: top;\n",
       "    }\n",
       "\n",
       "    .dataframe thead th {\n",
       "        text-align: right;\n",
       "    }\n",
       "</style>\n",
       "<table border=\"1\" class=\"dataframe\">\n",
       "  <thead>\n",
       "    <tr style=\"text-align: right;\">\n",
       "      <th></th>\n",
       "      <th>label</th>\n",
       "      <th>0</th>\n",
       "      <th>1</th>\n",
       "      <th>2</th>\n",
       "      <th>3</th>\n",
       "      <th>4</th>\n",
       "      <th>5</th>\n",
       "      <th>6</th>\n",
       "      <th>7</th>\n",
       "      <th>8</th>\n",
       "      <th>...</th>\n",
       "      <th>3062</th>\n",
       "      <th>3063</th>\n",
       "      <th>3064</th>\n",
       "      <th>3065</th>\n",
       "      <th>3066</th>\n",
       "      <th>3067</th>\n",
       "      <th>3068</th>\n",
       "      <th>3069</th>\n",
       "      <th>3070</th>\n",
       "      <th>3071</th>\n",
       "    </tr>\n",
       "  </thead>\n",
       "  <tbody>\n",
       "    <tr>\n",
       "      <th>0</th>\n",
       "      <td>6</td>\n",
       "      <td>-0.941713</td>\n",
       "      <td>-1.076758</td>\n",
       "      <td>-0.944543</td>\n",
       "      <td>-0.815551</td>\n",
       "      <td>-1.021071</td>\n",
       "      <td>-0.899195</td>\n",
       "      <td>-0.741065</td>\n",
       "      <td>-0.932752</td>\n",
       "      <td>-0.842170</td>\n",
       "      <td>...</td>\n",
       "      <td>-0.945781</td>\n",
       "      <td>-0.483259</td>\n",
       "      <td>-1.219043</td>\n",
       "      <td>-1.068914</td>\n",
       "      <td>-0.660450</td>\n",
       "      <td>-1.352511</td>\n",
       "      <td>-1.216152</td>\n",
       "      <td>-0.542450</td>\n",
       "      <td>-1.222633</td>\n",
       "      <td>-1.128947</td>\n",
       "    </tr>\n",
       "    <tr>\n",
       "      <th>1</th>\n",
       "      <td>2</td>\n",
       "      <td>0.716505</td>\n",
       "      <td>0.902495</td>\n",
       "      <td>0.403488</td>\n",
       "      <td>0.510508</td>\n",
       "      <td>0.684741</td>\n",
       "      <td>0.263607</td>\n",
       "      <td>0.231925</td>\n",
       "      <td>0.390780</td>\n",
       "      <td>0.072602</td>\n",
       "      <td>...</td>\n",
       "      <td>-0.370347</td>\n",
       "      <td>-0.342798</td>\n",
       "      <td>0.296203</td>\n",
       "      <td>-0.338593</td>\n",
       "      <td>-0.318699</td>\n",
       "      <td>0.332094</td>\n",
       "      <td>-0.335261</td>\n",
       "      <td>-0.373637</td>\n",
       "      <td>0.261707</td>\n",
       "      <td>-0.458209</td>\n",
       "    </tr>\n",
       "    <tr>\n",
       "      <th>2</th>\n",
       "      <td>8</td>\n",
       "      <td>0.458258</td>\n",
       "      <td>0.448917</td>\n",
       "      <td>0.490861</td>\n",
       "      <td>0.496695</td>\n",
       "      <td>0.488992</td>\n",
       "      <td>0.529030</td>\n",
       "      <td>0.509922</td>\n",
       "      <td>0.503421</td>\n",
       "      <td>0.542694</td>\n",
       "      <td>...</td>\n",
       "      <td>-0.370347</td>\n",
       "      <td>-1.045106</td>\n",
       "      <td>-0.958356</td>\n",
       "      <td>-0.556135</td>\n",
       "      <td>-1.033270</td>\n",
       "      <td>-0.996152</td>\n",
       "      <td>-0.597983</td>\n",
       "      <td>-1.094927</td>\n",
       "      <td>-1.078987</td>\n",
       "      <td>-0.671625</td>\n",
       "    </tr>\n",
       "    <tr>\n",
       "      <th>3</th>\n",
       "      <td>6</td>\n",
       "      <td>-1.512575</td>\n",
       "      <td>-1.654040</td>\n",
       "      <td>-1.506223</td>\n",
       "      <td>-1.520019</td>\n",
       "      <td>-1.650263</td>\n",
       "      <td>-1.505875</td>\n",
       "      <td>-1.547257</td>\n",
       "      <td>-1.693078</td>\n",
       "      <td>-1.528249</td>\n",
       "      <td>...</td>\n",
       "      <td>-0.619183</td>\n",
       "      <td>-0.795396</td>\n",
       "      <td>-0.876891</td>\n",
       "      <td>-0.882449</td>\n",
       "      <td>-0.784724</td>\n",
       "      <td>-0.850369</td>\n",
       "      <td>-0.922522</td>\n",
       "      <td>-0.665222</td>\n",
       "      <td>-0.727853</td>\n",
       "      <td>-0.824066</td>\n",
       "    </tr>\n",
       "    <tr>\n",
       "      <th>4</th>\n",
       "      <td>6</td>\n",
       "      <td>-1.349471</td>\n",
       "      <td>-1.076758</td>\n",
       "      <td>-1.356442</td>\n",
       "      <td>-1.257570</td>\n",
       "      <td>-1.049035</td>\n",
       "      <td>-1.215174</td>\n",
       "      <td>-0.518668</td>\n",
       "      <td>-0.270986</td>\n",
       "      <td>-0.829465</td>\n",
       "      <td>...</td>\n",
       "      <td>-0.930229</td>\n",
       "      <td>0.578005</td>\n",
       "      <td>0.556890</td>\n",
       "      <td>-0.618290</td>\n",
       "      <td>0.551214</td>\n",
       "      <td>0.542669</td>\n",
       "      <td>-0.412532</td>\n",
       "      <td>0.439732</td>\n",
       "      <td>0.469195</td>\n",
       "      <td>-0.488697</td>\n",
       "    </tr>\n",
       "    <tr>\n",
       "      <th>...</th>\n",
       "      <td>...</td>\n",
       "      <td>...</td>\n",
       "      <td>...</td>\n",
       "      <td>...</td>\n",
       "      <td>...</td>\n",
       "      <td>...</td>\n",
       "      <td>...</td>\n",
       "      <td>...</td>\n",
       "      <td>...</td>\n",
       "      <td>...</td>\n",
       "      <td>...</td>\n",
       "      <td>...</td>\n",
       "      <td>...</td>\n",
       "      <td>...</td>\n",
       "      <td>...</td>\n",
       "      <td>...</td>\n",
       "      <td>...</td>\n",
       "      <td>...</td>\n",
       "      <td>...</td>\n",
       "      <td>...</td>\n",
       "      <td>...</td>\n",
       "    </tr>\n",
       "    <tr>\n",
       "      <th>4995</th>\n",
       "      <td>9</td>\n",
       "      <td>-0.017460</td>\n",
       "      <td>0.421427</td>\n",
       "      <td>0.765460</td>\n",
       "      <td>-0.553102</td>\n",
       "      <td>-0.084273</td>\n",
       "      <td>0.339442</td>\n",
       "      <td>0.106826</td>\n",
       "      <td>0.686462</td>\n",
       "      <td>1.101721</td>\n",
       "      <td>...</td>\n",
       "      <td>-1.536768</td>\n",
       "      <td>-1.763020</td>\n",
       "      <td>-1.805590</td>\n",
       "      <td>-1.519538</td>\n",
       "      <td>-1.716773</td>\n",
       "      <td>-1.789860</td>\n",
       "      <td>-1.417057</td>\n",
       "      <td>-1.708790</td>\n",
       "      <td>-1.749335</td>\n",
       "      <td>-1.342363</td>\n",
       "    </tr>\n",
       "    <tr>\n",
       "      <th>4996</th>\n",
       "      <td>6</td>\n",
       "      <td>-0.724242</td>\n",
       "      <td>-0.788117</td>\n",
       "      <td>-0.882134</td>\n",
       "      <td>-0.235400</td>\n",
       "      <td>-0.307986</td>\n",
       "      <td>-0.431546</td>\n",
       "      <td>-0.115572</td>\n",
       "      <td>-0.172425</td>\n",
       "      <td>-0.321258</td>\n",
       "      <td>...</td>\n",
       "      <td>0.111774</td>\n",
       "      <td>-0.046268</td>\n",
       "      <td>0.002929</td>\n",
       "      <td>0.096493</td>\n",
       "      <td>0.349270</td>\n",
       "      <td>0.461679</td>\n",
       "      <td>0.561084</td>\n",
       "      <td>0.086760</td>\n",
       "      <td>0.118061</td>\n",
       "      <td>0.197285</td>\n",
       "    </tr>\n",
       "    <tr>\n",
       "      <th>4997</th>\n",
       "      <td>2</td>\n",
       "      <td>0.091275</td>\n",
       "      <td>-0.183345</td>\n",
       "      <td>-0.445272</td>\n",
       "      <td>0.137554</td>\n",
       "      <td>-0.140201</td>\n",
       "      <td>-0.393629</td>\n",
       "      <td>0.204125</td>\n",
       "      <td>-0.087944</td>\n",
       "      <td>-0.359373</td>\n",
       "      <td>...</td>\n",
       "      <td>-0.961334</td>\n",
       "      <td>0.375117</td>\n",
       "      <td>0.540597</td>\n",
       "      <td>-0.291976</td>\n",
       "      <td>0.691022</td>\n",
       "      <td>0.931424</td>\n",
       "      <td>0.082003</td>\n",
       "      <td>0.900129</td>\n",
       "      <td>1.123582</td>\n",
       "      <td>0.288750</td>\n",
       "    </tr>\n",
       "    <tr>\n",
       "      <th>4998</th>\n",
       "      <td>3</td>\n",
       "      <td>1.056304</td>\n",
       "      <td>0.586365</td>\n",
       "      <td>0.316116</td>\n",
       "      <td>1.063032</td>\n",
       "      <td>0.614830</td>\n",
       "      <td>0.339442</td>\n",
       "      <td>1.093716</td>\n",
       "      <td>0.672382</td>\n",
       "      <td>0.377527</td>\n",
       "      <td>...</td>\n",
       "      <td>-0.074853</td>\n",
       "      <td>0.390723</td>\n",
       "      <td>0.084394</td>\n",
       "      <td>-0.152128</td>\n",
       "      <td>0.395873</td>\n",
       "      <td>0.040528</td>\n",
       "      <td>-0.227081</td>\n",
       "      <td>0.393692</td>\n",
       "      <td>0.022297</td>\n",
       "      <td>-0.244792</td>\n",
       "    </tr>\n",
       "    <tr>\n",
       "      <th>4999</th>\n",
       "      <td>0</td>\n",
       "      <td>1.586390</td>\n",
       "      <td>1.507267</td>\n",
       "      <td>1.426994</td>\n",
       "      <td>1.587930</td>\n",
       "      <td>1.509682</td>\n",
       "      <td>1.426410</td>\n",
       "      <td>1.608011</td>\n",
       "      <td>1.531269</td>\n",
       "      <td>1.444761</td>\n",
       "      <td>...</td>\n",
       "      <td>-0.650288</td>\n",
       "      <td>0.421937</td>\n",
       "      <td>0.116980</td>\n",
       "      <td>-0.602751</td>\n",
       "      <td>0.395873</td>\n",
       "      <td>0.072924</td>\n",
       "      <td>-0.628891</td>\n",
       "      <td>0.378345</td>\n",
       "      <td>0.070179</td>\n",
       "      <td>-0.625893</td>\n",
       "    </tr>\n",
       "  </tbody>\n",
       "</table>\n",
       "<p>5000 rows × 3073 columns</p>\n",
       "</div>"
      ],
      "text/plain": [
       "      label         0         1         2         3         4         5  \\\n",
       "0         6 -0.941713 -1.076758 -0.944543 -0.815551 -1.021071 -0.899195   \n",
       "1         2  0.716505  0.902495  0.403488  0.510508  0.684741  0.263607   \n",
       "2         8  0.458258  0.448917  0.490861  0.496695  0.488992  0.529030   \n",
       "3         6 -1.512575 -1.654040 -1.506223 -1.520019 -1.650263 -1.505875   \n",
       "4         6 -1.349471 -1.076758 -1.356442 -1.257570 -1.049035 -1.215174   \n",
       "...     ...       ...       ...       ...       ...       ...       ...   \n",
       "4995      9 -0.017460  0.421427  0.765460 -0.553102 -0.084273  0.339442   \n",
       "4996      6 -0.724242 -0.788117 -0.882134 -0.235400 -0.307986 -0.431546   \n",
       "4997      2  0.091275 -0.183345 -0.445272  0.137554 -0.140201 -0.393629   \n",
       "4998      3  1.056304  0.586365  0.316116  1.063032  0.614830  0.339442   \n",
       "4999      0  1.586390  1.507267  1.426994  1.587930  1.509682  1.426410   \n",
       "\n",
       "             6         7         8  ...      3062      3063      3064  \\\n",
       "0    -0.741065 -0.932752 -0.842170  ... -0.945781 -0.483259 -1.219043   \n",
       "1     0.231925  0.390780  0.072602  ... -0.370347 -0.342798  0.296203   \n",
       "2     0.509922  0.503421  0.542694  ... -0.370347 -1.045106 -0.958356   \n",
       "3    -1.547257 -1.693078 -1.528249  ... -0.619183 -0.795396 -0.876891   \n",
       "4    -0.518668 -0.270986 -0.829465  ... -0.930229  0.578005  0.556890   \n",
       "...        ...       ...       ...  ...       ...       ...       ...   \n",
       "4995  0.106826  0.686462  1.101721  ... -1.536768 -1.763020 -1.805590   \n",
       "4996 -0.115572 -0.172425 -0.321258  ...  0.111774 -0.046268  0.002929   \n",
       "4997  0.204125 -0.087944 -0.359373  ... -0.961334  0.375117  0.540597   \n",
       "4998  1.093716  0.672382  0.377527  ... -0.074853  0.390723  0.084394   \n",
       "4999  1.608011  1.531269  1.444761  ... -0.650288  0.421937  0.116980   \n",
       "\n",
       "          3065      3066      3067      3068      3069      3070      3071  \n",
       "0    -1.068914 -0.660450 -1.352511 -1.216152 -0.542450 -1.222633 -1.128947  \n",
       "1    -0.338593 -0.318699  0.332094 -0.335261 -0.373637  0.261707 -0.458209  \n",
       "2    -0.556135 -1.033270 -0.996152 -0.597983 -1.094927 -1.078987 -0.671625  \n",
       "3    -0.882449 -0.784724 -0.850369 -0.922522 -0.665222 -0.727853 -0.824066  \n",
       "4    -0.618290  0.551214  0.542669 -0.412532  0.439732  0.469195 -0.488697  \n",
       "...        ...       ...       ...       ...       ...       ...       ...  \n",
       "4995 -1.519538 -1.716773 -1.789860 -1.417057 -1.708790 -1.749335 -1.342363  \n",
       "4996  0.096493  0.349270  0.461679  0.561084  0.086760  0.118061  0.197285  \n",
       "4997 -0.291976  0.691022  0.931424  0.082003  0.900129  1.123582  0.288750  \n",
       "4998 -0.152128  0.395873  0.040528 -0.227081  0.393692  0.022297 -0.244792  \n",
       "4999 -0.602751  0.395873  0.072924 -0.628891  0.378345  0.070179 -0.625893  \n",
       "\n",
       "[5000 rows x 3073 columns]"
      ]
     },
     "execution_count": 12,
     "metadata": {},
     "output_type": "execute_result"
    }
   ],
   "source": [
    "df_std "
   ]
  },
  {
   "cell_type": "markdown",
   "id": "55c1380c-bd6c-4330-aced-6b4a8988ae3b",
   "metadata": {},
   "source": [
    "### Now create a class that takes df_std and for each pair of an image datapoint and its label from Cifar10 it creates a new datapoint, which consists of two images, the original label and a new class label. \n",
    "### The new class  label will be  1 if the second image is of the same class as the original, otherwise 0\n"
   ]
  },
  {
   "cell_type": "code",
   "execution_count": 13,
   "id": "ca7d721d-994e-457e-9a99-5e3287dd383b",
   "metadata": {},
   "outputs": [
    {
     "name": "stderr",
     "output_type": "stream",
     "text": [
      "<>:49: SyntaxWarning: \"is not\" with a literal. Did you mean \"!=\"?\n",
      "<>:49: SyntaxWarning: \"is not\" with a literal. Did you mean \"!=\"?\n",
      "/tmp/ipykernel_2706926/1212003039.py:49: SyntaxWarning: \"is not\" with a literal. Did you mean \"!=\"?\n",
      "  if second is not -1:\n"
     ]
    }
   ],
   "source": [
    "from tqdm import tqdm\n",
    "import numpy as np\n",
    "class Cifar10_Cont_Dataset(Dataset):\n",
    "    def __init__(self, data_df: pd.DataFrame, transform=None, is_test=False):\n",
    "        # method will run once when class object is created.\n",
    "        super(Cifar10_Cont_Dataset, self).__init__()\n",
    "        dataset = []\n",
    "        labels_positive = {}\n",
    "        labels_negative = {}\n",
    "        if is_test == False:\n",
    "            # for each label create a set of same label images.\n",
    "            for i in list(data_df.label.unique()):\n",
    "                labels_positive[i] = data_df[data_df.label == i].to_numpy()\n",
    "            # for each label create a set of image of different label.\n",
    "            for i in list(data_df.label.unique()):\n",
    "                labels_negative[i] = data_df[data_df.label != i].to_numpy()\n",
    "\n",
    "        for i, row in tqdm(data_df.iterrows(), total=len(data_df)):\n",
    "            data = row.to_numpy()\n",
    "            # if test then only image will be returned.\n",
    "            if is_test:\n",
    "                label = -1\n",
    "                first = np.asarray(data[1:]).reshape(32, 32, 3)\n",
    "                second = -1\n",
    "                dis = -1\n",
    "            else:\n",
    "                # label and image of the index for each row in df\n",
    "                label = data[0]\n",
    "                first = np.asarray(data[1:]).reshape(32, 32, 3)\n",
    "                # probability of same label image == 0.5\n",
    "                if np.random.randint(0, 2) == 0:\n",
    "                    # randomly select same label image\n",
    "                    second = labels_positive[label][\n",
    "                        np.random.randint(0, len(labels_positive[label]))\n",
    "                    ]\n",
    "                else:\n",
    "                    # randomly select different(negative) label \n",
    "                    second = labels_negative[label][\n",
    "                        np.random.randint(0, len(labels_negative[label]))\n",
    "                    ]\n",
    "                # cosine is 1 for same and 0 for different label\n",
    "                dis = 1.0 if second[0] == label else 0.0\n",
    "                # reshape image\n",
    "                second = np.asarray(second[1:]).reshape(32, 32, 3)\n",
    "\n",
    "            # apply transform on both images\n",
    "            if transform != None:\n",
    "                first = transform(first.astype(np.float32))\n",
    "                if second is not -1:\n",
    "                    second = transform(second.astype(np.float32))\n",
    "\n",
    "            # append to dataset list. \n",
    "            # this random list is created once and used in every epoch\n",
    "            dataset.append((first, second, dis, label))\n",
    "        \n",
    "        self.dataset = dataset\n",
    "        self.transform = transform\n",
    "        self.is_test = is_test\n",
    "\n",
    "    def __len__(self):\n",
    "        return len(self.dataset)\n",
    "\n",
    "    def __getitem__(self, i):\n",
    "        return self.dataset[i]\n"
   ]
  },
  {
   "cell_type": "markdown",
   "id": "88fe9d90-3470-4a48-b046-5258c008e5fe",
   "metadata": {},
   "source": [
    "### instantiate with is-test = False"
   ]
  },
  {
   "cell_type": "code",
   "execution_count": 14,
   "id": "21d2e441-2f78-43ef-b485-2df1800bb29e",
   "metadata": {},
   "outputs": [
    {
     "name": "stderr",
     "output_type": "stream",
     "text": [
      "100%|██████████| 5000/5000 [00:01<00:00, 4506.40it/s]\n"
     ]
    }
   ],
   "source": [
    "train_transforms = transforms.Compose([\n",
    "  transforms.ToTensor(),\n",
    "  transforms.Normalize(\n",
    "      (0.4914, 0.4822, 0.4465),\n",
    "      (0.2023, 0.1994, 0.2010))])\n",
    "cont_dataset = Cifar10_Cont_Dataset(df_std, transform=train_transforms, is_test = False)\n",
    "#cont_dataset = Cifar10_Cont_Dataset(df_t, is_test = False)"
   ]
  },
  {
   "cell_type": "code",
   "execution_count": 15,
   "id": "22376f7c-3e8a-4fee-9422-ffe20286db04",
   "metadata": {},
   "outputs": [
    {
     "data": {
      "text/plain": [
       "torch.Size([3, 32, 32])"
      ]
     },
     "execution_count": 15,
     "metadata": {},
     "output_type": "execute_result"
    }
   ],
   "source": [
    "cont_dataset[0][0].shape"
   ]
  },
  {
   "cell_type": "code",
   "execution_count": 16,
   "id": "ee457dc2-259c-4764-af28-0514aba1dd2a",
   "metadata": {},
   "outputs": [
    {
     "data": {
      "text/plain": [
       "tensor([[[ -7.0841,  -6.4605,  -6.0923,  ...,  -6.1476,  -6.5350,  -7.3463],\n",
       "         [ -3.5005,  -3.8233,  -5.0501,  ...,  -5.8497,  -6.5094,  -7.1959],\n",
       "         [ -5.8465,  -6.7987,  -8.1248,  ...,  -4.9673,  -5.0353,  -5.7611],\n",
       "         ...,\n",
       "         [-11.8457, -11.7041, -12.1854,  ...,  -3.2720,  -4.0326,  -3.3694],\n",
       "         [-11.5026, -11.0329, -11.7083,  ...,  -2.9998,  -4.6399,  -5.1698],\n",
       "         [ -9.1725,  -9.1784,  -9.9514,  ...,  -4.8179,  -5.6938,  -5.1105]],\n",
       "\n",
       "        [[ -7.8182,  -7.5390,  -7.0960,  ...,  -7.5110,  -7.9014,  -8.5783],\n",
       "         [ -4.2149,  -4.8380,  -5.8821,  ...,  -6.9301,  -7.6794,  -8.3097],\n",
       "         [ -6.5374,  -7.6620,  -8.5823,  ...,  -5.8039,  -6.1011,  -6.8335],\n",
       "         ...,\n",
       "         [-11.1537, -11.5846, -11.1507,  ...,  -6.3141,  -8.0364,  -8.5971],\n",
       "         [-11.5988, -11.3726, -11.5786,  ...,  -6.3202,  -7.7961,  -8.8808],\n",
       "         [-10.1649, -10.5331, -11.1907,  ...,  -8.5318,  -9.2012,  -8.5498]],\n",
       "\n",
       "        [[ -6.9206,  -6.6950,  -6.4113,  ...,  -7.4258,  -7.5538,  -8.1148],\n",
       "         [ -3.3901,  -3.7848,  -5.0160,  ...,  -6.9819,  -7.3654,  -7.7633],\n",
       "         [ -5.9974,  -6.9617,  -8.3443,  ...,  -5.7603,  -5.7968,  -6.2803],\n",
       "         ...,\n",
       "         [ -8.7037,  -9.6712, -10.5278,  ...,  -5.9822,  -7.4428,  -8.5254],\n",
       "         [ -9.5236,  -9.4159,  -9.9757,  ...,  -5.7354,  -7.2159,  -8.4235],\n",
       "         [ -8.4634,  -8.6078,  -9.1820,  ...,  -7.5394,  -8.2719,  -7.8380]]])"
      ]
     },
     "execution_count": 16,
     "metadata": {},
     "output_type": "execute_result"
    }
   ],
   "source": [
    "cont_dataset[0][0]"
   ]
  },
  {
   "cell_type": "code",
   "execution_count": 17,
   "id": "03c20963-b314-4a57-b764-a5df5340e222",
   "metadata": {},
   "outputs": [
    {
     "name": "stderr",
     "output_type": "stream",
     "text": [
      "100%|██████████| 5000/5000 [00:00<00:00, 7726.35it/s]\n"
     ]
    }
   ],
   "source": [
    "train_transforms = transforms.Compose([\n",
    "  transforms.ToTensor(),\n",
    "])\n",
    "cont_dataset1 = Cifar10_Cont_Dataset(df_std, transform=train_transforms, is_test = False)\n",
    "#cont_dataset = Cifar10_Cont_Dataset(df_t, is_test = False)"
   ]
  },
  {
   "cell_type": "code",
   "execution_count": 18,
   "id": "d1da089f-0b48-46a8-a33a-e00f75c5988a",
   "metadata": {},
   "outputs": [
    {
     "data": {
      "text/plain": [
       "tensor([[[-0.9417, -0.8156, -0.7411,  ..., -0.7522, -0.8306, -0.9948],\n",
       "         [-0.2168, -0.2820, -0.5302,  ..., -0.6920, -0.8255, -0.9643],\n",
       "         [-0.6914, -0.8840, -1.1523,  ..., -0.5135, -0.5272, -0.6741],\n",
       "         ...,\n",
       "         [-1.9050, -1.8763, -1.9737,  ..., -0.1705, -0.3244, -0.1902],\n",
       "         [-1.8356, -1.7406, -1.8772,  ..., -0.1155, -0.4473, -0.5545],\n",
       "         [-1.3642, -1.3654, -1.5218,  ..., -0.4833, -0.6605, -0.5424]],\n",
       "\n",
       "        [[-1.0768, -1.0211, -0.9328,  ..., -1.0155, -1.0933, -1.2283],\n",
       "         [-0.3583, -0.4825, -0.6907,  ..., -0.8997, -1.0491, -1.1747],\n",
       "         [-0.8214, -1.0456, -1.2291,  ..., -0.6751, -0.7344, -0.8804],\n",
       "         ...,\n",
       "         [-1.7418, -1.8278, -1.7412,  ..., -0.7768, -1.1203, -1.2321],\n",
       "         [-1.8306, -1.7855, -1.8266,  ..., -0.7780, -1.0723, -1.2886],\n",
       "         [-1.5447, -1.6181, -1.7492,  ..., -1.2190, -1.3525, -1.2226]],\n",
       "\n",
       "        [[-0.9445, -0.8992, -0.8422,  ..., -1.0461, -1.0718, -1.1846],\n",
       "         [-0.2349, -0.3142, -0.5617,  ..., -0.9569, -1.0339, -1.1139],\n",
       "         [-0.7590, -0.9528, -1.2307,  ..., -0.7113, -0.7187, -0.8158],\n",
       "         ...,\n",
       "         [-1.3029, -1.4974, -1.6696,  ..., -0.7559, -1.0495, -1.2671],\n",
       "         [-1.4677, -1.4461, -1.5586,  ..., -0.7063, -1.0039, -1.2466],\n",
       "         [-1.2546, -1.2837, -1.3991,  ..., -1.0689, -1.2162, -1.1289]]])"
      ]
     },
     "execution_count": 18,
     "metadata": {},
     "output_type": "execute_result"
    }
   ],
   "source": [
    "cont_dataset1[0][0]"
   ]
  },
  {
   "cell_type": "code",
   "execution_count": 19,
   "id": "a46bacbd-f21d-46a1-8c08-759cb042c2ae",
   "metadata": {},
   "outputs": [
    {
     "name": "stderr",
     "output_type": "stream",
     "text": [
      "100%|██████████| 5000/5000 [00:01<00:00, 3513.52it/s]\n"
     ]
    }
   ],
   "source": [
    "train_transforms = transforms.Compose([\n",
    "  transforms.ToPILImage(\"RGB\"),\n",
    "  transforms.ToTensor(),\n",
    "  transforms.Normalize(\n",
    "      (0.4914, 0.4822, 0.4465),\n",
    "      (0.2023, 0.1994, 0.2010))])\n",
    "cont_dataset2 = Cifar10_Cont_Dataset(df_std, transform=train_transforms, is_test = False)"
   ]
  },
  {
   "cell_type": "code",
   "execution_count": 20,
   "id": "fdfbe9a8-0e39-44ff-ab34-933ebcc3619b",
   "metadata": {},
   "outputs": [
    {
     "data": {
      "text/plain": [
       "tensor([[[-1.9444,  1.2735,  0.2267,  ...,  1.2735,  0.5368,  0.6144],\n",
       "         [ 1.4285,  1.2735,  0.4787,  ...,  1.2735,  0.7113,  0.4593],\n",
       "         [-2.1577,  1.2735,  1.0602,  ...,  1.2735,  1.2153, -1.0140],\n",
       "         ...,\n",
       "         [ 0.3817,  1.2541,  0.9439,  ..., -1.2272,  0.4981, -0.0060],\n",
       "         [ 0.3430, -1.2272,  0.4787,  ...,  1.2735,  2.0876, -1.6537],\n",
       "         [ 2.1845,  1.2735,  1.6999,  ...,  1.2735,  1.1184, -0.2580]],\n",
       "\n",
       "        [[-2.0249, -1.4546,  1.3381,  ...,  1.8298,  1.3381,  0.2171],\n",
       "         [ 2.1838, -0.5106,  1.3381,  ..., -0.5892,  1.3381,  0.4138],\n",
       "         [-0.8842, -1.2579,  1.3381,  ...,  1.3774,  1.3381,  0.8858],\n",
       "         ...,\n",
       "         [ 0.4138,  0.5514,  1.3381,  ..., -0.6089, -1.1792,  1.7708],\n",
       "         [-2.3396, -1.9856, -1.1792,  ...,  2.1248,  1.3381,  1.1611],\n",
       "         [-0.1172, -2.1626,  1.3381,  ..., -0.2352,  1.3381,  0.7874]],\n",
       "\n",
       "        [[-0.0167,  1.8953,  0.7442,  ...,  0.5100,  0.4320,  1.5051],\n",
       "         [-0.1728, -0.5630, -0.6020,  ..., -1.0508,  2.7537,  1.5051],\n",
       "         [ 0.8417, -0.4655, -2.0848,  ..., -0.8557,  0.6466,  1.5051],\n",
       "         ...,\n",
       "         [-1.8312,  2.2855,  1.8563,  ...,  2.3635,  1.7587,  1.4856],\n",
       "         [ 1.8367,  0.0223, -0.9922,  ..., -0.6801, -0.6411,  1.5051],\n",
       "         [ 1.7002,  1.0173,  1.2514,  ..., -1.6166,  1.1539,  1.5051]]])"
      ]
     },
     "execution_count": 20,
     "metadata": {},
     "output_type": "execute_result"
    }
   ],
   "source": [
    "cont_dataset2[0][0]"
   ]
  },
  {
   "cell_type": "code",
   "execution_count": 21,
   "id": "d3cc9191-84cb-4419-951e-9455987c2c83",
   "metadata": {},
   "outputs": [
    {
     "name": "stderr",
     "output_type": "stream",
     "text": [
      "100%|██████████| 5000/5000 [00:01<00:00, 4953.41it/s]\n"
     ]
    }
   ],
   "source": [
    "train_transforms = transforms.Compose([\n",
    "  transforms.ToPILImage(\"RGB\"),\n",
    "  transforms.ToTensor(),\n",
    "])\n",
    "cont_dataset3 = Cifar10_Cont_Dataset(df_std, transform=train_transforms, is_test = False)"
   ]
  },
  {
   "cell_type": "code",
   "execution_count": 22,
   "id": "7c625d0d-5661-49cc-b816-4399e33761a8",
   "metadata": {},
   "outputs": [
    {
     "data": {
      "text/plain": [
       "tensor([[[0.0980, 0.7490, 0.5373,  ..., 0.7490, 0.6000, 0.6157],\n",
       "         [0.7804, 0.7490, 0.5882,  ..., 0.7490, 0.6353, 0.5843],\n",
       "         [0.0549, 0.7490, 0.7059,  ..., 0.7490, 0.7373, 0.2863],\n",
       "         ...,\n",
       "         [0.5686, 0.7451, 0.6824,  ..., 0.2431, 0.5922, 0.4902],\n",
       "         [0.5608, 0.2431, 0.5882,  ..., 0.7490, 0.9137, 0.1569],\n",
       "         [0.9333, 0.7490, 0.8353,  ..., 0.7490, 0.7176, 0.4392]],\n",
       "\n",
       "        [[0.0784, 0.1922, 0.7490,  ..., 0.8471, 0.7490, 0.5255],\n",
       "         [0.9176, 0.3804, 0.7490,  ..., 0.3647, 0.7490, 0.5647],\n",
       "         [0.3059, 0.2314, 0.7490,  ..., 0.7569, 0.7490, 0.6588],\n",
       "         ...,\n",
       "         [0.5647, 0.5922, 0.7490,  ..., 0.3608, 0.2471, 0.8353],\n",
       "         [0.0157, 0.0863, 0.2471,  ..., 0.9059, 0.7490, 0.7137],\n",
       "         [0.4588, 0.0510, 0.7490,  ..., 0.4353, 0.7490, 0.6392]],\n",
       "\n",
       "        [[0.4431, 0.8275, 0.5961,  ..., 0.5490, 0.5333, 0.7490],\n",
       "         [0.4118, 0.3333, 0.3255,  ..., 0.2353, 1.0000, 0.7490],\n",
       "         [0.6157, 0.3529, 0.0275,  ..., 0.2745, 0.5765, 0.7490],\n",
       "         ...,\n",
       "         [0.0784, 0.9059, 0.8196,  ..., 0.9216, 0.8000, 0.7451],\n",
       "         [0.8157, 0.4510, 0.2471,  ..., 0.3098, 0.3176, 0.7490],\n",
       "         [0.7882, 0.6510, 0.6980,  ..., 0.1216, 0.6784, 0.7490]]])"
      ]
     },
     "execution_count": 22,
     "metadata": {},
     "output_type": "execute_result"
    }
   ],
   "source": [
    "cont_dataset3[0][0]"
   ]
  },
  {
   "cell_type": "code",
   "execution_count": null,
   "id": "85c19067-52a4-40eb-aea5-76b262bd97a8",
   "metadata": {},
   "outputs": [],
   "source": []
  }
 ],
 "metadata": {
  "kernelspec": {
   "display_name": "Python 3 (ipykernel)",
   "language": "python",
   "name": "python3"
  },
  "language_info": {
   "codemirror_mode": {
    "name": "ipython",
    "version": 3
   },
   "file_extension": ".py",
   "mimetype": "text/x-python",
   "name": "python",
   "nbconvert_exporter": "python",
   "pygments_lexer": "ipython3",
   "version": "3.9.18"
  }
 },
 "nbformat": 4,
 "nbformat_minor": 5
}
