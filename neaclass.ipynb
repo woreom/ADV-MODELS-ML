{
  "cells": [
    {
      "cell_type": "code",
      "execution_count": 1,
      "id": "228f5af7-b9c8-4a1e-9abd-35a6e1b6d8d2",
      "metadata": {
        "id": "228f5af7-b9c8-4a1e-9abd-35a6e1b6d8d2"
      },
      "outputs": [],
      "source": [
        "import torch"
      ]
    },
    {
      "cell_type": "code",
      "source": [
        "from google.colab import drive\n",
        "drive.mount('/content/drive')"
      ],
      "metadata": {
        "id": "oEZsVgC01Tsc",
        "outputId": "b8d26236-6ccd-4622-fb83-46bff7b16854",
        "colab": {
          "base_uri": "https://localhost:8080/"
        }
      },
      "id": "oEZsVgC01Tsc",
      "execution_count": 2,
      "outputs": [
        {
          "output_type": "stream",
          "name": "stdout",
          "text": [
            "Mounted at /content/drive\n"
          ]
        }
      ]
    },
    {
      "cell_type": "code",
      "source": [
        "!git clone https://github.com/skokalj/RowanDLclassNEA.git"
      ],
      "metadata": {
        "id": "YkMQ0b0_1edO",
        "outputId": "bc19e913-1819-447b-a9fd-f357f004b651",
        "colab": {
          "base_uri": "https://localhost:8080/"
        }
      },
      "id": "YkMQ0b0_1edO",
      "execution_count": 3,
      "outputs": [
        {
          "output_type": "stream",
          "name": "stdout",
          "text": [
            "Cloning into 'RowanDLclassNEA'...\n",
            "remote: Enumerating objects: 1830, done.\u001b[K\n",
            "remote: Counting objects: 100% (4/4), done.\u001b[K\n",
            "remote: Compressing objects: 100% (4/4), done.\u001b[K\n",
            "remote: Total 1830 (delta 0), reused 3 (delta 0), pack-reused 1826\u001b[K\n",
            "Receiving objects: 100% (1830/1830), 57.56 MiB | 28.02 MiB/s, done.\n",
            "Resolving deltas: 100% (22/22), done.\n",
            "Updating files: 100% (3601/3601), done.\n"
          ]
        }
      ]
    },
    {
      "cell_type": "code",
      "source": [
        "%cd RowanDLclassNEA/"
      ],
      "metadata": {
        "id": "RZ6zeuAN2GM5",
        "outputId": "01442678-239c-4180-89e7-a71f92204d28",
        "colab": {
          "base_uri": "https://localhost:8080/"
        }
      },
      "id": "RZ6zeuAN2GM5",
      "execution_count": 4,
      "outputs": [
        {
          "output_type": "stream",
          "name": "stdout",
          "text": [
            "/content/RowanDLclassNEA\n"
          ]
        }
      ]
    },
    {
      "cell_type": "code",
      "source": [
        "!ls"
      ],
      "metadata": {
        "id": "oBK7rWwR2mIn",
        "outputId": "9e3068c8-0220-4245-96c2-0303a0f55d59",
        "colab": {
          "base_uri": "https://localhost:8080/"
        }
      },
      "id": "oBK7rWwR2mIn",
      "execution_count": 5,
      "outputs": [
        {
          "output_type": "stream",
          "name": "stdout",
          "text": [
            "NEUdata  NEUdata_split\n"
          ]
        }
      ]
    },
    {
      "cell_type": "code",
      "execution_count": null,
      "id": "3b2f1fd4-b6b0-4330-af80-24f4624e3393",
      "metadata": {
        "id": "3b2f1fd4-b6b0-4330-af80-24f4624e3393"
      },
      "outputs": [],
      "source": [
        "import os\n",
        "from PIL import Image\n",
        "from torchvision import transforms\n",
        "from torchvision.datasets import DatasetFolder\n",
        "import cv2\n",
        "import numpy as np\n",
        "\n",
        "\n",
        "def load_image(img_path:str):\n",
        "\n",
        "\n",
        "dset = DatasetFolder(root='NEUdata', loader = load_image, extensions = ('.bmp',))\n"
      ]
    },
    {
      "cell_type": "code",
      "execution_count": null,
      "id": "261970e1-3ee3-46ad-85ac-c2f071aea6b3",
      "metadata": {
        "id": "261970e1-3ee3-46ad-85ac-c2f071aea6b3",
        "outputId": "edaceb76-effb-4518-e6b6-c20fa66c2160",
        "colab": {
          "base_uri": "https://localhost:8080/"
        }
      },
      "outputs": [
        {
          "output_type": "execute_result",
          "data": {
            "text/plain": [
              "1800"
            ]
          },
          "metadata": {},
          "execution_count": 19
        }
      ],
      "source": [
        "len(dset)"
      ]
    },
    {
      "cell_type": "code",
      "execution_count": null,
      "id": "770c887a-22cf-47ac-86fd-c1654d065042",
      "metadata": {
        "id": "770c887a-22cf-47ac-86fd-c1654d065042",
        "outputId": "ff4cd329-ce24-42f2-956f-370b42595a12",
        "colab": {
          "base_uri": "https://localhost:8080/",
          "height": 217
        }
      },
      "outputs": [
        {
          "output_type": "execute_result",
          "data": {
            "text/plain": [
              "<PIL.Image.Image image mode=RGB size=200x200>"
            ],
            "image/png": "[encoded data removed]"
          },
          "metadata": {},
          "execution_count": 20
        }
      ],
      "source": [
        "dset[0][0]"
      ]
    },
    {
      "cell_type": "code",
      "execution_count": null,
      "id": "030bfd4e-ba02-4ee0-a0ba-73b128dcfada",
      "metadata": {
        "id": "030bfd4e-ba02-4ee0-a0ba-73b128dcfada",
        "outputId": "18c5014c-113f-4f1f-c2d6-08c62dca5e4a",
        "colab": {
          "base_uri": "https://localhost:8080/"
        }
      },
      "outputs": [
        {
          "output_type": "stream",
          "name": "stdout",
          "text": [
            "<class 'PIL.Image.Image'>\n"
          ]
        }
      ],
      "source": [
        "data, label = dset[0]\n",
        "print(type(data))"
      ]
    },
    {
      "cell_type": "code",
      "execution_count": null,
      "id": "c9ac283a-9708-4f30-8119-73a45e500e3d",
      "metadata": {
        "id": "c9ac283a-9708-4f30-8119-73a45e500e3d",
        "outputId": "81aa8fb0-797b-4ae6-9ed3-0b06ede11680",
        "colab": {
          "base_uri": "https://localhost:8080/"
        }
      },
      "outputs": [
        {
          "output_type": "stream",
          "name": "stdout",
          "text": [
            "<PIL.Image.Image image mode=RGB size=200x200 at 0x7948A112EE90>\n"
          ]
        }
      ],
      "source": [
        "print(data)"
      ]
    },
    {
      "cell_type": "markdown",
      "id": "cae08c8c-7d7b-4c7a-b1d6-9f0c53a83873",
      "metadata": {
        "id": "cae08c8c-7d7b-4c7a-b1d6-9f0c53a83873"
      },
      "source": [
        "#### I need to write transfrom to make it compatible with AlexNet"
      ]
    },
    {
      "cell_type": "code",
      "execution_count": null,
      "id": "4b7a2429-8769-459e-8fa2-d76ea098f7c7",
      "metadata": {
        "id": "4b7a2429-8769-459e-8fa2-d76ea098f7c7"
      },
      "outputs": [],
      "source": [
        "from torchvision import transforms\n",
        "\n",
        "transform = transforms.Compose([\n",
        "  transforms.Resize(256),\n",
        "  transforms.CenterCrop(224),\n",
        "  transforms.ToTensor(),\n",
        "  transforms.Normalize(\n",
        "      mean=[0.485, 0.456, 0.406],\n",
        "      std=[0.229, 0.224, 0.225])])\n",
        "\n",
        "dset = DatasetFolder(root='NEUdata', loader = load_image, extensions = ('.bmp',), transform = transform)"
      ]
    },
    {
      "cell_type": "code",
      "execution_count": null,
      "id": "5c626d8b-e903-4570-84a6-98ab02b6599d",
      "metadata": {
        "id": "5c626d8b-e903-4570-84a6-98ab02b6599d",
        "outputId": "894406f8-792b-4e21-a365-4d5ed24c523c",
        "colab": {
          "base_uri": "https://localhost:8080/"
        }
      },
      "outputs": [
        {
          "output_type": "stream",
          "name": "stdout",
          "text": [
            "75\n",
            "38\n"
          ]
        }
      ],
      "source": [
        "from torch.utils.data import random_split\n",
        "\n",
        "train_set, val_set = random_split(\n",
        "                      dset,\n",
        "                      [1200, 600])\n",
        "\n",
        "trainloader = torch.utils.data.DataLoader(\n",
        "                    train_set,\n",
        "                    batch_size=16,\n",
        "                    shuffle=True)\n",
        "\n",
        "valloader = torch.utils.data.DataLoader(\n",
        "                    val_set,\n",
        "                    batch_size=16,\n",
        "                    shuffle=True)\n",
        "\n",
        "print(len(trainloader))\n",
        "# out: 2500\n",
        "print(len(valloader))\n",
        "# out: 625"
      ]
    },
    {
      "cell_type": "code",
      "execution_count": null,
      "id": "225b3d92-faf6-4caf-b3b1-9a747f2cb4d7",
      "metadata": {
        "id": "225b3d92-faf6-4caf-b3b1-9a747f2cb4d7"
      },
      "outputs": [],
      "source": [
        "dd,ll = next(iter(trainloader))"
      ]
    },
    {
      "cell_type": "code",
      "execution_count": null,
      "id": "46aed697-caf4-4b96-ac3f-2f4b033e9bd8",
      "metadata": {
        "id": "46aed697-caf4-4b96-ac3f-2f4b033e9bd8",
        "outputId": "bf53b390-e686-4f4f-85ae-b9a45a5327e3",
        "colab": {
          "base_uri": "https://localhost:8080/"
        }
      },
      "outputs": [
        {
          "output_type": "execute_result",
          "data": {
            "text/plain": [
              "torch.Size([16, 3, 224, 224])"
            ]
          },
          "metadata": {},
          "execution_count": 26
        }
      ],
      "source": [
        "dd.shape"
      ]
    },
    {
      "cell_type": "code",
      "execution_count": null,
      "id": "8c0eba80-1b80-4b10-821a-bcf65537bb7d",
      "metadata": {
        "id": "8c0eba80-1b80-4b10-821a-bcf65537bb7d",
        "outputId": "0145b00e-60fc-4931-c3fe-127afad2db87",
        "colab": {
          "base_uri": "https://localhost:8080/"
        }
      },
      "outputs": [
        {
          "output_type": "stream",
          "name": "stdout",
          "text": [
            "tensor([[[[-0.5938, -0.5938, -0.5938,  ..., -0.3369, -0.3369, -0.3369],\n",
            "          [-0.5767, -0.5767, -0.5253,  ..., -0.3369, -0.3369, -0.3369],\n",
            "          [-0.5596, -0.5767, -0.5253,  ..., -0.3198, -0.3198, -0.3027],\n",
            "          ...,\n",
            "          [-0.3198, -0.3198, -0.2684,  ..., -0.1657, -0.1999, -0.2171],\n",
            "          [-0.2856, -0.2856, -0.2513,  ..., -0.1999, -0.1657, -0.1999],\n",
            "          [-0.3027, -0.2856, -0.2856,  ..., -0.1657, -0.1486, -0.1828]],\n",
            "\n",
            "         [[-0.4776, -0.4776, -0.4776,  ..., -0.2150, -0.2150, -0.2150],\n",
            "          [-0.4601, -0.4601, -0.4076,  ..., -0.2150, -0.2150, -0.2150],\n",
            "          [-0.4426, -0.4601, -0.4076,  ..., -0.1975, -0.1975, -0.1800],\n",
            "          ...,\n",
            "          [-0.1975, -0.1975, -0.1450,  ..., -0.0399, -0.0749, -0.0924],\n",
            "          [-0.1625, -0.1625, -0.1275,  ..., -0.0749, -0.0399, -0.0749],\n",
            "          [-0.1800, -0.1625, -0.1625,  ..., -0.0399, -0.0224, -0.0574]],\n",
            "\n",
            "         [[-0.2532, -0.2532, -0.2532,  ...,  0.0082,  0.0082,  0.0082],\n",
            "          [-0.2358, -0.2358, -0.1835,  ...,  0.0082,  0.0082,  0.0082],\n",
            "          [-0.2184, -0.2358, -0.1835,  ...,  0.0256,  0.0256,  0.0431],\n",
            "          ...,\n",
            "          [ 0.0256,  0.0256,  0.0779,  ...,  0.1825,  0.1476,  0.1302],\n",
            "          [ 0.0605,  0.0605,  0.0953,  ...,  0.1476,  0.1825,  0.1476],\n",
            "          [ 0.0431,  0.0605,  0.0605,  ...,  0.1825,  0.1999,  0.1651]]],\n",
            "\n",
            "\n",
            "        [[[ 0.8789,  0.7248,  0.7077,  ..., -0.0972,  0.1597, -0.0116],\n",
            "          [ 0.9988,  0.7077,  0.8104,  ..., -0.1828,  0.0398,  0.0227],\n",
            "          [ 0.7591,  0.6221,  1.2214,  ...,  0.0056,  0.0569,  0.0569],\n",
            "          ...,\n",
            "          [ 1.8208,  1.7523,  2.0434,  ...,  2.2318,  1.9578,  1.9235],\n",
            "          [ 1.9064,  1.5982,  1.8037,  ...,  2.2489,  2.1804,  2.1975],\n",
            "          [ 1.7865,  1.4440,  1.8722,  ...,  2.2489,  2.2489,  2.2489]],\n",
            "\n",
            "         [[ 1.0280,  0.8704,  0.8529,  ...,  0.0301,  0.2927,  0.1176],\n",
            "          [ 1.1506,  0.8529,  0.9580,  ..., -0.0574,  0.1702,  0.1527],\n",
            "          [ 0.9055,  0.7654,  1.3782,  ...,  0.1352,  0.1877,  0.1877],\n",
            "          ...,\n",
            "          [ 1.9909,  1.9209,  2.2185,  ...,  2.4111,  2.1310,  2.0959],\n",
            "          [ 2.0784,  1.7633,  1.9734,  ...,  2.4286,  2.3585,  2.3761],\n",
            "          [ 1.9559,  1.6057,  2.0434,  ...,  2.4286,  2.4286,  2.4286]],\n",
            "\n",
            "         [[ 1.2457,  1.0888,  1.0714,  ...,  0.2522,  0.5136,  0.3393],\n",
            "          [ 1.3677,  1.0714,  1.1759,  ...,  0.1651,  0.3916,  0.3742],\n",
            "          [ 1.1237,  0.9842,  1.5942,  ...,  0.3568,  0.4091,  0.4091],\n",
            "          ...,\n",
            "          [ 2.2043,  2.1346,  2.4308,  ...,  2.6226,  2.3437,  2.3088],\n",
            "          [ 2.2914,  1.9777,  2.1868,  ...,  2.6400,  2.5703,  2.5877],\n",
            "          [ 2.1694,  1.8208,  2.2566,  ...,  2.6400,  2.6400,  2.6400]]],\n",
            "\n",
            "\n",
            "        [[[ 0.6049,  0.6221,  0.5878,  ...,  0.6049,  0.6221,  0.6221],\n",
            "          [ 0.5707,  0.6049,  0.5364,  ...,  0.5364,  0.5707,  0.5878],\n",
            "          [ 0.5878,  0.6392,  0.6049,  ...,  0.5536,  0.6049,  0.5536],\n",
            "          ...,\n",
            "          [ 0.2453,  0.2796,  0.3138,  ...,  0.2624,  0.1768,  0.1939],\n",
            "          [ 0.2282,  0.2453,  0.2796,  ...,  0.2282,  0.2453,  0.2453],\n",
            "          [ 0.2453,  0.2453,  0.2624,  ...,  0.2282,  0.2453,  0.2453]],\n",
            "\n",
            "         [[ 0.7479,  0.7654,  0.7304,  ...,  0.7479,  0.7654,  0.7654],\n",
            "          [ 0.7129,  0.7479,  0.6779,  ...,  0.6779,  0.7129,  0.7304],\n",
            "          [ 0.7304,  0.7829,  0.7479,  ...,  0.6954,  0.7479,  0.6954],\n",
            "          ...,\n",
            "          [ 0.3803,  0.4153,  0.4503,  ...,  0.3978,  0.3102,  0.3277],\n",
            "          [ 0.3627,  0.3803,  0.4153,  ...,  0.3627,  0.3803,  0.3803],\n",
            "          [ 0.3803,  0.3803,  0.3978,  ...,  0.3627,  0.3803,  0.3803]],\n",
            "\n",
            "         [[ 0.9668,  0.9842,  0.9494,  ...,  0.9668,  0.9842,  0.9842],\n",
            "          [ 0.9319,  0.9668,  0.8971,  ...,  0.8971,  0.9319,  0.9494],\n",
            "          [ 0.9494,  1.0017,  0.9668,  ...,  0.9145,  0.9668,  0.9145],\n",
            "          ...,\n",
            "          [ 0.6008,  0.6356,  0.6705,  ...,  0.6182,  0.5311,  0.5485],\n",
            "          [ 0.5834,  0.6008,  0.6356,  ...,  0.5834,  0.6008,  0.6008],\n",
            "          [ 0.6008,  0.6008,  0.6182,  ...,  0.5834,  0.6008,  0.6008]]],\n",
            "\n",
            "\n",
            "        ...,\n",
            "\n",
            "\n",
            "        [[[-0.7308, -0.7993, -0.7993,  ..., -0.7137, -0.7308, -0.7137],\n",
            "          [-0.7308, -0.7822, -0.7822,  ..., -0.6794, -0.6965, -0.6794],\n",
            "          [-0.7308, -0.7479, -0.7479,  ..., -0.6452, -0.6623, -0.6794],\n",
            "          ...,\n",
            "          [-0.8678, -0.8507, -0.9192,  ..., -0.7822, -0.8678, -0.8849],\n",
            "          [-0.8335, -0.8849, -0.9192,  ..., -0.8164, -0.8335, -0.7993],\n",
            "          [-0.7993, -0.8678, -0.9020,  ..., -0.7993, -0.7479, -0.7650]],\n",
            "\n",
            "         [[-0.6176, -0.6877, -0.6877,  ..., -0.6001, -0.6176, -0.6001],\n",
            "          [-0.6176, -0.6702, -0.6702,  ..., -0.5651, -0.5826, -0.5651],\n",
            "          [-0.6176, -0.6352, -0.6352,  ..., -0.5301, -0.5476, -0.5651],\n",
            "          ...,\n",
            "          [-0.7577, -0.7402, -0.8102,  ..., -0.6702, -0.7577, -0.7752],\n",
            "          [-0.7227, -0.7752, -0.8102,  ..., -0.7052, -0.7227, -0.6877],\n",
            "          [-0.6877, -0.7577, -0.7927,  ..., -0.6877, -0.6352, -0.6527]],\n",
            "\n",
            "         [[-0.3927, -0.4624, -0.4624,  ..., -0.3753, -0.3927, -0.3753],\n",
            "          [-0.3927, -0.4450, -0.4450,  ..., -0.3404, -0.3578, -0.3404],\n",
            "          [-0.3927, -0.4101, -0.4101,  ..., -0.3055, -0.3230, -0.3404],\n",
            "          ...,\n",
            "          [-0.5321, -0.5147, -0.5844,  ..., -0.4450, -0.5321, -0.5495],\n",
            "          [-0.4973, -0.5495, -0.5844,  ..., -0.4798, -0.4973, -0.4624],\n",
            "          [-0.4624, -0.5321, -0.5670,  ..., -0.4624, -0.4101, -0.4275]]],\n",
            "\n",
            "\n",
            "        [[[ 2.1290,  2.1975,  2.1975,  ...,  1.2557,  1.3070,  1.3755],\n",
            "          [ 2.1633,  2.2489,  2.2147,  ...,  1.3413,  1.4440,  1.4612],\n",
            "          [ 2.1804,  2.2489,  2.2489,  ...,  1.2043,  1.3070,  1.3070],\n",
            "          ...,\n",
            "          [ 2.1633,  2.0777,  1.7865,  ...,  1.3242,  1.4612,  1.5810],\n",
            "          [ 2.1119,  2.0434,  1.7523,  ...,  1.3584,  1.4612,  1.6324],\n",
            "          [ 2.0092,  1.9578,  1.7865,  ...,  1.2728,  1.3755,  1.5810]],\n",
            "\n",
            "         [[ 2.3060,  2.3761,  2.3761,  ...,  1.4132,  1.4657,  1.5357],\n",
            "          [ 2.3410,  2.4286,  2.3936,  ...,  1.5007,  1.6057,  1.6232],\n",
            "          [ 2.3585,  2.4286,  2.4286,  ...,  1.3606,  1.4657,  1.4657],\n",
            "          ...,\n",
            "          [ 2.3410,  2.2535,  1.9559,  ...,  1.4832,  1.6232,  1.7458],\n",
            "          [ 2.2885,  2.2185,  1.9209,  ...,  1.5182,  1.6232,  1.7983],\n",
            "          [ 2.1835,  2.1310,  1.9559,  ...,  1.4307,  1.5357,  1.7458]],\n",
            "\n",
            "         [[ 2.5180,  2.5877,  2.5877,  ...,  1.6291,  1.6814,  1.7511],\n",
            "          [ 2.5529,  2.6400,  2.6051,  ...,  1.7163,  1.8208,  1.8383],\n",
            "          [ 2.5703,  2.6400,  2.6400,  ...,  1.5768,  1.6814,  1.6814],\n",
            "          ...,\n",
            "          [ 2.5529,  2.4657,  2.1694,  ...,  1.6988,  1.8383,  1.9603],\n",
            "          [ 2.5006,  2.4308,  2.1346,  ...,  1.7337,  1.8383,  2.0125],\n",
            "          [ 2.3960,  2.3437,  2.1694,  ...,  1.6465,  1.7511,  1.9603]]],\n",
            "\n",
            "\n",
            "        [[[ 2.1290,  2.1804,  2.2147,  ...,  1.7009,  1.4098,  1.3070],\n",
            "          [ 2.1633,  2.1290,  2.1804,  ...,  1.7352,  1.4098,  1.3927],\n",
            "          [ 2.2489,  2.2489,  2.2147,  ...,  1.7009,  1.3242,  1.4440],\n",
            "          ...,\n",
            "          [ 2.1119,  2.0948,  1.9064,  ...,  1.0844,  0.9646,  0.8447],\n",
            "          [ 1.9235,  1.9578,  1.8893,  ...,  1.0502,  0.8961,  0.6563],\n",
            "          [ 1.8550,  1.9235,  1.9064,  ...,  0.9817,  0.8104,  0.5364]],\n",
            "\n",
            "         [[ 2.3060,  2.3585,  2.3936,  ...,  1.8683,  1.5707,  1.4657],\n",
            "          [ 2.3410,  2.3060,  2.3585,  ...,  1.9034,  1.5707,  1.5532],\n",
            "          [ 2.4286,  2.4286,  2.3936,  ...,  1.8683,  1.4832,  1.6057],\n",
            "          ...,\n",
            "          [ 2.2885,  2.2710,  2.0784,  ...,  1.2381,  1.1155,  0.9930],\n",
            "          [ 2.0959,  2.1310,  2.0609,  ...,  1.2031,  1.0455,  0.8004],\n",
            "          [ 2.0259,  2.0959,  2.0784,  ...,  1.1331,  0.9580,  0.6779]],\n",
            "\n",
            "         [[ 2.5180,  2.5703,  2.6051,  ...,  2.0823,  1.7860,  1.6814],\n",
            "          [ 2.5529,  2.5180,  2.5703,  ...,  2.1171,  1.7860,  1.7685],\n",
            "          [ 2.6400,  2.6400,  2.6051,  ...,  2.0823,  1.6988,  1.8208],\n",
            "          ...,\n",
            "          [ 2.5006,  2.4831,  2.2914,  ...,  1.4548,  1.3328,  1.2108],\n",
            "          [ 2.3088,  2.3437,  2.2740,  ...,  1.4200,  1.2631,  1.0191],\n",
            "          [ 2.2391,  2.3088,  2.2914,  ...,  1.3502,  1.1759,  0.8971]]]])\n"
          ]
        }
      ],
      "source": [
        "print(dd)"
      ]
    },
    {
      "cell_type": "code",
      "execution_count": null,
      "id": "dfc177fa-4ef9-43b6-ac5e-ab08db53b67d",
      "metadata": {
        "id": "dfc177fa-4ef9-43b6-ac5e-ab08db53b67d"
      },
      "outputs": [],
      "source": []
    }
  ],
  "metadata": {
    "kernelspec": {
      "display_name": "Python 3 (ipykernel)",
      "language": "python",
      "name": "python3"
    },
    "language_info": {
      "codemirror_mode": {
        "name": "ipython",
        "version": 3
      },
      "file_extension": ".py",
      "mimetype": "text/x-python",
      "name": "python",
      "nbconvert_exporter": "python",
      "pygments_lexer": "ipython3",
      "version": "3.8.10"
    },
    "colab": {
      "provenance": []
    }
  },
  "nbformat": 4,
  "nbformat_minor": 5
}